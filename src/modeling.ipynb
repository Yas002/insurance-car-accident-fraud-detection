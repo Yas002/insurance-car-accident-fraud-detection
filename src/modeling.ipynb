{
 "cells": [
  {
   "cell_type": "code",
   "execution_count": 1,
   "metadata": {},
   "outputs": [
    {
     "name": "stderr",
     "output_type": "stream",
     "text": [
      "c:\\Users\\Yassine\\AppData\\Local\\Programs\\Python\\Python312\\Lib\\site-packages\\tqdm\\auto.py:21: TqdmWarning: IProgress not found. Please update jupyter and ipywidgets. See https://ipywidgets.readthedocs.io/en/stable/user_install.html\n",
      "  from .autonotebook import tqdm as notebook_tqdm\n"
     ]
    }
   ],
   "source": [
    "import numpy as np\n",
    "import pandas as pd\n",
    "import matplotlib.pyplot as plt\n",
    "import seaborn as sns\n",
    "import os\n",
    "from dotenv import load_dotenv\n",
    "import dagshub\n",
    "from sklearn.linear_model import LogisticRegression\n",
    "from sklearn.svm import SVC\n",
    "from sklearn.neighbors import KNeighborsClassifier\n",
    "from sklearn.ensemble import RandomForestClassifier\n",
    "import lightgbm as lgb\n",
    "import xgboost as xgb\n",
    "from catboost import CatBoostClassifier\n",
    "import optuna\n",
    "from optuna.samplers import TPESampler # bayesian optimizer for the selection of hyperparameters in optuna\t\n",
    "from sklearn.metrics import f1_score, roc_auc_score, accuracy_score, confusion_matrix\n",
    "import mlflow\n",
    "from mlflow.models import infer_signature\n",
    "import joblib"
   ]
  },
  {
   "cell_type": "code",
   "execution_count": 2,
   "metadata": {},
   "outputs": [
    {
     "name": "stdout",
     "output_type": "stream",
     "text": [
      "Environment variables loaded successfully:\n",
      "DagsHub Username: yassine_msaddak\n",
      "DagsHub Token: Loaded\n",
      "Using MLflow to track experiments on DagsHub repo: yassine_msaddak/insurance-car-accident-fraud-detection\n"
     ]
    }
   ],
   "source": [
    "# Load environment variables from the .env file\n",
    "load_dotenv(\"../.env\")\n",
    "\n",
    "# Set the DagsHub username and token from environment variables\n",
    "dagshub_username = os.getenv('MLFLOW_TRACKING_USERNAME')\n",
    "dagshub_token = os.getenv('MLFLOW_TRACKING_PASSWORD')\n",
    "\n",
    "# Print or assert to confirm the values are loaded\n",
    "if dagshub_username and dagshub_token:\n",
    "    print(\"Environment variables loaded successfully:\")\n",
    "    print(\"DagsHub Username:\", dagshub_username)\n",
    "    print(\"DagsHub Token:\", \"Loaded\" if dagshub_token else \"Not Loaded\")\n",
    "else:\n",
    "    print(\"Failed to load environment variables.\")\n",
    "\n",
    "# Set the MLflow tracking URI to your existing DagsHub repository\n",
    "mlflow.set_tracking_uri(f\"https://dagshub.com/yassine_msaddak/insurance-car-accident-fraud-detection.mlflow\")\n",
    "\n",
    "# Optionally authenticate with your DagsHub credentials\n",
    "os.environ['MLFLOW_TRACKING_USERNAME'] = dagshub_username\n",
    "os.environ['MLFLOW_TRACKING_PASSWORD'] = dagshub_token\n",
    "\n",
    "# Now you can log your model and experiments directly with MLflow\n",
    "print(f\"Using MLflow to track experiments on DagsHub repo: {dagshub_username}/insurance-car-accident-fraud-detection\")"
   ]
  },
  {
   "cell_type": "code",
   "execution_count": 3,
   "metadata": {},
   "outputs": [],
   "source": [
    "train_path = os.path.join(os.path.dirname(\"modeling.ipynb\"), '..', 'data', 'df_train_1.csv')\n",
    "test_path = os.path.join(os.path.dirname(\"modeling.ipynb\"), '..', 'data', 'df_test_1.csv')\n",
    "train = pd.read_csv(train_path)\n",
    "test = pd.read_csv(test_path)\n",
    "\n",
    "X_train = train.drop(columns=['FraudFound_P'])\n",
    "y_train = train['FraudFound_P']\n",
    "X_test = test.drop(columns=['FraudFound_P'])\n",
    "y_test = test['FraudFound_P']\n",
    "\n",
    "\n",
    "# Define the paths to the train and test CSV files for unbalanced data\n",
    "train_path_unbalanced = os.path.join(os.path.dirname(\"modeling.ipynb\"), '..', 'data', 'df_train_1_unbalanced.csv')\n",
    "test_path_unbalanced = os.path.join(os.path.dirname(\"modeling.ipynb\"), '..', 'data', 'df_test_1_unbalanced.csv')\n",
    "\n",
    "# Load the train and test datasets\n",
    "train_unbalanced = pd.read_csv(train_path_unbalanced)\n",
    "test_unbalanced = pd.read_csv(test_path_unbalanced)\n",
    "\n",
    "# Prepare the feature matrices (X) and target vectors (y)\n",
    "X_train_unbalanced = train_unbalanced.drop(columns=['FraudFound_P'])\n",
    "y_train_unbalanced = train_unbalanced['FraudFound_P']\n",
    "X_test_unbalanced = test_unbalanced.drop(columns=['FraudFound_P'])\n",
    "y_test_unbalanced = test_unbalanced['FraudFound_P']"
   ]
  },
  {
   "cell_type": "markdown",
   "metadata": {},
   "source": [
    "# Logistic Regression"
   ]
  },
  {
   "cell_type": "code",
   "execution_count": 4,
   "metadata": {},
   "outputs": [
    {
     "name": "stdout",
     "output_type": "stream",
     "text": [
      "Training Metrics:\n",
      "F1 Score: 0.8223158256683573\n",
      "ROC AUC Score: 0.9016281750091026\n",
      "Accuracy: 0.8217335058214748\n",
      "\n",
      "Test Metrics:\n",
      "F1 Score: 0.15121951219512195\n",
      "ROC AUC Score: 0.6668837709499322\n",
      "Accuracy: 0.77431906614786\n"
     ]
    }
   ],
   "source": [
    "# Create a new MLflow Experiment\n",
    "mlflow.set_experiment(\"insurance-fraud-detection-experiment\")\n",
    "\n",
    "params = {'max_iter':1500, 'solver':'liblinear', 'class_weight':'balanced', 'penalty':'l2', 'C':1.0,}\n",
    "# Initialize the Logistic Regression model with increased max_iter\n",
    "log_reg = LogisticRegression(**params)\n",
    "\n",
    "# Train the model\n",
    "log_reg.fit(X_train, y_train)\n",
    "\n",
    "# Make predictions on training data\n",
    "y_train_pred = log_reg.predict(X_train)\n",
    "y_train_pred_prob = log_reg.predict_proba(X_train)[:, 1]\n",
    "\n",
    "# Make predictions on test data\n",
    "y_test_pred = log_reg.predict(X_test)\n",
    "y_test_pred_prob = log_reg.predict_proba(X_test)[:, 1]\n",
    "\n",
    "# Evaluate the model on training data\n",
    "train_f1 = f1_score(y_train, y_train_pred)\n",
    "train_roc_auc = roc_auc_score(y_train, y_train_pred_prob)\n",
    "train_accuracy = accuracy_score(y_train, y_train_pred)\n",
    "\n",
    "# Evaluate the model on test data\n",
    "test_f1 = f1_score(y_test, y_test_pred)\n",
    "test_roc_auc = roc_auc_score(y_test, y_test_pred_prob)\n",
    "test_accuracy = accuracy_score(y_test, y_test_pred)\n",
    "\n",
    "print(\"Training Metrics:\")\n",
    "print(f\"F1 Score: {train_f1}\")\n",
    "print(f\"ROC AUC Score: {train_roc_auc}\")\n",
    "print(f\"Accuracy: {train_accuracy}\")\n",
    "\n",
    "print(\"\\nTest Metrics:\")\n",
    "print(f\"F1 Score: {test_f1}\")\n",
    "print(f\"ROC AUC Score: {test_roc_auc}\")\n",
    "print(f\"Accuracy: {test_accuracy}\")"
   ]
  },
  {
   "cell_type": "code",
   "execution_count": null,
   "metadata": {},
   "outputs": [],
   "source": [
    "# Log parameters and metrics with MLflow\n",
    "mlflow.log_params(params)\n",
    "mlflow.log_metric(\"train_accuracy\", train_accuracy)\n",
    "mlflow.log_metric(\"train_F1_Score\", train_f1)\n",
    "mlflow.log_metric(\"train_ROC_AUC_Score\", train_roc_auc)\n",
    "mlflow.log_metric(\"test_accuracy\", test_accuracy)\n",
    "mlflow.log_metric(\"test_F1_Score\", test_f1)\n",
    "mlflow.log_metric(\"test_ROC_AUC_Score\", test_roc_auc)\n",
    "\n",
    "# Set a tag for the run\n",
    "mlflow.set_tag(\"Training Info\", \"SVM model training\")\n",
    "\n",
    "# Infer the model signature\n",
    "signature = infer_signature(X_train, svm_model.predict(X_train))\n",
    "\n",
    "# Log the model\n",
    "model_info = mlflow.sklearn.log_model(\n",
    "    sk_model=log_reg,\n",
    "    artifact_path=\"insurance_fraud_model_svm\",\n",
    "    signature=signature,\n",
    "    input_example=X_train,\n",
    "    registered_model_name=\"logistic_regression\",\n",
    ")"
   ]
  },
  {
   "cell_type": "markdown",
   "metadata": {},
   "source": [
    "# SVM"
   ]
  },
  {
   "cell_type": "code",
   "execution_count": 5,
   "metadata": {},
   "outputs": [
    {
     "name": "stdout",
     "output_type": "stream",
     "text": [
      "Training Metrics:\n",
      "F1 Score: 0.8291204986149584\n",
      "ROC AUC Score: 0.9025885449545903\n",
      "Accuracy: 0.8297542043984476\n",
      "\n",
      "Test Metrics:\n",
      "F1 Score: 0.13648293963254593\n",
      "ROC AUC Score: 0.6624457554850387\n",
      "Accuracy: 0.7866407263294423\n"
     ]
    }
   ],
   "source": [
    "# Create a new MLflow Experiment\n",
    "mlflow.set_experiment(\"insurance-fraud-detection-experiment\")\n",
    "\n",
    "# Parameters for SVM\n",
    "params = {\n",
    "    'kernel': 'linear',\n",
    "    'C':5.4,\n",
    "    'max_iter': -1,\n",
    "    'probability': True\n",
    "}\n",
    "\n",
    "# Initialize the SVM model with the specified parameters\n",
    "svm_model = SVC(**params)\n",
    "\n",
    "# Train the model\n",
    "svm_model.fit(X_train, y_train)\n",
    "\n",
    "# Make predictions on training data\n",
    "y_train_pred = svm_model.predict(X_train)\n",
    "y_train_pred_prob = svm_model.predict_proba(X_train)[:, 1]\n",
    "\n",
    "# Make predictions on test data\n",
    "y_test_pred = svm_model.predict(X_test)\n",
    "y_test_pred_prob = svm_model.predict_proba(X_test)[:, 1]\n",
    "\n",
    "# Evaluate the model on training data\n",
    "train_f1 = f1_score(y_train, y_train_pred)\n",
    "train_roc_auc = roc_auc_score(y_train, y_train_pred_prob)\n",
    "train_accuracy = accuracy_score(y_train, y_train_pred)\n",
    "\n",
    "# Evaluate the model on test data\n",
    "test_f1 = f1_score(y_test, y_test_pred)\n",
    "test_roc_auc = roc_auc_score(y_test, y_test_pred_prob)\n",
    "test_accuracy = accuracy_score(y_test, y_test_pred)\n",
    "\n",
    "print(\"Training Metrics:\")\n",
    "print(f\"F1 Score: {train_f1}\")\n",
    "print(f\"ROC AUC Score: {train_roc_auc}\")\n",
    "print(f\"Accuracy: {train_accuracy}\")\n",
    "\n",
    "print(\"\\nTest Metrics:\")\n",
    "print(f\"F1 Score: {test_f1}\")\n",
    "print(f\"ROC AUC Score: {test_roc_auc}\")\n",
    "print(f\"Accuracy: {test_accuracy}\")"
   ]
  },
  {
   "cell_type": "code",
   "execution_count": null,
   "metadata": {},
   "outputs": [],
   "source": [
    "# Log parameters and metrics with MLflow\n",
    "mlflow.log_params(params)\n",
    "mlflow.log_metric(\"train_accuracy\", train_accuracy)\n",
    "mlflow.log_metric(\"train_F1_Score\", train_f1)\n",
    "mlflow.log_metric(\"train_ROC_AUC_Score\", train_roc_auc)\n",
    "mlflow.log_metric(\"test_accuracy\", test_accuracy)\n",
    "mlflow.log_metric(\"test_F1_Score\", test_f1)\n",
    "mlflow.log_metric(\"test_ROC_AUC_Score\", test_roc_auc)\n",
    "\n",
    "# Set a tag for the run\n",
    "mlflow.set_tag(\"Training Info\", \"SVM model training\")\n",
    "\n",
    "# Infer the model signature\n",
    "signature = infer_signature(X_train, svm_model.predict(X_train))\n",
    "\n",
    "# Log the model\n",
    "model_info = mlflow.sklearn.log_model(\n",
    "    sk_model=svm_model,\n",
    "    artifact_path=\"insurance_fraud_model_svm\",\n",
    "    signature=signature,\n",
    "    input_example=X_train,\n",
    "    registered_model_name=\"SVM_v2\",\n",
    ")"
   ]
  },
  {
   "cell_type": "markdown",
   "metadata": {},
   "source": [
    "# KNN"
   ]
  },
  {
   "cell_type": "code",
   "execution_count": 8,
   "metadata": {},
   "outputs": [
    {
     "name": "stdout",
     "output_type": "stream",
     "text": [
      "Training Metrics:\n",
      "F1 Score: 0.9947979885555748\n",
      "ROC AUC Score: 0.9988485914405537\n",
      "Accuracy: 0.9948253557567918\n",
      "\n",
      "Test Metrics:\n",
      "F1 Score: 0.12041884816753927\n",
      "ROC AUC Score: 0.5606819094069265\n",
      "Accuracy: 0.7821011673151751\n"
     ]
    }
   ],
   "source": [
    "# Create a new MLflow Experiment\n",
    "mlflow.set_experiment(\"insurance-fraud-detection-experiment\")\n",
    "\n",
    "# Parameters for KNN\n",
    "params = {\n",
    "    'n_neighbors': 2,\n",
    "    'p': 3\n",
    "}\n",
    "\n",
    "# Initialize the KNN model with the specified parameters\n",
    "knn_model = KNeighborsClassifier(**params)\n",
    "\n",
    "# Train the model\n",
    "knn_model.fit(X_train, y_train)\n",
    "\n",
    "# Make predictions on training data\n",
    "y_train_pred = knn_model.predict(X_train)\n",
    "y_train_pred_prob = knn_model.predict_proba(X_train)[:, 1]\n",
    "\n",
    "# Make predictions on test data\n",
    "y_test_pred = knn_model.predict(X_test)\n",
    "y_test_pred_prob = knn_model.predict_proba(X_test)[:, 1]\n",
    "\n",
    "# Evaluate the model on training data\n",
    "train_f1 = f1_score(y_train, y_train_pred)\n",
    "train_roc_auc = roc_auc_score(y_train, y_train_pred_prob)\n",
    "train_accuracy = accuracy_score(y_train, y_train_pred)\n",
    "\n",
    "# Evaluate the model on test data\n",
    "test_f1 = f1_score(y_test, y_test_pred)\n",
    "test_roc_auc = roc_auc_score(y_test, y_test_pred_prob)\n",
    "test_accuracy = accuracy_score(y_test, y_test_pred)\n",
    "\n",
    "print(\"Training Metrics:\")\n",
    "print(f\"F1 Score: {train_f1}\")\n",
    "print(f\"ROC AUC Score: {train_roc_auc}\")\n",
    "print(f\"Accuracy: {train_accuracy}\")\n",
    "\n",
    "print(\"\\nTest Metrics:\")\n",
    "print(f\"F1 Score: {test_f1}\")\n",
    "print(f\"ROC AUC Score: {test_roc_auc}\")\n",
    "print(f\"Accuracy: {test_accuracy}\")"
   ]
  },
  {
   "cell_type": "code",
   "execution_count": 9,
   "metadata": {},
   "outputs": [
    {
     "data": {
      "image/png": "[encoded data removed]",
      "text/plain": [
       "<Figure size 800x600 with 2 Axes>"
      ]
     },
     "metadata": {},
     "output_type": "display_data"
    }
   ],
   "source": [
    "# Plot confusion matrix for test data\n",
    "train_cm = confusion_matrix(y_test, y_test_pred)\n",
    "plt.figure(figsize=(8, 6))\n",
    "sns.heatmap(train_cm, annot=True, fmt='d', cmap='Blues')\n",
    "plt.title('Confusion Matrix - Test Data')\n",
    "plt.xlabel('Predicted')\n",
    "plt.ylabel('Actual')\n",
    "plt.show()"
   ]
  },
  {
   "cell_type": "code",
   "execution_count": null,
   "metadata": {},
   "outputs": [],
   "source": [
    "# Log parameters and metrics with MLflow\n",
    "mlflow.log_params(params)\n",
    "mlflow.log_metric(\"train_accuracy\", train_accuracy)\n",
    "mlflow.log_metric(\"train_F1_Score\", train_f1)\n",
    "mlflow.log_metric(\"train_ROC_AUC_Score\", train_roc_auc)\n",
    "mlflow.log_metric(\"test_accuracy\", test_accuracy)\n",
    "mlflow.log_metric(\"test_F1_Score\", test_f1)\n",
    "mlflow.log_metric(\"test_ROC_AUC_Score\", test_roc_auc)\n",
    "\n",
    "# Set a tag for the run\n",
    "mlflow.set_tag(\"Training Info\", \"KNN model training\")\n",
    "\n",
    "# Infer the model signature\n",
    "signature = infer_signature(X_train, knn_model.predict(X_train))\n",
    "\n",
    "# Log the model\n",
    "model_info = mlflow.sklearn.log_model(\n",
    "    sk_model=knn_model,\n",
    "    artifact_path=\"insurance_fraud_model_knn\",\n",
    "    signature=signature,\n",
    "    input_example=X_train,\n",
    "    registered_model_name=\"KNN_v2\",\n",
    ")"
   ]
  },
  {
   "cell_type": "markdown",
   "metadata": {},
   "source": [
    "# Random Forest"
   ]
  },
  {
   "cell_type": "code",
   "execution_count": 10,
   "metadata": {},
   "outputs": [
    {
     "name": "stdout",
     "output_type": "stream",
     "text": [
      "Training Metrics:\n",
      "F1 Score: 0.9947979885555748\n",
      "ROC AUC Score: 0.9988485914405537\n",
      "Accuracy: 0.9948253557567918\n",
      "\n",
      "Test Metrics:\n",
      "F1 Score: 0.14492753623188406\n",
      "ROC AUC Score: 0.7469157307200037\n",
      "Accuracy: 0.8852140077821011\n"
     ]
    }
   ],
   "source": [
    "# Create a new MLflow Experiment\n",
    "mlflow.set_experiment(\"insurance-fraud-detection-experiment\")\n",
    "\n",
    "# Parameters for Random Forest\n",
    "params = {\n",
    "    'n_estimators': 700,  # Number of trees in the forest\n",
    "    'min_samples_split': 2,  # Minimum number of samples required to split an internal node\n",
    "    'min_samples_leaf': 1,  # Minimum number of samples required to be at a leaf node\n",
    "}\n",
    "\n",
    "# Initialize the Random Forest model with the specified parameters\n",
    "rf_model = RandomForestClassifier(**params)\n",
    "\n",
    "# Train the model\n",
    "rf_model.fit(X_train, y_train)\n",
    "\n",
    "# Make predictions on test data\n",
    "y_test_pred = rf_model.predict(X_test)\n",
    "y_test_pred_prob = rf_model.predict_proba(X_test)[:, 1]\n",
    "\n",
    "# Evaluate the model on training data\n",
    "train_f1 = f1_score(y_train, y_train_pred)\n",
    "train_roc_auc = roc_auc_score(y_train, y_train_pred_prob)\n",
    "train_accuracy = accuracy_score(y_train, y_train_pred)\n",
    "\n",
    "# Evaluate the model on test data\n",
    "test_f1 = f1_score(y_test, y_test_pred)\n",
    "test_roc_auc = roc_auc_score(y_test, y_test_pred_prob)\n",
    "test_accuracy = accuracy_score(y_test, y_test_pred)\n",
    "\n",
    "print(\"Training Metrics:\")\n",
    "print(f\"F1 Score: {train_f1}\")\n",
    "print(f\"ROC AUC Score: {train_roc_auc}\")\n",
    "print(f\"Accuracy: {train_accuracy}\")\n",
    "\n",
    "print(\"\\nTest Metrics:\")\n",
    "print(f\"F1 Score: {test_f1}\")\n",
    "print(f\"ROC AUC Score: {test_roc_auc}\")\n",
    "print(f\"Accuracy: {test_accuracy}\")"
   ]
  },
  {
   "cell_type": "code",
   "execution_count": 11,
   "metadata": {},
   "outputs": [
    {
     "data": {
      "image/png": "[encoded data removed]",
      "text/plain": [
       "<Figure size 800x600 with 2 Axes>"
      ]
     },
     "metadata": {},
     "output_type": "display_data"
    }
   ],
   "source": [
    "# Plot confusion matrix for test data\n",
    "train_cm = confusion_matrix(y_test, y_test_pred)\n",
    "plt.figure(figsize=(8, 6))\n",
    "sns.heatmap(train_cm, annot=True, fmt='d', cmap='Blues')\n",
    "plt.title('Confusion Matrix - Test Data')\n",
    "plt.xlabel('Predicted')\n",
    "plt.ylabel('Actual')\n",
    "plt.show()"
   ]
  },
  {
   "cell_type": "code",
   "execution_count": null,
   "metadata": {},
   "outputs": [],
   "source": [
    "# Log parameters and metrics with MLflow\n",
    "mlflow.log_params(params)\n",
    "mlflow.log_metric(\"train_accuracy\", train_accuracy)\n",
    "mlflow.log_metric(\"train_F1_Score\", train_f1)\n",
    "mlflow.log_metric(\"train_ROC_AUC_Score\", train_roc_auc)\n",
    "mlflow.log_metric(\"test_accuracy\", test_accuracy)\n",
    "mlflow.log_metric(\"test_F1_Score\", test_f1)\n",
    "mlflow.log_metric(\"test_ROC_AUC_Score\", test_roc_auc)\n",
    "\n",
    "# Set a tag for the run\n",
    "mlflow.set_tag(\"Training Info\", \"Random Forest model training\")\n",
    "\n",
    "# Infer the model signature\n",
    "signature = infer_signature(X_train, rf_model.predict(X_train))\n",
    "\n",
    "# Log the model\n",
    "model_info = mlflow.sklearn.log_model(\n",
    "    sk_model=rf_model,\n",
    "    artifact_path=\"insurance_fraud_model_rf\",\n",
    "    signature=signature,\n",
    "    input_example=X_train,\n",
    "    registered_model_name=\"RandomForest_v1\",\n",
    ")"
   ]
  },
  {
   "cell_type": "markdown",
   "metadata": {},
   "source": [
    "# Lightgbm"
   ]
  },
  {
   "cell_type": "code",
   "execution_count": 12,
   "metadata": {},
   "outputs": [
    {
     "name": "stdout",
     "output_type": "stream",
     "text": [
      "[LightGBM] [Info] Number of positive: 5797, number of negative: 5798\n",
      "[LightGBM] [Info] Auto-choosing row-wise multi-threading, the overhead of testing was 0.002124 seconds.\n",
      "You can set `force_row_wise=true` to remove the overhead.\n",
      "And if memory is not enough, you can set `force_col_wise=true`.\n",
      "[LightGBM] [Info] Total Bins 159\n",
      "[LightGBM] [Info] Number of data points in the train set: 11595, number of used features: 21\n",
      "[LightGBM] [Info] [binary:BoostFromScore]: pavg=0.499957 -> initscore=-0.000172\n",
      "[LightGBM] [Info] Start training from score -0.000172\n",
      "Training Metrics:\n",
      "F1 Score: 0.8743063507442966\n",
      "ROC AUC Score: 0.9524928679611674\n",
      "Accuracy: 0.8769297110823631\n",
      "\n",
      "Test Metrics:\n",
      "F1 Score: 0.1773049645390071\n",
      "ROC AUC Score: 0.745366969350429\n",
      "Accuracy: 0.8495460440985733\n"
     ]
    }
   ],
   "source": [
    "# Create a new MLflow Experiment\n",
    "mlflow.set_experiment(\"insurance-fraud-detection-experiment\")\n",
    "params = {\n",
    "    'boosting_type': 'gbdt',\n",
    "    'objective': 'binary',\n",
    "    'metric': 'binary_logloss',\n",
    "    'num_leaves': 33,\n",
    "    'learning_rate': 0.01,\n",
    "    'n_estimators': 146\n",
    "}\n",
    "\n",
    "# Initialize the LightGBM model with the specified parameters\n",
    "lgb_model = lgb.LGBMClassifier(**params)\n",
    "\n",
    "# Train the model\n",
    "lgb_model.fit(X_train, y_train)\n",
    "\n",
    "# Make predictions on training data\n",
    "y_train_pred = lgb_model.predict(X_train)\n",
    "y_train_pred_prob = lgb_model.predict_proba(X_train)[:, 1]\n",
    "\n",
    "# Make predictions on test data\n",
    "y_test_pred = lgb_model.predict(X_test)\n",
    "y_test_pred_prob = lgb_model.predict_proba(X_test)[:, 1]\n",
    "\n",
    "# Evaluate the model on training data\n",
    "train_f1 = f1_score(y_train, y_train_pred)\n",
    "train_roc_auc = roc_auc_score(y_train, y_train_pred_prob)\n",
    "train_accuracy = accuracy_score(y_train, y_train_pred)\n",
    "\n",
    "# Evaluate the model on test data\n",
    "test_f1 = f1_score(y_test, y_test_pred)\n",
    "test_roc_auc = roc_auc_score(y_test, y_test_pred_prob)\n",
    "test_accuracy = accuracy_score(y_test, y_test_pred)\n",
    "\n",
    "print(\"Training Metrics:\")\n",
    "print(f\"F1 Score: {train_f1}\")\n",
    "print(f\"ROC AUC Score: {train_roc_auc}\")\n",
    "print(f\"Accuracy: {train_accuracy}\")\n",
    "\n",
    "print(\"\\nTest Metrics:\")\n",
    "print(f\"F1 Score: {test_f1}\")\n",
    "print(f\"ROC AUC Score: {test_roc_auc}\")\n",
    "print(f\"Accuracy: {test_accuracy}\")"
   ]
  },
  {
   "cell_type": "code",
   "execution_count": 14,
   "metadata": {},
   "outputs": [
    {
     "data": {
      "image/png": "[encoded data removed]",
      "text/plain": [
       "<Figure size 800x600 with 2 Axes>"
      ]
     },
     "metadata": {},
     "output_type": "display_data"
    }
   ],
   "source": [
    "# Plot confusion matrix for test data\n",
    "train_cm = confusion_matrix(y_test, y_test_pred)\n",
    "plt.figure(figsize=(8, 6))\n",
    "sns.heatmap(train_cm, annot=True, fmt='d', cmap='Blues')\n",
    "plt.title('Confusion Matrix - Training Data')\n",
    "plt.xlabel('Predicted')\n",
    "plt.ylabel('Actual')\n",
    "plt.show()"
   ]
  },
  {
   "cell_type": "markdown",
   "metadata": {},
   "source": [
    "# Lightgbm on unbalanced data"
   ]
  },
  {
   "cell_type": "code",
   "execution_count": 15,
   "metadata": {},
   "outputs": [
    {
     "name": "stdout",
     "output_type": "stream",
     "text": [
      "[LightGBM] [Info] Number of positive: 370, number of negative: 5798\n",
      "[LightGBM] [Info] Auto-choosing row-wise multi-threading, the overhead of testing was 0.000520 seconds.\n",
      "You can set `force_row_wise=true` to remove the overhead.\n",
      "And if memory is not enough, you can set `force_col_wise=true`.\n",
      "[LightGBM] [Info] Total Bins 156\n",
      "[LightGBM] [Info] Number of data points in the train set: 6168, number of used features: 21\n",
      "[LightGBM] [Info] [binary:BoostFromScore]: pavg=0.059987 -> initscore=-2.751765\n",
      "[LightGBM] [Info] Start training from score -2.751765\n",
      "Training Metrics:\n",
      "F1 Score: 0.06266318537859007\n",
      "ROC AUC Score: 0.9394495305930284\n",
      "Accuracy: 0.9417963683527886\n",
      "\n",
      "Test Metrics:\n",
      "F1 Score: 0.021739130434782608\n",
      "ROC AUC Score: 0.8212941434857356\n",
      "Accuracy: 0.9416342412451362\n"
     ]
    }
   ],
   "source": [
    "# Create a new MLflow Experiment\n",
    "mlflow.set_experiment(\"insurance-fraud-detection-experiment\")\n",
    "\n",
    "params = {\n",
    "    'boosting_type': 'gbdt',\n",
    "    'objective': 'binary',\n",
    "    'metric': 'binary_logloss',\n",
    "    'num_leaves': 32,\n",
    "    'learning_rate': 0.01,\n",
    "    'n_estimators': 150\n",
    "}\n",
    "\n",
    "# Initialize the LightGBM model with the specified parameters\n",
    "lgb_model = lgb.LGBMClassifier(**params)\n",
    "\n",
    "# Train the model\n",
    "lgb_model.fit(X_train_unbalanced, y_train_unbalanced)\n",
    "\n",
    "# Make predictions on training data\n",
    "y_train_pred = lgb_model.predict(X_train_unbalanced)\n",
    "y_train_pred_prob = lgb_model.predict_proba(X_train_unbalanced)[:, 1]\n",
    "\n",
    "# Make predictions on test data\n",
    "y_test_pred = lgb_model.predict(X_test_unbalanced)\n",
    "y_test_pred_prob = lgb_model.predict_proba(X_test_unbalanced)[:, 1]\n",
    "\n",
    "# Evaluate the model on training data\n",
    "train_f1 = f1_score(y_train_unbalanced, y_train_pred)\n",
    "train_roc_auc = roc_auc_score(y_train_unbalanced, y_train_pred_prob)\n",
    "train_accuracy = accuracy_score(y_train_unbalanced, y_train_pred)\n",
    "\n",
    "# Evaluate the model on test data\n",
    "test_f1 = f1_score(y_test_unbalanced, y_test_pred)\n",
    "test_roc_auc = roc_auc_score(y_test_unbalanced, y_test_pred_prob)\n",
    "test_accuracy = accuracy_score(y_test_unbalanced, y_test_pred)\n",
    "\n",
    "print(\"Training Metrics:\")\n",
    "print(f\"F1 Score: {train_f1}\")\n",
    "print(f\"ROC AUC Score: {train_roc_auc}\")\n",
    "print(f\"Accuracy: {train_accuracy}\")\n",
    "\n",
    "print(\"\\nTest Metrics:\")\n",
    "print(f\"F1 Score: {test_f1}\")\n",
    "print(f\"ROC AUC Score: {test_roc_auc}\")\n",
    "print(f\"Accuracy: {test_accuracy}\")"
   ]
  },
  {
   "cell_type": "code",
   "execution_count": 16,
   "metadata": {},
   "outputs": [
    {
     "data": {
      "image/png": "[encoded data removed]",
      "text/plain": [
       "<Figure size 800x600 with 2 Axes>"
      ]
     },
     "metadata": {},
     "output_type": "display_data"
    }
   ],
   "source": [
    "# Plot confusion matrix for training data\n",
    "train_cm = confusion_matrix(y_train_unbalanced, y_train_pred)\n",
    "plt.figure(figsize=(8, 6))\n",
    "sns.heatmap(train_cm, annot=True, fmt='d', cmap='Blues')\n",
    "plt.title('Confusion Matrix - Training Data')\n",
    "plt.xlabel('Predicted')\n",
    "plt.ylabel('Actual')\n",
    "plt.show()"
   ]
  },
  {
   "cell_type": "code",
   "execution_count": 63,
   "metadata": {},
   "outputs": [
    {
     "name": "stderr",
     "output_type": "stream",
     "text": [
      "c:\\Users\\Yassine\\AppData\\Local\\Programs\\Python\\Python312\\Lib\\site-packages\\mlflow\\types\\utils.py:407: UserWarning: Hint: Inferred schema contains integer column(s). Integer columns in Python cannot represent missing values. If your input data contains missing values at inference time, it will be encoded as floats and will cause a schema enforcement error. The best way to avoid this problem is to infer the model schema based on a realistic data sample (training dataset) that includes missing values. Alternatively, you can declare integer columns as doubles (float64) whenever these columns may have missing values. See `Handling Integers With Missing Values <https://www.mlflow.org/docs/latest/models.html#handling-integers-with-missing-values>`_ for more details.\n",
      "  warnings.warn(\n",
      "Successfully registered model 'LightGBM_v4'.\n",
      "2024/11/16 11:31:50 INFO mlflow.store.model_registry.abstract_store: Waiting up to 300 seconds for model version to finish creation. Model name: LightGBM_v4, version 1\n",
      "Created version '1' of model 'LightGBM_v4'.\n",
      "c:\\Users\\Yassine\\AppData\\Local\\Programs\\Python\\Python312\\Lib\\site-packages\\tqdm\\auto.py:21: TqdmWarning: IProgress not found. Please update jupyter and ipywidgets. See https://ipywidgets.readthedocs.io/en/stable/user_install.html\n",
      "  from .autonotebook import tqdm as notebook_tqdm\n",
      "Downloading artifacts: 100%|██████████| 7/7 [00:06<00:00,  1.02it/s]\n"
     ]
    }
   ],
   "source": [
    "# Log parameters and metrics with MLflow\n",
    "mlflow.log_params(params)\n",
    "mlflow.log_metric(\"train_accuracy\", train_accuracy)\n",
    "mlflow.log_metric(\"train_F1 Score\", train_f1)\n",
    "mlflow.log_metric(\"train_ROC AUC Score\", train_roc_auc)\n",
    "mlflow.log_metric(\"test_accuracy\", test_accuracy)\n",
    "mlflow.log_metric(\"test_F1 Score\", test_f1)\n",
    "mlflow.log_metric(\"test_ROC AUC Score\", test_roc_auc)\n",
    "\n",
    "# Set a tag for the run\n",
    "mlflow.set_tag(\"Training Info\", \"LightGBM model training\")\n",
    "\n",
    "# Infer the model signature\n",
    "signature = infer_signature(X_train, lgb_model.predict(X_train))\n",
    "\n",
    "# Log the model\n",
    "model_info = mlflow.lightgbm.log_model(\n",
    "    lgb_model,\n",
    "    artifact_path=\"insurance_fraud_model_lgb\",\n",
    "    signature=signature,\n",
    "    input_example=X_train,\n",
    "    registered_model_name=\"LightGBM_v4\",\n",
    ")"
   ]
  },
  {
   "cell_type": "markdown",
   "metadata": {},
   "source": [
    "# XGBoost on balanced data"
   ]
  },
  {
   "cell_type": "code",
   "execution_count": 17,
   "metadata": {},
   "outputs": [
    {
     "name": "stdout",
     "output_type": "stream",
     "text": [
      "Training Metrics:\n",
      "F1 Score: 0.9131463332206826\n",
      "ROC AUC Score: 0.9699593787820573\n",
      "Accuracy: 0.9113410952996982\n",
      "\n",
      "Test Metrics:\n",
      "F1 Score: 0.16718266253869968\n",
      "ROC AUC Score: 0.7518800978483955\n",
      "Accuracy: 0.8255512321660181\n"
     ]
    }
   ],
   "source": [
    "# Parameters for XGBoost\n",
    "params = {\n",
    "    'objective': 'binary:logistic',\n",
    "    'eval_metric': 'logloss',\n",
    "    'learning_rate': 0.05,\n",
    "    'max_depth': 6,\n",
    "    'n_estimators': 100,\n",
    "}\n",
    "\n",
    "# Initialize the XGBoost model with the specified parameters\n",
    "xgb_model = xgb.XGBClassifier(**params)\n",
    "\n",
    "# Train the model\n",
    "xgb_model.fit(X_train, y_train)\n",
    "\n",
    "# Make predictions on training data\n",
    "y_train_pred = xgb_model.predict(X_train)\n",
    "y_train_pred_prob = xgb_model.predict_proba(X_train)[:, 1]\n",
    "\n",
    "# Make predictions on test data\n",
    "y_test_pred = xgb_model.predict(X_test)\n",
    "y_test_pred_prob = xgb_model.predict_proba(X_test)[:, 1]\n",
    "\n",
    "# Evaluate the model on training data\n",
    "train_f1 = f1_score(y_train, y_train_pred)\n",
    "train_roc_auc = roc_auc_score(y_train, y_train_pred_prob)\n",
    "train_accuracy = accuracy_score(y_train, y_train_pred)\n",
    "\n",
    "# Evaluate the model on test data\n",
    "test_f1 = f1_score(y_test, y_test_pred)\n",
    "test_roc_auc = roc_auc_score(y_test, y_test_pred_prob)\n",
    "test_accuracy = accuracy_score(y_test, y_test_pred)\n",
    "\n",
    "print(\"Training Metrics:\")\n",
    "print(f\"F1 Score: {train_f1}\")\n",
    "print(f\"ROC AUC Score: {train_roc_auc}\")\n",
    "print(f\"Accuracy: {train_accuracy}\")\n",
    "\n",
    "print(\"\\nTest Metrics:\")\n",
    "print(f\"F1 Score: {test_f1}\")\n",
    "print(f\"ROC AUC Score: {test_roc_auc}\")\n",
    "print(f\"Accuracy: {test_accuracy}\")"
   ]
  },
  {
   "cell_type": "code",
   "execution_count": 18,
   "metadata": {},
   "outputs": [
    {
     "data": {
      "image/png": "[encoded data removed]",
      "text/plain": [
       "<Figure size 800x600 with 2 Axes>"
      ]
     },
     "metadata": {},
     "output_type": "display_data"
    }
   ],
   "source": [
    "# Plot confusion matrix for test data\n",
    "train_cm = confusion_matrix(y_test, y_test_pred)\n",
    "plt.figure(figsize=(8, 6))\n",
    "sns.heatmap(train_cm, annot=True, fmt='d', cmap='Blues')\n",
    "plt.title('Confusion Matrix - Test Data')\n",
    "plt.xlabel('Predicted')\n",
    "plt.ylabel('Actual')\n",
    "plt.show()"
   ]
  },
  {
   "cell_type": "markdown",
   "metadata": {},
   "source": [
    "# Modeling with Optuna\n",
    " - Optuna is an advanced hyperparameter optimization framework designed to streamline the tuning process in machine learning. It employs a Bayesian optimization approach, focusing on efficiency and automation by sampling hyperparameters intelligently based on past results. Unlike traditional methods like GridSearch, which exhaustively evaluates all parameter combinations, Optuna uses a more flexible and adaptive approach with its define-by-run API. This allows it to explore the hyperparameter space dynamically, saving computation time and resources. Additionally, Optuna supports pruning, which terminates underperforming trials early to focus on promising ones. While GridSearch is simple and systematic, making it easier to implement for smaller datasets or straightforward models, Optuna is more suitable for complex problems with large search spaces, where efficiency and scalability are crucial."
   ]
  },
  {
   "cell_type": "markdown",
   "metadata": {},
   "source": [
    "## Optuna framework on unbalanced data with boosting models"
   ]
  },
  {
   "cell_type": "code",
   "execution_count": 24,
   "metadata": {},
   "outputs": [],
   "source": [
    "def objective(trial):\n",
    "    classifier_name = trial.suggest_categorical('classifier', ['XGBoost', 'LightGBM', 'CatBoost'])\n",
    "    \n",
    "    if classifier_name == 'XGBoost':\n",
    "        learning_rate = trial.suggest_float('learning_rate', 0.01, 0.3)\n",
    "        max_depth = trial.suggest_int('max_depth', 3, 10)\n",
    "        n_estimators = trial.suggest_int('n_estimators', 25, 200)\n",
    "        classifier_obj = xgb.XGBClassifier(\n",
    "            objective='binary:logistic',\n",
    "            eval_metric='logloss',\n",
    "            learning_rate=learning_rate,\n",
    "            max_depth=max_depth,\n",
    "            n_estimators=n_estimators)\n",
    "    \n",
    "    elif classifier_name == 'LightGBM':\n",
    "        num_leaves = trial.suggest_int('lgb_num_leaves', 20, 70)\n",
    "        learning_rate = trial.suggest_float('lgb_learning_rate', 0.01, 0.3)\n",
    "        n_estimators = trial.suggest_int('lgb_n_estimators', 25, 200)\n",
    "        classifier_obj = lgb.LGBMClassifier(num_leaves=num_leaves, n_estimators=n_estimators, verbose=-1)\n",
    "    \n",
    "    elif classifier_name == 'CatBoost':\n",
    "        iterations = trial.suggest_int('cat_iterations', 50, 300)\n",
    "        learning_rate = trial.suggest_float('cat_learning_rate', 0.01, 0.3)\n",
    "        depth = trial.suggest_int('cat_depth', 2, 15)\n",
    "        classifier_obj = CatBoostClassifier(iterations=iterations, depth=depth, verbose=0)\n",
    "    \n",
    "    classifier_obj.fit(X_train_unbalanced, y_train_unbalanced)\n",
    "    y_prob = classifier_obj.predict_proba(X_test_unbalanced)[:, 1]\n",
    "    \n",
    "    # Threshold optimization\n",
    "    thresholds = np.arange(0.1, 0.9, 0.01)\n",
    "    best_threshold = 0.5\n",
    "    best_score = 0.0\n",
    "    \n",
    "    for threshold in thresholds:\n",
    "        y_pred = (y_prob >= threshold).astype(int)\n",
    "        score = f1_score(y_test_unbalanced, y_pred)\n",
    "        if score > best_score:\n",
    "            best_score = score\n",
    "            best_threshold = threshold\n",
    "    \n",
    "    trial.set_user_attr('best_threshold', best_threshold)\n",
    "    trial.set_user_attr('classifier_obj', classifier_obj)\n",
    "    return roc_auc_score(y_test, (y_prob >= best_threshold).astype(int))"
   ]
  },
  {
   "cell_type": "code",
   "execution_count": 25,
   "metadata": {},
   "outputs": [
    {
     "name": "stderr",
     "output_type": "stream",
     "text": [
      "[I 2024-11-22 23:48:51,857] A new study created in memory with name: no-name-97792bef-e445-408a-85de-56dc96278694\n",
      "[I 2024-11-22 23:48:52,728] Trial 0 finished with value: 0.6028847100521807 and parameters: {'classifier': 'LightGBM', 'lgb_num_leaves': 39, 'lgb_learning_rate': 0.013227431749560177, 'lgb_n_estimators': 183}. Best is trial 0 with value: 0.6028847100521807.\n",
      "[I 2024-11-22 23:48:53,467] Trial 1 finished with value: 0.6084170825728371 and parameters: {'classifier': 'XGBoost', 'learning_rate': 0.15539509973690707, 'max_depth': 10, 'n_estimators': 152}. Best is trial 1 with value: 0.6084170825728371.\n",
      "[I 2024-11-22 23:48:54,206] Trial 2 finished with value: 0.5782446361357457 and parameters: {'classifier': 'LightGBM', 'lgb_num_leaves': 44, 'lgb_learning_rate': 0.09821751757857755, 'lgb_n_estimators': 197}. Best is trial 1 with value: 0.6084170825728371.\n",
      "[I 2024-11-22 23:48:55,046] Trial 3 finished with value: 0.575832506569929 and parameters: {'classifier': 'LightGBM', 'lgb_num_leaves': 67, 'lgb_learning_rate': 0.13130203405047355, 'lgb_n_estimators': 164}. Best is trial 1 with value: 0.6084170825728371.\n",
      "[I 2024-11-22 23:48:57,843] Trial 4 finished with value: 0.6029225770783317 and parameters: {'classifier': 'CatBoost', 'cat_iterations': 99, 'cat_learning_rate': 0.0801318388572001, 'cat_depth': 12}. Best is trial 1 with value: 0.6084170825728371.\n",
      "[I 2024-11-22 23:48:58,884] Trial 5 finished with value: 0.6046265932551252 and parameters: {'classifier': 'CatBoost', 'cat_iterations': 125, 'cat_learning_rate': 0.04285343421265793, 'cat_depth': 6}. Best is trial 1 with value: 0.6084170825728371.\n",
      "[I 2024-11-22 23:49:02,356] Trial 6 finished with value: 0.5802553752243622 and parameters: {'classifier': 'CatBoost', 'cat_iterations': 201, 'cat_learning_rate': 0.11840448772010875, 'cat_depth': 11}. Best is trial 1 with value: 0.6084170825728371.\n",
      "[I 2024-11-22 23:49:03,100] Trial 7 finished with value: 0.6693943547837414 and parameters: {'classifier': 'XGBoost', 'learning_rate': 0.030333666802864076, 'max_depth': 8, 'n_estimators': 181}. Best is trial 7 with value: 0.6693943547837414.\n",
      "[I 2024-11-22 23:49:04,577] Trial 8 finished with value: 0.6094319188736831 and parameters: {'classifier': 'CatBoost', 'cat_iterations': 169, 'cat_learning_rate': 0.17029479771073863, 'cat_depth': 8}. Best is trial 7 with value: 0.6693943547837414.\n",
      "[I 2024-11-22 23:49:05,384] Trial 9 finished with value: 0.599802334123492 and parameters: {'classifier': 'LightGBM', 'lgb_num_leaves': 46, 'lgb_learning_rate': 0.06071294564004568, 'lgb_n_estimators': 173}. Best is trial 7 with value: 0.6693943547837414.\n",
      "[I 2024-11-22 23:49:06,054] Trial 10 finished with value: 0.7269825281541339 and parameters: {'classifier': 'XGBoost', 'learning_rate': 0.043109417391930874, 'max_depth': 6, 'n_estimators': 187}. Best is trial 10 with value: 0.7269825281541339.\n",
      "[I 2024-11-22 23:49:06,757] Trial 11 finished with value: 0.6115183920146015 and parameters: {'classifier': 'XGBoost', 'learning_rate': 0.022510311760898606, 'max_depth': 6, 'n_estimators': 200}. Best is trial 10 with value: 0.7269825281541339.\n",
      "[I 2024-11-22 23:49:07,286] Trial 12 finished with value: 0.6327504335774495 and parameters: {'classifier': 'XGBoost', 'learning_rate': 0.01832692527664087, 'max_depth': 8, 'n_estimators': 63}. Best is trial 10 with value: 0.7269825281541339.\n",
      "[I 2024-11-22 23:49:07,744] Trial 13 finished with value: 0.608799539536962 and parameters: {'classifier': 'XGBoost', 'learning_rate': 0.07164885281397232, 'max_depth': 3, 'n_estimators': 199}. Best is trial 10 with value: 0.7269825281541339.\n",
      "[I 2024-11-22 23:49:08,288] Trial 14 finished with value: 0.6062927424057679 and parameters: {'classifier': 'XGBoost', 'learning_rate': 0.24132005767975218, 'max_depth': 6, 'n_estimators': 137}. Best is trial 10 with value: 0.7269825281541339.\n",
      "[I 2024-11-22 23:49:09,168] Trial 15 finished with value: 0.6159223271559591 and parameters: {'classifier': 'XGBoost', 'learning_rate': 0.11372605532117312, 'max_depth': 8, 'n_estimators': 161}. Best is trial 10 with value: 0.7269825281541339.\n",
      "[I 2024-11-22 23:49:09,591] Trial 16 finished with value: 0.7359229330283775 and parameters: {'classifier': 'XGBoost', 'learning_rate': 0.09300159326437407, 'max_depth': 4, 'n_estimators': 104}. Best is trial 16 with value: 0.7359229330283775.\n",
      "[I 2024-11-22 23:49:09,992] Trial 17 finished with value: 0.6673836156951249 and parameters: {'classifier': 'XGBoost', 'learning_rate': 0.13900953763932808, 'max_depth': 4, 'n_estimators': 96}. Best is trial 16 with value: 0.7359229330283775.\n",
      "[I 2024-11-22 23:49:10,430] Trial 18 finished with value: 0.6327883006036004 and parameters: {'classifier': 'XGBoost', 'learning_rate': 0.0910109526039768, 'max_depth': 4, 'n_estimators': 110}. Best is trial 16 with value: 0.7359229330283775.\n",
      "[I 2024-11-22 23:49:10,791] Trial 19 finished with value: 0.7290122007558258 and parameters: {'classifier': 'XGBoost', 'learning_rate': 0.1856993337099171, 'max_depth': 5, 'n_estimators': 38}. Best is trial 16 with value: 0.7359229330283775.\n",
      "[I 2024-11-22 23:49:11,191] Trial 20 finished with value: 0.7187691701819889 and parameters: {'classifier': 'XGBoost', 'learning_rate': 0.20324010519802232, 'max_depth': 4, 'n_estimators': 41}. Best is trial 16 with value: 0.7359229330283775.\n",
      "[I 2024-11-22 23:49:11,548] Trial 21 finished with value: 0.6269492051711211 and parameters: {'classifier': 'XGBoost', 'learning_rate': 0.18911795630832506, 'max_depth': 5, 'n_estimators': 77}. Best is trial 16 with value: 0.7359229330283775.\n",
      "[I 2024-11-22 23:49:11,965] Trial 22 finished with value: 0.6879643444081762 and parameters: {'classifier': 'XGBoost', 'learning_rate': 0.06767967358404063, 'max_depth': 5, 'n_estimators': 30}. Best is trial 16 with value: 0.7359229330283775.\n",
      "[I 2024-11-22 23:49:12,522] Trial 23 finished with value: 0.5867836505327891 and parameters: {'classifier': 'XGBoost', 'learning_rate': 0.29390765025750376, 'max_depth': 7, 'n_estimators': 131}. Best is trial 16 with value: 0.7359229330283775.\n",
      "[I 2024-11-22 23:49:12,919] Trial 24 finished with value: 0.6834089411622147 and parameters: {'classifier': 'XGBoost', 'learning_rate': 0.11595739608113174, 'max_depth': 5, 'n_estimators': 67}. Best is trial 16 with value: 0.7359229330283775.\n",
      "[I 2024-11-22 23:49:13,292] Trial 25 finished with value: 0.7269825281541339 and parameters: {'classifier': 'XGBoost', 'learning_rate': 0.06079667925657887, 'max_depth': 3, 'n_estimators': 92}. Best is trial 16 with value: 0.7359229330283775.\n",
      "[I 2024-11-22 23:49:13,631] Trial 26 finished with value: 0.7379904726562203 and parameters: {'classifier': 'XGBoost', 'learning_rate': 0.1750935660898088, 'max_depth': 6, 'n_estimators': 45}. Best is trial 26 with value: 0.7379904726562203.\n",
      "[I 2024-11-22 23:49:14,000] Trial 27 finished with value: 0.6300315810998098 and parameters: {'classifier': 'XGBoost', 'learning_rate': 0.17942729324541815, 'max_depth': 7, 'n_estimators': 48}. Best is trial 26 with value: 0.7379904726562203.\n",
      "[I 2024-11-22 23:49:15,266] Trial 28 finished with value: 0.7070909793170304 and parameters: {'classifier': 'CatBoost', 'cat_iterations': 292, 'cat_learning_rate': 0.2949062522771956, 'cat_depth': 2}. Best is trial 26 with value: 0.7379904726562203.\n",
      "[I 2024-11-22 23:49:15,615] Trial 29 finished with value: 0.6821063154626215 and parameters: {'classifier': 'LightGBM', 'lgb_num_leaves': 21, 'lgb_learning_rate': 0.29361551679733233, 'lgb_n_estimators': 34}. Best is trial 26 with value: 0.7379904726562203.\n",
      "[I 2024-11-22 23:49:16,105] Trial 30 finished with value: 0.6509000992116086 and parameters: {'classifier': 'LightGBM', 'lgb_num_leaves': 62, 'lgb_learning_rate': 0.2374545666470823, 'lgb_n_estimators': 71}. Best is trial 26 with value: 0.7379904726562203.\n",
      "[I 2024-11-22 23:49:16,795] Trial 31 finished with value: 0.6916601661605107 and parameters: {'classifier': 'XGBoost', 'learning_rate': 0.2236043576915257, 'max_depth': 6, 'n_estimators': 50}. Best is trial 26 with value: 0.7379904726562203.\n",
      "[I 2024-11-22 23:49:17,246] Trial 32 finished with value: 0.6204587968888451 and parameters: {'classifier': 'XGBoost', 'learning_rate': 0.15382996987102887, 'max_depth': 5, 'n_estimators': 30}. Best is trial 26 with value: 0.7379904726562203.\n",
      "[I 2024-11-22 23:49:17,696] Trial 33 finished with value: 0.6415961708863157 and parameters: {'classifier': 'XGBoost', 'learning_rate': 0.2419532737895465, 'max_depth': 6, 'n_estimators': 86}. Best is trial 26 with value: 0.7379904726562203.\n",
      "[I 2024-11-22 23:49:18,147] Trial 34 finished with value: 0.607784703236116 and parameters: {'classifier': 'XGBoost', 'learning_rate': 0.04831394498972194, 'max_depth': 4, 'n_estimators': 112}. Best is trial 26 with value: 0.7379904726562203.\n",
      "[I 2024-11-22 23:49:18,586] Trial 35 finished with value: 0.6758847630660174 and parameters: {'classifier': 'XGBoost', 'learning_rate': 0.11815929444382153, 'max_depth': 7, 'n_estimators': 58}. Best is trial 26 with value: 0.7379904726562203.\n",
      "[I 2024-11-22 23:49:19,029] Trial 36 finished with value: 0.6402935451867223 and parameters: {'classifier': 'LightGBM', 'lgb_num_leaves': 20, 'lgb_learning_rate': 0.1989212016716976, 'lgb_n_estimators': 119}. Best is trial 26 with value: 0.7379904726562203.\n",
      "[I 2024-11-22 23:49:19,409] Trial 37 finished with value: 0.707818026219129 and parameters: {'classifier': 'XGBoost', 'learning_rate': 0.08949232143710363, 'max_depth': 5, 'n_estimators': 26}. Best is trial 26 with value: 0.7379904726562203.\n",
      "[I 2024-11-22 23:49:37,743] Trial 38 finished with value: 0.5785702925606441 and parameters: {'classifier': 'CatBoost', 'cat_iterations': 258, 'cat_learning_rate': 0.23701795240250634, 'cat_depth': 14}. Best is trial 26 with value: 0.7379904726562203.\n",
      "[I 2024-11-22 23:49:38,441] Trial 39 finished with value: 0.6141804439530145 and parameters: {'classifier': 'XGBoost', 'learning_rate': 0.17013634667377286, 'max_depth': 6, 'n_estimators': 127}. Best is trial 26 with value: 0.7379904726562203.\n",
      "[I 2024-11-22 23:49:39,019] Trial 40 finished with value: 0.6913534432486879 and parameters: {'classifier': 'CatBoost', 'cat_iterations': 58, 'cat_learning_rate': 0.1842333152471583, 'cat_depth': 2}. Best is trial 26 with value: 0.7379904726562203.\n",
      "[I 2024-11-22 23:49:39,469] Trial 41 finished with value: 0.7396755553199384 and parameters: {'classifier': 'XGBoost', 'learning_rate': 0.04913511807413133, 'max_depth': 3, 'n_estimators': 95}. Best is trial 41 with value: 0.7396755553199384.\n",
      "[I 2024-11-22 23:49:39,973] Trial 42 finished with value: 0.7293757242068751 and parameters: {'classifier': 'XGBoost', 'learning_rate': 0.048695263047974315, 'max_depth': 3, 'n_estimators': 105}. Best is trial 41 with value: 0.7396755553199384.\n",
      "[I 2024-11-22 23:49:40,453] Trial 43 finished with value: 0.7098098317946698 and parameters: {'classifier': 'XGBoost', 'learning_rate': 0.2067624939387618, 'max_depth': 3, 'n_estimators': 105}. Best is trial 41 with value: 0.7396755553199384.\n",
      "[I 2024-11-22 23:49:41,017] Trial 44 finished with value: 0.6122265054036246 and parameters: {'classifier': 'XGBoost', 'learning_rate': 0.08709764151442718, 'max_depth': 3, 'n_estimators': 76}. Best is trial 41 with value: 0.7396755553199384.\n",
      "[I 2024-11-22 23:49:41,697] Trial 45 finished with value: 0.6046076597420498 and parameters: {'classifier': 'LightGBM', 'lgb_num_leaves': 55, 'lgb_learning_rate': 0.1891370035176442, 'lgb_n_estimators': 120}. Best is trial 41 with value: 0.7396755553199384.\n",
      "[I 2024-11-22 23:49:42,301] Trial 46 finished with value: 0.6402556781605713 and parameters: {'classifier': 'XGBoost', 'learning_rate': 0.15135193300663008, 'max_depth': 4, 'n_estimators': 146}. Best is trial 41 with value: 0.7396755553199384.\n",
      "[I 2024-11-22 23:49:42,874] Trial 47 finished with value: 0.7149976143773525 and parameters: {'classifier': 'XGBoost', 'learning_rate': 0.138659933934749, 'max_depth': 3, 'n_estimators': 119}. Best is trial 41 with value: 0.7396755553199384.\n",
      "[I 2024-11-22 23:49:43,583] Trial 48 finished with value: 0.6389151854348271 and parameters: {'classifier': 'XGBoost', 'learning_rate': 0.036727878421583836, 'max_depth': 10, 'n_estimators': 88}. Best is trial 41 with value: 0.7396755553199384.\n",
      "[I 2024-11-22 23:50:13,337] Trial 49 finished with value: 0.5799297187994638 and parameters: {'classifier': 'CatBoost', 'cat_iterations': 211, 'cat_learning_rate': 0.012907183983360548, 'cat_depth': 15}. Best is trial 41 with value: 0.7396755553199384.\n",
      "[I 2024-11-22 23:50:13,910] Trial 50 finished with value: 0.7465105535401882 and parameters: {'classifier': 'XGBoost', 'learning_rate': 0.07425243909914589, 'max_depth': 4, 'n_estimators': 97}. Best is trial 50 with value: 0.7465105535401882.\n",
      "[I 2024-11-22 23:50:14,511] Trial 51 finished with value: 0.6040131474314797 and parameters: {'classifier': 'XGBoost', 'learning_rate': 0.05778468424508959, 'max_depth': 4, 'n_estimators': 102}. Best is trial 50 with value: 0.7465105535401882.\n",
      "[I 2024-11-22 23:50:14,981] Trial 52 finished with value: 0.613260275217546 and parameters: {'classifier': 'XGBoost', 'learning_rate': 0.07994534974527882, 'max_depth': 3, 'n_estimators': 81}. Best is trial 50 with value: 0.7465105535401882.\n",
      "[I 2024-11-22 23:50:15,441] Trial 53 finished with value: 0.7191894941722647 and parameters: {'classifier': 'XGBoost', 'learning_rate': 0.01534519026677525, 'max_depth': 4, 'n_estimators': 121}. Best is trial 50 with value: 0.7465105535401882.\n",
      "[I 2024-11-22 23:50:15,965] Trial 54 finished with value: 0.7119720389878901 and parameters: {'classifier': 'XGBoost', 'learning_rate': 0.03835529324653429, 'max_depth': 3, 'n_estimators': 97}. Best is trial 50 with value: 0.7465105535401882.\n",
      "[I 2024-11-22 23:50:16,378] Trial 55 finished with value: 0.723192038836422 and parameters: {'classifier': 'XGBoost', 'learning_rate': 0.10688887836641223, 'max_depth': 5, 'n_estimators': 70}. Best is trial 50 with value: 0.7465105535401882.\n",
      "[I 2024-11-22 23:50:16,743] Trial 56 finished with value: 0.7188449042342909 and parameters: {'classifier': 'XGBoost', 'learning_rate': 0.029885516245410686, 'max_depth': 4, 'n_estimators': 42}. Best is trial 50 with value: 0.7465105535401882.\n",
      "[I 2024-11-22 23:50:17,235] Trial 57 finished with value: 0.6194250270749236 and parameters: {'classifier': 'XGBoost', 'learning_rate': 0.05238622527840793, 'max_depth': 3, 'n_estimators': 159}. Best is trial 50 with value: 0.7465105535401882.\n",
      "[I 2024-11-22 23:50:17,660] Trial 58 finished with value: 0.720454252845707 and parameters: {'classifier': 'XGBoost', 'learning_rate': 0.16883842366812996, 'max_depth': 4, 'n_estimators': 59}. Best is trial 50 with value: 0.7465105535401882.\n",
      "[I 2024-11-22 23:50:18,035] Trial 59 finished with value: 0.665316076067282 and parameters: {'classifier': 'LightGBM', 'lgb_num_leaves': 32, 'lgb_learning_rate': 0.2713992067938142, 'lgb_n_estimators': 31}. Best is trial 50 with value: 0.7465105535401882.\n",
      "[I 2024-11-22 23:50:18,485] Trial 60 finished with value: 0.7245893321013926 and parameters: {'classifier': 'XGBoost', 'learning_rate': 0.09871900276662016, 'max_depth': 5, 'n_estimators': 103}. Best is trial 50 with value: 0.7465105535401882.\n",
      "[I 2024-11-22 23:50:19,052] Trial 61 finished with value: 0.6512636226626578 and parameters: {'classifier': 'XGBoost', 'learning_rate': 0.0695320312097746, 'max_depth': 6, 'n_estimators': 177}. Best is trial 50 with value: 0.7465105535401882.\n",
      "[I 2024-11-22 23:50:19,604] Trial 62 finished with value: 0.703319423512394 and parameters: {'classifier': 'XGBoost', 'learning_rate': 0.042827540563086644, 'max_depth': 5, 'n_estimators': 183}. Best is trial 50 with value: 0.7465105535401882.\n",
      "[I 2024-11-22 23:50:20,158] Trial 63 finished with value: 0.6125710953415984 and parameters: {'classifier': 'XGBoost', 'learning_rate': 0.016178264825326243, 'max_depth': 6, 'n_estimators': 142}. Best is trial 50 with value: 0.7465105535401882.\n",
      "[I 2024-11-22 23:50:20,606] Trial 64 finished with value: 0.7489416166190805 and parameters: {'classifier': 'XGBoost', 'learning_rate': 0.07069091194562278, 'max_depth': 4, 'n_estimators': 118}. Best is trial 64 with value: 0.7489416166190805.\n",
      "[I 2024-11-22 23:50:21,036] Trial 65 finished with value: 0.7379526056300694 and parameters: {'classifier': 'XGBoost', 'learning_rate': 0.07209687486441357, 'max_depth': 4, 'n_estimators': 118}. Best is trial 64 with value: 0.7489416166190805.\n",
      "[I 2024-11-22 23:50:21,486] Trial 66 finished with value: 0.6571216516082126 and parameters: {'classifier': 'XGBoost', 'learning_rate': 0.07635798618145366, 'max_depth': 4, 'n_estimators': 120}. Best is trial 64 with value: 0.7489416166190805.\n",
      "[I 2024-11-22 23:50:21,948] Trial 67 finished with value: 0.7530766958747661 and parameters: {'classifier': 'XGBoost', 'learning_rate': 0.05578888950793298, 'max_depth': 3, 'n_estimators': 112}. Best is trial 67 with value: 0.7530766958747661.\n",
      "[I 2024-11-22 23:50:22,577] Trial 68 finished with value: 0.6665997682538 and parameters: {'classifier': 'CatBoost', 'cat_iterations': 51, 'cat_learning_rate': 0.2768549529259314, 'cat_depth': 5}. Best is trial 67 with value: 0.7530766958747661.\n",
      "[I 2024-11-22 23:50:23,290] Trial 69 finished with value: 0.6146007679432902 and parameters: {'classifier': 'XGBoost', 'learning_rate': 0.06189913019319242, 'max_depth': 9, 'n_estimators': 136}. Best is trial 67 with value: 0.7530766958747661.\n"
     ]
    }
   ],
   "source": [
    "study = optuna.create_study(direction='maximize', sampler=TPESampler())\n",
    "study.optimize(objective, n_trials=70)"
   ]
  },
  {
   "cell_type": "code",
   "execution_count": 27,
   "metadata": {},
   "outputs": [
    {
     "name": "stdout",
     "output_type": "stream",
     "text": [
      "Best trial:  [0.7530766958747661]\n",
      "Best hyperparameters:  {'classifier': 'XGBoost', 'learning_rate': 0.05578888950793298, 'max_depth': 3, 'n_estimators': 112}\n"
     ]
    }
   ],
   "source": [
    "best_trial = study.best_trial\n",
    "print('Best trial: ', best_trial.values)\n",
    "print('Best hyperparameters: ', best_trial.params)"
   ]
  },
  {
   "cell_type": "code",
   "execution_count": 28,
   "metadata": {},
   "outputs": [
    {
     "name": "stdout",
     "output_type": "stream",
     "text": [
      "Training Metrics:\n",
      "F1 Score: 0.082687338501292\n",
      "ROC AUC Score: 0.8558988187911953\n",
      "Accuracy: 0.9424448767833982\n",
      "\n",
      "Test Metrics:\n",
      "F1 Score: 0.021739130434782608\n",
      "ROC AUC Score: 0.8342257329162913\n",
      "Accuracy: 0.9416342412451362\n"
     ]
    }
   ],
   "source": [
    "# Create a new MLflow Experiment\n",
    "mlflow.set_experiment(\"insurance-fraud-detection-experiment\")\n",
    "\n",
    "# Parameters for XGBoost\n",
    "params = {\n",
    "    'objective': 'binary:logistic',\n",
    "    'eval_metric': 'logloss',\n",
    "    'learning_rate': 0.05578888950793298,\n",
    "    'max_depth': 3,\n",
    "    'n_estimators': 112,\n",
    "}\n",
    "\n",
    "# Initialize the XGBoost model with the specified parameters\n",
    "xgb_model = xgb.XGBClassifier(**params)\n",
    "\n",
    "# Train the model\n",
    "xgb_model.fit(X_train_unbalanced, y_train_unbalanced)\n",
    "\n",
    "# Make predictions on training data\n",
    "y_train_pred = xgb_model.predict(X_train_unbalanced)\n",
    "y_train_pred_prob = xgb_model.predict_proba(X_train_unbalanced)[:, 1]\n",
    "\n",
    "# Make predictions on test data\n",
    "y_test_pred = xgb_model.predict(X_test_unbalanced)\n",
    "y_test_pred_prob = xgb_model.predict_proba(X_test_unbalanced)[:, 1]\n",
    "\n",
    "# Evaluate the model on training data\n",
    "train_f1 = f1_score(y_train_unbalanced, y_train_pred)\n",
    "train_roc_auc = roc_auc_score(y_train_unbalanced, y_train_pred_prob)\n",
    "train_accuracy = accuracy_score(y_train_unbalanced, y_train_pred)\n",
    "\n",
    "# Evaluate the model on test data\n",
    "test_f1 = f1_score(y_test_unbalanced, y_test_pred)\n",
    "test_roc_auc = roc_auc_score(y_test_unbalanced, y_test_pred_prob)\n",
    "test_accuracy = accuracy_score(y_test_unbalanced, y_test_pred)\n",
    "\n",
    "print(\"Training Metrics:\")\n",
    "print(f\"F1 Score: {train_f1}\")\n",
    "print(f\"ROC AUC Score: {train_roc_auc}\")\n",
    "print(f\"Accuracy: {train_accuracy}\")\n",
    "\n",
    "print(\"\\nTest Metrics:\")\n",
    "print(f\"F1 Score: {test_f1}\")\n",
    "print(f\"ROC AUC Score: {test_roc_auc}\")\n",
    "print(f\"Accuracy: {test_accuracy}\")"
   ]
  },
  {
   "cell_type": "code",
   "execution_count": 29,
   "metadata": {},
   "outputs": [
    {
     "data": {
      "image/png": "[encoded data removed]",
      "text/plain": [
       "<Figure size 800x600 with 2 Axes>"
      ]
     },
     "metadata": {},
     "output_type": "display_data"
    }
   ],
   "source": [
    "# Plot confusion matrix for test data\n",
    "train_cm = confusion_matrix(y_test_unbalanced, y_test_pred)\n",
    "plt.figure(figsize=(8, 6))\n",
    "sns.heatmap(train_cm, annot=True, fmt='d', cmap='Blues')\n",
    "plt.title('Confusion Matrix - Test Data')\n",
    "plt.xlabel('Predicted')\n",
    "plt.ylabel('Actual')\n",
    "plt.show()"
   ]
  },
  {
   "cell_type": "markdown",
   "metadata": {},
   "source": [
    "# Optuna with balanced data on boosting models"
   ]
  },
  {
   "cell_type": "code",
   "execution_count": 30,
   "metadata": {},
   "outputs": [],
   "source": [
    "def objective(trial):\n",
    "    classifier_name = trial.suggest_categorical('classifier', ['XGBoost', 'LightGBM', 'CatBoost'])\n",
    "    \n",
    "    if classifier_name == 'XGBoost':\n",
    "        learning_rate = trial.suggest_float('learning_rate', 0.01, 0.3)\n",
    "        max_depth = trial.suggest_int('max_depth', 3, 40)\n",
    "        n_estimators = trial.suggest_int('n_estimators', 50, 300)\n",
    "        classifier_obj = xgb.XGBClassifier(\n",
    "            objective='binary:logistic',\n",
    "            eval_metric='logloss',\n",
    "            learning_rate=learning_rate,\n",
    "            max_depth=max_depth,\n",
    "            n_estimators=n_estimators,\n",
    "            random_state=42\n",
    "        )\n",
    "    \n",
    "    elif classifier_name == 'LightGBM':\n",
    "        num_leaves = trial.suggest_int('lgb_num_leaves', 20, 70)\n",
    "        learning_rate = trial.suggest_float('lgb_learning_rate', 0.01, 0.3)\n",
    "        n_estimators = trial.suggest_int('lgb_n_estimators', 50, 300)\n",
    "        classifier_obj = lgb.LGBMClassifier(num_leaves=num_leaves, n_estimators=n_estimators, verbose=-1)\n",
    "    \n",
    "    elif classifier_name == 'CatBoost':\n",
    "        iterations = trial.suggest_int('cat_iterations', 20, 300)\n",
    "        learning_rate = trial.suggest_float('cat_learning_rate', 0.01, 0.3)\n",
    "        depth = trial.suggest_int('cat_depth', 3, 15)\n",
    "        classifier_obj = CatBoostClassifier(iterations=iterations, depth=depth, verbose=0)\n",
    "    \n",
    "    classifier_obj.fit(X_train, y_train)\n",
    "    y_prob = classifier_obj.predict_proba(X_test)[:, 1]\n",
    "    \n",
    "    # Threshold optimization\n",
    "    thresholds = np.arange(0.1, 0.9, 0.01)\n",
    "    best_threshold = 0.5\n",
    "    best_score = 0.0\n",
    "    \n",
    "    for threshold in thresholds:\n",
    "        y_pred = (y_prob >= threshold).astype(int)\n",
    "        score = f1_score(y_test, y_pred)\n",
    "        if score > best_score:\n",
    "            best_score = score\n",
    "            best_threshold = threshold\n",
    "    \n",
    "    trial.set_user_attr('best_threshold', best_threshold)\n",
    "    trial.set_user_attr('classifier_obj', classifier_obj)\n",
    "    return roc_auc_score(y_test, (y_prob >= best_threshold).astype(int))"
   ]
  },
  {
   "cell_type": "code",
   "execution_count": 31,
   "metadata": {},
   "outputs": [
    {
     "name": "stderr",
     "output_type": "stream",
     "text": [
      "[I 2024-11-22 23:53:51,837] A new study created in memory with name: no-name-d34d3173-a54b-497c-8f37-9a729969f08c\n",
      "[I 2024-11-22 23:54:04,304] Trial 0 finished with value: 0.6160775819631782 and parameters: {'classifier': 'CatBoost', 'cat_iterations': 250, 'cat_learning_rate': 0.22870863162340183, 'cat_depth': 10}. Best is trial 0 with value: 0.6160775819631782.\n",
      "[I 2024-11-22 23:54:05,046] Trial 1 finished with value: 0.7091623056474883 and parameters: {'classifier': 'XGBoost', 'learning_rate': 0.04313334960124037, 'max_depth': 5, 'n_estimators': 180}. Best is trial 1 with value: 0.7091623056474883.\n",
      "[I 2024-11-22 23:54:06,540] Trial 2 finished with value: 0.6295165895441568 and parameters: {'classifier': 'XGBoost', 'learning_rate': 0.2871885810292479, 'max_depth': 25, 'n_estimators': 93}. Best is trial 1 with value: 0.7091623056474883.\n",
      "[I 2024-11-22 23:54:08,205] Trial 3 finished with value: 0.6209018410948115 and parameters: {'classifier': 'XGBoost', 'learning_rate': 0.11000607983295081, 'max_depth': 36, 'n_estimators': 128}. Best is trial 1 with value: 0.7091623056474883.\n",
      "[I 2024-11-22 23:54:18,964] Trial 4 finished with value: 0.6291151990669566 and parameters: {'classifier': 'CatBoost', 'cat_iterations': 54, 'cat_learning_rate': 0.200161173435312, 'cat_depth': 13}. Best is trial 1 with value: 0.7091623056474883.\n",
      "[I 2024-11-22 23:54:20,827] Trial 5 finished with value: 0.5949212744526322 and parameters: {'classifier': 'XGBoost', 'learning_rate': 0.09623877763750617, 'max_depth': 21, 'n_estimators': 188}. Best is trial 1 with value: 0.7091623056474883.\n",
      "[I 2024-11-22 23:54:21,338] Trial 6 finished with value: 0.7236161495293129 and parameters: {'classifier': 'LightGBM', 'lgb_num_leaves': 33, 'lgb_learning_rate': 0.18081603938919208, 'lgb_n_estimators': 101}. Best is trial 6 with value: 0.7236161495293129.\n",
      "[I 2024-11-22 23:55:02,708] Trial 7 finished with value: 0.6082845479813089 and parameters: {'classifier': 'CatBoost', 'cat_iterations': 204, 'cat_learning_rate': 0.07103720322901284, 'cat_depth': 13}. Best is trial 6 with value: 0.7236161495293129.\n",
      "[I 2024-11-22 23:55:04,071] Trial 8 finished with value: 0.6434743753834036 and parameters: {'classifier': 'XGBoost', 'learning_rate': 0.15459422339493503, 'max_depth': 5, 'n_estimators': 249}. Best is trial 6 with value: 0.7236161495293129.\n",
      "[I 2024-11-22 23:55:04,587] Trial 9 finished with value: 0.7170500071947349 and parameters: {'classifier': 'LightGBM', 'lgb_num_leaves': 25, 'lgb_learning_rate': 0.18740679225306064, 'lgb_n_estimators': 71}. Best is trial 6 with value: 0.7236161495293129.\n",
      "[I 2024-11-22 23:55:05,447] Trial 10 finished with value: 0.6150816791754077 and parameters: {'classifier': 'LightGBM', 'lgb_num_leaves': 49, 'lgb_learning_rate': 0.05353433222976024, 'lgb_n_estimators': 145}. Best is trial 6 with value: 0.7236161495293129.\n",
      "[I 2024-11-22 23:55:05,886] Trial 11 finished with value: 0.7005664907112183 and parameters: {'classifier': 'LightGBM', 'lgb_num_leaves': 22, 'lgb_learning_rate': 0.2213564623892661, 'lgb_n_estimators': 69}. Best is trial 6 with value: 0.7236161495293129.\n",
      "[I 2024-11-22 23:55:06,302] Trial 12 finished with value: 0.7351807393158185 and parameters: {'classifier': 'LightGBM', 'lgb_num_leaves': 26, 'lgb_learning_rate': 0.1757166388595348, 'lgb_n_estimators': 59}. Best is trial 12 with value: 0.7351807393158185.\n",
      "[I 2024-11-22 23:55:07,171] Trial 13 finished with value: 0.6476662551783159 and parameters: {'classifier': 'LightGBM', 'lgb_num_leaves': 34, 'lgb_learning_rate': 0.13938566307554934, 'lgb_n_estimators': 270}. Best is trial 12 with value: 0.7351807393158185.\n",
      "[I 2024-11-22 23:55:07,764] Trial 14 finished with value: 0.6264152801023923 and parameters: {'classifier': 'LightGBM', 'lgb_num_leaves': 69, 'lgb_learning_rate': 0.2951138273399571, 'lgb_n_estimators': 54}. Best is trial 12 with value: 0.7351807393158185.\n",
      "[I 2024-11-22 23:55:08,523] Trial 15 finished with value: 0.6531607606728214 and parameters: {'classifier': 'LightGBM', 'lgb_num_leaves': 37, 'lgb_learning_rate': 0.12469646826989766, 'lgb_n_estimators': 148}. Best is trial 12 with value: 0.7351807393158185.\n",
      "[I 2024-11-22 23:55:09,127] Trial 16 finished with value: 0.6393582296407934 and parameters: {'classifier': 'LightGBM', 'lgb_num_leaves': 42, 'lgb_learning_rate': 0.23433535293780114, 'lgb_n_estimators': 103}. Best is trial 12 with value: 0.7351807393158185.\n",
      "[I 2024-11-22 23:55:09,761] Trial 17 finished with value: 0.6688225626888618 and parameters: {'classifier': 'LightGBM', 'lgb_num_leaves': 28, 'lgb_learning_rate': 0.08945105583205291, 'lgb_n_estimators': 208}. Best is trial 12 with value: 0.7351807393158185.\n",
      "[I 2024-11-22 23:55:10,371] Trial 18 finished with value: 0.6609727281677661 and parameters: {'classifier': 'LightGBM', 'lgb_num_leaves': 50, 'lgb_learning_rate': 0.1956059019034099, 'lgb_n_estimators': 124}. Best is trial 12 with value: 0.7351807393158185.\n",
      "[I 2024-11-22 23:55:11,045] Trial 19 finished with value: 0.6476851886913914 and parameters: {'classifier': 'LightGBM', 'lgb_num_leaves': 32, 'lgb_learning_rate': 0.26166664194814515, 'lgb_n_estimators': 207}. Best is trial 12 with value: 0.7351807393158185.\n",
      "[I 2024-11-22 23:55:12,186] Trial 20 finished with value: 0.6861883808816959 and parameters: {'classifier': 'CatBoost', 'cat_iterations': 53, 'cat_learning_rate': 0.01674068526410269, 'cat_depth': 3}. Best is trial 12 with value: 0.7351807393158185.\n",
      "[I 2024-11-22 23:55:12,693] Trial 21 finished with value: 0.7146189441158429 and parameters: {'classifier': 'LightGBM', 'lgb_num_leaves': 23, 'lgb_learning_rate': 0.17224707804503328, 'lgb_n_estimators': 89}. Best is trial 12 with value: 0.7351807393158185.\n",
      "[I 2024-11-22 23:55:13,191] Trial 22 finished with value: 0.6913382964382275 and parameters: {'classifier': 'LightGBM', 'lgb_num_leaves': 20, 'lgb_learning_rate': 0.19357434538227172, 'lgb_n_estimators': 53}. Best is trial 12 with value: 0.7351807393158185.\n",
      "[I 2024-11-22 23:55:14,386] Trial 23 finished with value: 0.6407933899319151 and parameters: {'classifier': 'LightGBM', 'lgb_num_leaves': 27, 'lgb_learning_rate': 0.15045652816588742, 'lgb_n_estimators': 98}. Best is trial 12 with value: 0.7351807393158185.\n",
      "[I 2024-11-22 23:55:14,951] Trial 24 finished with value: 0.6288084761551336 and parameters: {'classifier': 'LightGBM', 'lgb_num_leaves': 31, 'lgb_learning_rate': 0.18702378214821888, 'lgb_n_estimators': 84}. Best is trial 12 with value: 0.7351807393158185.\n",
      "[I 2024-11-22 23:55:15,618] Trial 25 finished with value: 0.6623321544065859 and parameters: {'classifier': 'LightGBM', 'lgb_num_leaves': 39, 'lgb_learning_rate': 0.10491163498470887, 'lgb_n_estimators': 118}. Best is trial 12 with value: 0.7351807393158185.\n",
      "[I 2024-11-22 23:55:16,104] Trial 26 finished with value: 0.7282700070432668 and parameters: {'classifier': 'LightGBM', 'lgb_num_leaves': 27, 'lgb_learning_rate': 0.2105130958572115, 'lgb_n_estimators': 50}. Best is trial 12 with value: 0.7351807393158185.\n",
      "[I 2024-11-22 23:55:16,720] Trial 27 finished with value: 0.7314281170242576 and parameters: {'classifier': 'LightGBM', 'lgb_num_leaves': 45, 'lgb_learning_rate': 0.23285765921381982, 'lgb_n_estimators': 52}. Best is trial 12 with value: 0.7351807393158185.\n",
      "[I 2024-11-22 23:55:17,268] Trial 28 finished with value: 0.7304322142364871 and parameters: {'classifier': 'LightGBM', 'lgb_num_leaves': 59, 'lgb_learning_rate': 0.2336511356549219, 'lgb_n_estimators': 51}. Best is trial 12 with value: 0.7351807393158185.\n",
      "[I 2024-11-22 23:55:21,770] Trial 29 finished with value: 0.6437810982952265 and parameters: {'classifier': 'CatBoost', 'cat_iterations': 289, 'cat_learning_rate': 0.28341430681255164, 'cat_depth': 4}. Best is trial 12 with value: 0.7351807393158185.\n",
      "[I 2024-11-22 23:55:24,428] Trial 30 finished with value: 0.6715224816534258 and parameters: {'classifier': 'CatBoost', 'cat_iterations': 142, 'cat_learning_rate': 0.12237867980455577, 'cat_depth': 7}. Best is trial 12 with value: 0.7351807393158185.\n",
      "[I 2024-11-22 23:55:24,990] Trial 31 finished with value: 0.7047205034799796 and parameters: {'classifier': 'LightGBM', 'lgb_num_leaves': 63, 'lgb_learning_rate': 0.2394945916159717, 'lgb_n_estimators': 51}. Best is trial 12 with value: 0.7351807393158185.\n",
      "[I 2024-11-22 23:55:25,634] Trial 32 finished with value: 0.6284828197302353 and parameters: {'classifier': 'LightGBM', 'lgb_num_leaves': 56, 'lgb_learning_rate': 0.2696223162457566, 'lgb_n_estimators': 74}. Best is trial 12 with value: 0.7351807393158185.\n",
      "[I 2024-11-22 23:55:26,139] Trial 33 finished with value: 0.7146189441158429 and parameters: {'classifier': 'LightGBM', 'lgb_num_leaves': 56, 'lgb_learning_rate': 0.21546518674482723, 'lgb_n_estimators': 51}. Best is trial 12 with value: 0.7351807393158185.\n",
      "[I 2024-11-22 23:55:28,036] Trial 34 finished with value: 0.564805628554767 and parameters: {'classifier': 'XGBoost', 'learning_rate': 0.2863588201957395, 'max_depth': 38, 'n_estimators': 299}. Best is trial 12 with value: 0.7351807393158185.\n",
      "[I 2024-11-22 23:55:29,185] Trial 35 finished with value: 0.6237153611378283 and parameters: {'classifier': 'LightGBM', 'lgb_num_leaves': 46, 'lgb_learning_rate': 0.25694596966224975, 'lgb_n_estimators': 299}. Best is trial 12 with value: 0.7351807393158185.\n",
      "[I 2024-11-22 23:55:29,959] Trial 36 finished with value: 0.6017941396990328 and parameters: {'classifier': 'XGBoost', 'learning_rate': 0.221204547979102, 'max_depth': 18, 'n_estimators': 52}. Best is trial 12 with value: 0.7351807393158185.\n",
      "[I 2024-11-22 23:55:30,773] Trial 37 finished with value: 0.683106004953007 and parameters: {'classifier': 'LightGBM', 'lgb_num_leaves': 57, 'lgb_learning_rate': 0.22233472186694517, 'lgb_n_estimators': 73}. Best is trial 12 with value: 0.7351807393158185.\n",
      "[I 2024-11-22 23:55:31,395] Trial 38 finished with value: 0.658541665088874 and parameters: {'classifier': 'LightGBM', 'lgb_num_leaves': 64, 'lgb_learning_rate': 0.293140804668568, 'lgb_n_estimators': 71}. Best is trial 12 with value: 0.7351807393158185.\n",
      "[I 2024-11-22 23:55:33,186] Trial 39 finished with value: 0.6215720874576836 and parameters: {'classifier': 'XGBoost', 'learning_rate': 0.021656370748593584, 'max_depth': 13, 'n_estimators': 236}. Best is trial 12 with value: 0.7351807393158185.\n",
      "[I 2024-11-22 23:59:08,967] Trial 40 finished with value: 0.6254004438015466 and parameters: {'classifier': 'CatBoost', 'cat_iterations': 133, 'cat_learning_rate': 0.13863594256508197, 'cat_depth': 15}. Best is trial 12 with value: 0.7351807393158185.\n",
      "[I 2024-11-22 23:59:09,531] Trial 41 finished with value: 0.6999341113744972 and parameters: {'classifier': 'LightGBM', 'lgb_num_leaves': 29, 'lgb_learning_rate': 0.16618054106509608, 'lgb_n_estimators': 97}. Best is trial 12 with value: 0.7351807393158185.\n",
      "[I 2024-11-22 23:59:10,011] Trial 42 finished with value: 0.6418271597458365 and parameters: {'classifier': 'LightGBM', 'lgb_num_leaves': 35, 'lgb_learning_rate': 0.20628940910290217, 'lgb_n_estimators': 53}. Best is trial 12 with value: 0.7351807393158185.\n",
      "[I 2024-11-22 23:59:10,606] Trial 43 finished with value: 0.6962004225960119 and parameters: {'classifier': 'LightGBM', 'lgb_num_leaves': 41, 'lgb_learning_rate': 0.1678305453440026, 'lgb_n_estimators': 116}. Best is trial 12 with value: 0.7351807393158185.\n",
      "[I 2024-11-22 23:59:11,023] Trial 44 finished with value: 0.6366772441893048 and parameters: {'classifier': 'LightGBM', 'lgb_num_leaves': 27, 'lgb_learning_rate': 0.24577123345101592, 'lgb_n_estimators': 82}. Best is trial 12 with value: 0.7351807393158185.\n",
      "[I 2024-11-22 23:59:11,461] Trial 45 finished with value: 0.6561863360622837 and parameters: {'classifier': 'LightGBM', 'lgb_num_leaves': 53, 'lgb_learning_rate': 0.21246396436777804, 'lgb_n_estimators': 65}. Best is trial 12 with value: 0.7351807393158185.\n",
      "[I 2024-11-22 23:59:11,858] Trial 46 finished with value: 0.7194242697344007 and parameters: {'classifier': 'LightGBM', 'lgb_num_leaves': 25, 'lgb_learning_rate': 0.1847022432459029, 'lgb_n_estimators': 67}. Best is trial 12 with value: 0.7351807393158185.\n",
      "[I 2024-11-22 23:59:12,697] Trial 47 finished with value: 0.5884119326572806 and parameters: {'classifier': 'XGBoost', 'learning_rate': 0.211499229608602, 'max_depth': 29, 'n_estimators': 116}. Best is trial 12 with value: 0.7351807393158185.\n",
      "[I 2024-11-22 23:59:13,189] Trial 48 finished with value: 0.6271233934914155 and parameters: {'classifier': 'LightGBM', 'lgb_num_leaves': 45, 'lgb_learning_rate': 0.23326544610247452, 'lgb_n_estimators': 85}. Best is trial 12 with value: 0.7351807393158185.\n",
      "[I 2024-11-22 23:59:13,749] Trial 49 finished with value: 0.6917964874546543 and parameters: {'classifier': 'LightGBM', 'lgb_num_leaves': 33, 'lgb_learning_rate': 0.03273074801365561, 'lgb_n_estimators': 181}. Best is trial 12 with value: 0.7351807393158185.\n",
      "[I 2024-11-22 23:59:14,227] Trial 50 finished with value: 0.6579282192652282 and parameters: {'classifier': 'LightGBM', 'lgb_num_leaves': 24, 'lgb_learning_rate': 0.2731563679496493, 'lgb_n_estimators': 145}. Best is trial 12 with value: 0.7351807393158185.\n",
      "[I 2024-11-22 23:59:14,580] Trial 51 finished with value: 0.6130520065737157 and parameters: {'classifier': 'LightGBM', 'lgb_num_leaves': 20, 'lgb_learning_rate': 0.18052945784795654, 'lgb_n_estimators': 66}. Best is trial 12 with value: 0.7351807393158185.\n",
      "[I 2024-11-22 23:59:14,956] Trial 52 finished with value: 0.6325989654728456 and parameters: {'classifier': 'LightGBM', 'lgb_num_leaves': 29, 'lgb_learning_rate': 0.20059433923813386, 'lgb_n_estimators': 66}. Best is trial 12 with value: 0.7351807393158185.\n",
      "[I 2024-11-22 23:59:15,358] Trial 53 finished with value: 0.7214918093622436 and parameters: {'classifier': 'LightGBM', 'lgb_num_leaves': 25, 'lgb_learning_rate': 0.15546541886828838, 'lgb_n_estimators': 62}. Best is trial 12 with value: 0.7351807393158185.\n",
      "[I 2024-11-22 23:59:15,697] Trial 54 finished with value: 0.6954165751546868 and parameters: {'classifier': 'LightGBM', 'lgb_num_leaves': 24, 'lgb_learning_rate': 0.1349918547270091, 'lgb_n_estimators': 51}. Best is trial 12 with value: 0.7351807393158185.\n",
      "[I 2024-11-22 23:59:16,119] Trial 55 finished with value: 0.6722116615293734 and parameters: {'classifier': 'LightGBM', 'lgb_num_leaves': 37, 'lgb_learning_rate': 0.11817111697860298, 'lgb_n_estimators': 80}. Best is trial 12 with value: 0.7351807393158185.\n",
      "[I 2024-11-22 23:59:17,032] Trial 56 finished with value: 0.6212653645458608 and parameters: {'classifier': 'CatBoost', 'cat_iterations': 24, 'cat_learning_rate': 0.2991214308783511, 'cat_depth': 8}. Best is trial 12 with value: 0.7351807393158185.\n",
      "[I 2024-11-22 23:59:17,600] Trial 57 finished with value: 0.633557001234465 and parameters: {'classifier': 'LightGBM', 'lgb_num_leaves': 31, 'lgb_learning_rate': 0.1512514474424915, 'lgb_n_estimators': 104}. Best is trial 12 with value: 0.7351807393158185.\n",
      "[I 2024-11-22 23:59:18,110] Trial 58 finished with value: 0.7324240198120281 and parameters: {'classifier': 'LightGBM', 'lgb_num_leaves': 26, 'lgb_learning_rate': 0.2261846335696292, 'lgb_n_estimators': 63}. Best is trial 12 with value: 0.7351807393158185.\n",
      "[I 2024-11-22 23:59:18,930] Trial 59 finished with value: 0.6540998629213653 and parameters: {'classifier': 'LightGBM', 'lgb_num_leaves': 69, 'lgb_learning_rate': 0.22369638757208685, 'lgb_n_estimators': 135}. Best is trial 12 with value: 0.7351807393158185.\n",
      "[I 2024-11-22 23:59:19,467] Trial 60 finished with value: 0.7085488598238425 and parameters: {'classifier': 'LightGBM', 'lgb_num_leaves': 35, 'lgb_learning_rate': 0.24994563848752532, 'lgb_n_estimators': 89}. Best is trial 12 with value: 0.7351807393158185.\n",
      "[I 2024-11-22 23:59:19,881] Trial 61 finished with value: 0.7201134496103483 and parameters: {'classifier': 'LightGBM', 'lgb_num_leaves': 25, 'lgb_learning_rate': 0.16016879403571116, 'lgb_n_estimators': 60}. Best is trial 12 with value: 0.7351807393158185.\n",
      "[I 2024-11-22 23:59:20,296] Trial 62 finished with value: 0.723540415477011 and parameters: {'classifier': 'LightGBM', 'lgb_num_leaves': 27, 'lgb_learning_rate': 0.20415500377492618, 'lgb_n_estimators': 64}. Best is trial 12 with value: 0.7351807393158185.\n",
      "[I 2024-11-22 23:59:20,896] Trial 63 finished with value: 0.6486810914791618 and parameters: {'classifier': 'LightGBM', 'lgb_num_leaves': 29, 'lgb_learning_rate': 0.2270030405749298, 'lgb_n_estimators': 167}. Best is trial 12 with value: 0.7351807393158185.\n",
      "[I 2024-11-22 23:59:21,304] Trial 64 finished with value: 0.6868775607576435 and parameters: {'classifier': 'LightGBM', 'lgb_num_leaves': 21, 'lgb_learning_rate': 0.20847869022692797, 'lgb_n_estimators': 76}. Best is trial 12 with value: 0.7351807393158185.\n",
      "[I 2024-11-22 23:59:21,716] Trial 65 finished with value: 0.7187918903976795 and parameters: {'classifier': 'LightGBM', 'lgb_num_leaves': 48, 'lgb_learning_rate': 0.1960653103088674, 'lgb_n_estimators': 62}. Best is trial 12 with value: 0.7351807393158185.\n",
      "[I 2024-11-22 23:59:24,824] Trial 66 finished with value: 0.6424027385433313 and parameters: {'classifier': 'CatBoost', 'cat_iterations': 204, 'cat_learning_rate': 0.015018648620792885, 'cat_depth': 6}. Best is trial 12 with value: 0.7351807393158185.\n",
      "[I 2024-11-22 23:59:26,779] Trial 67 finished with value: 0.5822850478260541 and parameters: {'classifier': 'XGBoost', 'learning_rate': 0.22031233651074678, 'max_depth': 31, 'n_estimators': 288}. Best is trial 12 with value: 0.7351807393158185.\n",
      "[I 2024-11-22 23:59:27,282] Trial 68 finished with value: 0.6017562726728819 and parameters: {'classifier': 'LightGBM', 'lgb_num_leaves': 27, 'lgb_learning_rate': 0.23903948652319507, 'lgb_n_estimators': 109}. Best is trial 12 with value: 0.7351807393158185.\n",
      "[I 2024-11-22 23:59:27,753] Trial 69 finished with value: 0.6974273142433032 and parameters: {'classifier': 'LightGBM', 'lgb_num_leaves': 22, 'lgb_learning_rate': 0.1776806594493629, 'lgb_n_estimators': 94}. Best is trial 12 with value: 0.7351807393158185.\n",
      "[I 2024-11-22 23:59:28,563] Trial 70 finished with value: 0.6507864981331556 and parameters: {'classifier': 'LightGBM', 'lgb_num_leaves': 32, 'lgb_learning_rate': 0.19408390646275933, 'lgb_n_estimators': 228}. Best is trial 12 with value: 0.7351807393158185.\n",
      "[I 2024-11-22 23:59:28,965] Trial 71 finished with value: 0.7248809082027552 and parameters: {'classifier': 'LightGBM', 'lgb_num_leaves': 26, 'lgb_learning_rate': 0.13760007830316684, 'lgb_n_estimators': 60}. Best is trial 12 with value: 0.7351807393158185.\n",
      "[I 2024-11-22 23:59:29,441] Trial 72 finished with value: 0.7344536924137199 and parameters: {'classifier': 'LightGBM', 'lgb_num_leaves': 27, 'lgb_learning_rate': 0.1362787202919658, 'lgb_n_estimators': 51}. Best is trial 12 with value: 0.7351807393158185.\n",
      "[I 2024-11-22 23:59:29,884] Trial 73 finished with value: 0.7211661529373453 and parameters: {'classifier': 'LightGBM', 'lgb_num_leaves': 30, 'lgb_learning_rate': 0.13696472749832153, 'lgb_n_estimators': 50}. Best is trial 12 with value: 0.7351807393158185.\n",
      "[I 2024-11-22 23:59:30,476] Trial 74 finished with value: 0.6366204436500784 and parameters: {'classifier': 'LightGBM', 'lgb_num_leaves': 22, 'lgb_learning_rate': 0.10123569362951754, 'lgb_n_estimators': 75}. Best is trial 12 with value: 0.7351807393158185.\n",
      "[I 2024-11-22 23:59:31,112] Trial 75 finished with value: 0.6926787891639717 and parameters: {'classifier': 'LightGBM', 'lgb_num_leaves': 63, 'lgb_learning_rate': 0.1181555246843416, 'lgb_n_estimators': 59}. Best is trial 12 with value: 0.7351807393158185.\n",
      "[I 2024-11-22 23:59:31,827] Trial 76 finished with value: 0.7342037700411235 and parameters: {'classifier': 'LightGBM', 'lgb_num_leaves': 51, 'lgb_learning_rate': 0.13950661239431006, 'lgb_n_estimators': 50}. Best is trial 12 with value: 0.7351807393158185.\n",
      "[I 2024-11-22 23:59:32,302] Trial 77 finished with value: 0.7304322142364871 and parameters: {'classifier': 'LightGBM', 'lgb_num_leaves': 59, 'lgb_learning_rate': 0.14018742352081795, 'lgb_n_estimators': 50}. Best is trial 12 with value: 0.7351807393158185.\n",
      "[I 2024-11-22 23:59:32,848] Trial 78 finished with value: 0.7094879620723866 and parameters: {'classifier': 'LightGBM', 'lgb_num_leaves': 60, 'lgb_learning_rate': 0.08139123883860662, 'lgb_n_estimators': 52}. Best is trial 12 with value: 0.7351807393158185.\n",
      "[I 2024-11-22 23:59:33,480] Trial 79 finished with value: 0.6797169061124954 and parameters: {'classifier': 'XGBoost', 'learning_rate': 0.0782366198778828, 'max_depth': 13, 'n_estimators': 53}. Best is trial 12 with value: 0.7351807393158185.\n",
      "[I 2024-11-22 23:59:43,891] Trial 80 finished with value: 0.586707916480487 and parameters: {'classifier': 'CatBoost', 'cat_iterations': 96, 'cat_learning_rate': 0.0873015822457974, 'cat_depth': 12}. Best is trial 12 with value: 0.7351807393158185.\n",
      "[I 2024-11-22 23:59:44,404] Trial 81 finished with value: 0.6339394581985899 and parameters: {'classifier': 'LightGBM', 'lgb_num_leaves': 60, 'lgb_learning_rate': 0.14375555563635592, 'lgb_n_estimators': 58}. Best is trial 12 with value: 0.7351807393158185.\n",
      "[I 2024-11-22 23:59:45,097] Trial 82 finished with value: 0.705084026931029 and parameters: {'classifier': 'LightGBM', 'lgb_num_leaves': 55, 'lgb_learning_rate': 0.1338103197931585, 'lgb_n_estimators': 71}. Best is trial 12 with value: 0.7351807393158185.\n",
      "[I 2024-11-22 23:59:45,560] Trial 83 finished with value: 0.7222377897774176 and parameters: {'classifier': 'LightGBM', 'lgb_num_leaves': 42, 'lgb_learning_rate': 0.12712751189279764, 'lgb_n_estimators': 59}. Best is trial 12 with value: 0.7351807393158185.\n",
      "[I 2024-11-22 23:59:46,029] Trial 84 finished with value: 0.7372672124567368 and parameters: {'classifier': 'LightGBM', 'lgb_num_leaves': 52, 'lgb_learning_rate': 0.14704914491463633, 'lgb_n_estimators': 50}. Best is trial 84 with value: 0.7372672124567368.\n",
      "[I 2024-11-22 23:59:46,477] Trial 85 finished with value: 0.7342037700411235 and parameters: {'classifier': 'LightGBM', 'lgb_num_leaves': 51, 'lgb_learning_rate': 0.14749372468022254, 'lgb_n_estimators': 50}. Best is trial 84 with value: 0.7372672124567368.\n",
      "[I 2024-11-22 23:59:47,028] Trial 86 finished with value: 0.6271233934914155 and parameters: {'classifier': 'LightGBM', 'lgb_num_leaves': 52, 'lgb_learning_rate': 0.1489238815407575, 'lgb_n_estimators': 77}. Best is trial 84 with value: 0.7372672124567368.\n",
      "[I 2024-11-22 23:59:47,506] Trial 87 finished with value: 0.7348929499170712 and parameters: {'classifier': 'LightGBM', 'lgb_num_leaves': 50, 'lgb_learning_rate': 0.10824941064228533, 'lgb_n_estimators': 50}. Best is trial 84 with value: 0.7372672124567368.\n",
      "[I 2024-11-22 23:59:47,944] Trial 88 finished with value: 0.7277133617588477 and parameters: {'classifier': 'LightGBM', 'lgb_num_leaves': 50, 'lgb_learning_rate': 0.0800613263827953, 'lgb_n_estimators': 57}. Best is trial 84 with value: 0.7372672124567368.\n",
      "[I 2024-11-22 23:59:48,447] Trial 89 finished with value: 0.6568755159382313 and parameters: {'classifier': 'LightGBM', 'lgb_num_leaves': 53, 'lgb_learning_rate': 0.10552442777566076, 'lgb_n_estimators': 70}. Best is trial 84 with value: 0.7372672124567368.\n",
      "[I 2024-11-22 23:59:48,965] Trial 90 finished with value: 0.6647064169462514 and parameters: {'classifier': 'LightGBM', 'lgb_num_leaves': 47, 'lgb_learning_rate': 0.1127286163676435, 'lgb_n_estimators': 88}. Best is trial 84 with value: 0.7372672124567368.\n",
      "[I 2024-11-22 23:59:49,410] Trial 91 finished with value: 0.6352988844374097 and parameters: {'classifier': 'LightGBM', 'lgb_num_leaves': 60, 'lgb_learning_rate': 0.12661452691452138, 'lgb_n_estimators': 51}. Best is trial 84 with value: 0.7372672124567368.\n",
      "[I 2024-11-22 23:59:49,860] Trial 92 finished with value: 0.7342037700411235 and parameters: {'classifier': 'LightGBM', 'lgb_num_leaves': 51, 'lgb_learning_rate': 0.1651516822298738, 'lgb_n_estimators': 50}. Best is trial 84 with value: 0.7372672124567368.\n",
      "[I 2024-11-22 23:59:50,385] Trial 93 finished with value: 0.6894222249149885 and parameters: {'classifier': 'LightGBM', 'lgb_num_leaves': 50, 'lgb_learning_rate': 0.15546443291496964, 'lgb_n_estimators': 69}. Best is trial 84 with value: 0.7372672124567368.\n",
      "[I 2024-11-22 23:59:50,815] Trial 94 finished with value: 0.7163608273187874 and parameters: {'classifier': 'LightGBM', 'lgb_num_leaves': 44, 'lgb_learning_rate': 0.16542504907368538, 'lgb_n_estimators': 58}. Best is trial 84 with value: 0.7372672124567368.\n",
      "[I 2024-11-22 23:59:51,299] Trial 95 finished with value: 0.6527593701956209 and parameters: {'classifier': 'LightGBM', 'lgb_num_leaves': 51, 'lgb_learning_rate': 0.09511914044430994, 'lgb_n_estimators': 66}. Best is trial 84 with value: 0.7372672124567368.\n",
      "[I 2024-11-22 23:59:51,825] Trial 96 finished with value: 0.7009678811884188 and parameters: {'classifier': 'LightGBM', 'lgb_num_leaves': 54, 'lgb_learning_rate': 0.175249600091072, 'lgb_n_estimators': 78}. Best is trial 84 with value: 0.7372672124567368.\n",
      "[I 2024-11-22 23:59:52,250] Trial 97 finished with value: 0.7043759135420058 and parameters: {'classifier': 'LightGBM', 'lgb_num_leaves': 49, 'lgb_learning_rate': 0.2771819261880987, 'lgb_n_estimators': 57}. Best is trial 84 with value: 0.7372672124567368.\n",
      "[I 2024-11-22 23:59:52,757] Trial 98 finished with value: 0.6909937065002537 and parameters: {'classifier': 'LightGBM', 'lgb_num_leaves': 57, 'lgb_learning_rate': 0.26000490706827084, 'lgb_n_estimators': 70}. Best is trial 84 with value: 0.7372672124567368.\n",
      "[I 2024-11-22 23:59:53,488] Trial 99 finished with value: 0.6058534849024166 and parameters: {'classifier': 'XGBoost', 'learning_rate': 0.15644944468814068, 'max_depth': 12, 'n_estimators': 153}. Best is trial 84 with value: 0.7372672124567368.\n"
     ]
    }
   ],
   "source": [
    "study = optuna.create_study(direction='maximize', sampler=TPESampler())\n",
    "study.optimize(objective, n_trials=100)"
   ]
  },
  {
   "cell_type": "code",
   "execution_count": 32,
   "metadata": {},
   "outputs": [
    {
     "name": "stdout",
     "output_type": "stream",
     "text": [
      "Best trial:  [0.7372672124567368]\n",
      "Best hyperparameters:  {'classifier': 'LightGBM', 'lgb_num_leaves': 52, 'lgb_learning_rate': 0.14704914491463633, 'lgb_n_estimators': 50}\n"
     ]
    }
   ],
   "source": [
    "best_trial = study.best_trial\n",
    "print('Best trial: ', best_trial.values)\n",
    "print('Best hyperparameters: ', best_trial.params)"
   ]
  },
  {
   "cell_type": "code",
   "execution_count": 4,
   "metadata": {},
   "outputs": [
    {
     "name": "stdout",
     "output_type": "stream",
     "text": [
      "[LightGBM] [Info] Number of positive: 5797, number of negative: 5798\n",
      "[LightGBM] [Info] Auto-choosing row-wise multi-threading, the overhead of testing was 0.000797 seconds.\n",
      "You can set `force_row_wise=true` to remove the overhead.\n",
      "And if memory is not enough, you can set `force_col_wise=true`.\n",
      "[LightGBM] [Info] Total Bins 159\n",
      "[LightGBM] [Info] Number of data points in the train set: 11595, number of used features: 21\n",
      "[LightGBM] [Info] [binary:BoostFromScore]: pavg=0.499957 -> initscore=-0.000172\n",
      "[LightGBM] [Info] Start training from score -0.000172\n",
      "Training Metrics:\n",
      "F1 Score: 0.8774973711882229\n",
      "ROC AUC Score: 0.9496362143995334\n",
      "Accuracy: 0.8794307891332471\n",
      "\n",
      "Test Metrics:\n",
      "F1 Score: 0.1806020066889632\n",
      "ROC AUC Score: 0.7274823728993267\n",
      "Accuracy: 0.8411154345006485\n"
     ]
    }
   ],
   "source": [
    "# Create a new MLflow Experiment\n",
    "mlflow.set_experiment(\"insurance-fraud-detection-experiment\")\n",
    "\n",
    "params = {\n",
    "    'boosting_type': 'gbdt',\n",
    "    'objective': 'binary',\n",
    "    'metric': 'binary_logloss',\n",
    "    'num_leaves': 52,\n",
    "    'learning_rate': 0.0147,\n",
    "    'n_estimators': 50\n",
    "}\n",
    "\n",
    "# Initialize the LightGBM model with the specified parameters\n",
    "lgb_model = lgb.LGBMClassifier(**params)\n",
    "\n",
    "# Train the model\n",
    "lgb_model.fit(X_train, y_train)\n",
    "\n",
    "# Make predictions on training data\n",
    "y_train_pred = lgb_model.predict(X_train)\n",
    "y_train_pred_prob = lgb_model.predict_proba(X_train)[:, 1]\n",
    "\n",
    "# Make predictions on test data\n",
    "y_test_pred = lgb_model.predict(X_test)\n",
    "y_test_pred_prob = lgb_model.predict_proba(X_test)[:, 1]\n",
    "\n",
    "# Evaluate the model on training data\n",
    "train_f1 = f1_score(y_train, y_train_pred)\n",
    "train_roc_auc = roc_auc_score(y_train, y_train_pred_prob)\n",
    "train_accuracy = accuracy_score(y_train, y_train_pred)\n",
    "\n",
    "# Evaluate the model on test data\n",
    "test_f1 = f1_score(y_test, y_test_pred)\n",
    "test_roc_auc = roc_auc_score(y_test, y_test_pred_prob)\n",
    "test_accuracy = accuracy_score(y_test, y_test_pred)\n",
    "\n",
    "print(\"Training Metrics:\")\n",
    "print(f\"F1 Score: {train_f1}\")\n",
    "print(f\"ROC AUC Score: {train_roc_auc}\")\n",
    "print(f\"Accuracy: {train_accuracy}\")\n",
    "\n",
    "print(\"\\nTest Metrics:\")\n",
    "print(f\"F1 Score: {test_f1}\")\n",
    "print(f\"ROC AUC Score: {test_roc_auc}\")\n",
    "print(f\"Accuracy: {test_accuracy}\")"
   ]
  },
  {
   "cell_type": "code",
   "execution_count": 5,
   "metadata": {},
   "outputs": [
    {
     "data": {
      "image/png": "[encoded data removed]",
      "text/plain": [
       "<Figure size 800x600 with 2 Axes>"
      ]
     },
     "metadata": {},
     "output_type": "display_data"
    }
   ],
   "source": [
    "# Plot confusion matrix for test data\n",
    "train_cm = confusion_matrix(y_test, y_test_pred)\n",
    "plt.figure(figsize=(8, 6))\n",
    "sns.heatmap(train_cm, annot=True, fmt='d', cmap='Blues')\n",
    "plt.title('Confusion Matrix - Test Data')\n",
    "plt.xlabel('Predicted')\n",
    "plt.ylabel('Actual')\n",
    "plt.show()"
   ]
  },
  {
   "cell_type": "code",
   "execution_count": 6,
   "metadata": {},
   "outputs": [
    {
     "name": "stderr",
     "output_type": "stream",
     "text": [
      "c:\\Users\\Yassine\\AppData\\Local\\Programs\\Python\\Python312\\Lib\\site-packages\\mlflow\\types\\utils.py:407: UserWarning: Hint: Inferred schema contains integer column(s). Integer columns in Python cannot represent missing values. If your input data contains missing values at inference time, it will be encoded as floats and will cause a schema enforcement error. The best way to avoid this problem is to infer the model schema based on a realistic data sample (training dataset) that includes missing values. Alternatively, you can declare integer columns as doubles (float64) whenever these columns may have missing values. See `Handling Integers With Missing Values <https://www.mlflow.org/docs/latest/models.html#handling-integers-with-missing-values>`_ for more details.\n",
      "  warnings.warn(\n",
      "Registered model 'LightGBM_optuna' already exists. Creating a new version of this model...\n",
      "2024/11/23 00:11:45 INFO mlflow.store.model_registry.abstract_store: Waiting up to 300 seconds for model version to finish creation. Model name: LightGBM_optuna, version 2\n",
      "Created version '2' of model 'LightGBM_optuna'.\n",
      "Downloading artifacts: 100%|██████████| 7/7 [00:06<00:00,  1.00it/s]\n"
     ]
    }
   ],
   "source": [
    "# Log parameters and metrics with MLflow\n",
    "mlflow.log_params(params)\n",
    "mlflow.log_metric(\"train_accuracy\", train_accuracy)\n",
    "mlflow.log_metric(\"train_F1 Score\", train_f1)\n",
    "mlflow.log_metric(\"train_ROC AUC Score\", train_roc_auc)\n",
    "mlflow.log_metric(\"test_accuracy\", test_accuracy)\n",
    "mlflow.log_metric(\"test_F1 Score\", test_f1)\n",
    "mlflow.log_metric(\"test_ROC AUC Score\", test_roc_auc)\n",
    "\n",
    "# Set a tag for the run\n",
    "mlflow.set_tag(\"Training Info\", \"LightGBM model training\")\n",
    "\n",
    "# Infer the model signature\n",
    "signature = infer_signature(X_train, lgb_model.predict(X_train))\n",
    "\n",
    "# Log the model\n",
    "model_info = mlflow.lightgbm.log_model(\n",
    "    lgb_model,\n",
    "    artifact_path=\"insurance_fraud_model_lgb\",\n",
    "    signature=signature,\n",
    "    input_example=X_train,\n",
    "    registered_model_name=\"LightGBM_optuna\",\n",
    ")"
   ]
  },
  {
   "cell_type": "code",
   "execution_count": 7,
   "metadata": {},
   "outputs": [
    {
     "data": {
      "text/plain": [
       "['model.pkl']"
      ]
     },
     "execution_count": 7,
     "metadata": {},
     "output_type": "execute_result"
    }
   ],
   "source": [
    "joblib.dump(lgb_model, 'model.pkl')"
   ]
  },
  {
   "cell_type": "code",
   "execution_count": 13,
   "metadata": {},
   "outputs": [
    {
     "data": {
      "text/plain": [
       "0"
      ]
     },
     "execution_count": 13,
     "metadata": {},
     "output_type": "execute_result"
    }
   ],
   "source": [
    "y_train.iloc[5]"
   ]
  }
 ],
 "metadata": {
  "kernelspec": {
   "display_name": "Python 3",
   "language": "python",
   "name": "python3"
  },
  "language_info": {
   "codemirror_mode": {
    "name": "ipython",
    "version": 3
   },
   "file_extension": ".py",
   "mimetype": "text/x-python",
   "name": "python",
   "nbconvert_exporter": "python",
   "pygments_lexer": "ipython3",
   "version": "3.12.7"
  }
 },
 "nbformat": 4,
 "nbformat_minor": 2
}
