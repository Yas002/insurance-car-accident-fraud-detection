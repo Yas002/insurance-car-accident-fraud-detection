{
 "cells": [
  {
   "cell_type": "code",
   "execution_count": 65,
   "metadata": {},
   "outputs": [],
   "source": [
    "import numpy as np\n",
    "import pandas as pd\n",
    "import matplotlib.pyplot as plt\n",
    "import seaborn as sns\n",
    "import os\n",
    "from dotenv import load_dotenv\n",
    "import dagshub\n",
    "from sklearn.linear_model import LogisticRegression\n",
    "from sklearn.svm import SVC\n",
    "from sklearn.neighbors import KNeighborsClassifier\n",
    "from sklearn.ensemble import RandomForestClassifier\n",
    "import lightgbm as lgb\n",
    "import xgboost as xgb\n",
    "from sklearn.metrics import f1_score, roc_auc_score, accuracy_score, confusion_matrix\n",
    "import mlflow\n",
    "from mlflow.models import infer_signature"
   ]
  },
  {
   "cell_type": "code",
   "execution_count": 3,
   "metadata": {},
   "outputs": [
    {
     "name": "stdout",
     "output_type": "stream",
     "text": [
      "Environment variables loaded successfully:\n",
      "DagsHub Username: yassine_msaddak\n",
      "DagsHub Token: Loaded\n",
      "Using MLflow to track experiments on DagsHub repo: yassine_msaddak/insurance-car-accident-fraud-detection\n"
     ]
    }
   ],
   "source": [
    "# Load environment variables from the .env file\n",
    "load_dotenv(\"../.env\")\n",
    "\n",
    "# Set the DagsHub username and token from environment variables\n",
    "dagshub_username = os.getenv('MLFLOW_TRACKING_USERNAME')\n",
    "dagshub_token = os.getenv('MLFLOW_TRACKING_PASSWORD')\n",
    "\n",
    "# Print or assert to confirm the values are loaded\n",
    "if dagshub_username and dagshub_token:\n",
    "    print(\"Environment variables loaded successfully:\")\n",
    "    print(\"DagsHub Username:\", dagshub_username)\n",
    "    print(\"DagsHub Token:\", \"Loaded\" if dagshub_token else \"Not Loaded\")\n",
    "else:\n",
    "    print(\"Failed to load environment variables.\")\n",
    "\n",
    "# Set the MLflow tracking URI to your existing DagsHub repository\n",
    "mlflow.set_tracking_uri(f\"https://dagshub.com/yassine_msaddak/insurance-car-accident-fraud-detection.mlflow\")\n",
    "\n",
    "# Optionally authenticate with your DagsHub credentials\n",
    "os.environ['MLFLOW_TRACKING_USERNAME'] = dagshub_username\n",
    "os.environ['MLFLOW_TRACKING_PASSWORD'] = dagshub_token\n",
    "\n",
    "# Now you can log your model and experiments directly with MLflow\n",
    "print(f\"Using MLflow to track experiments on DagsHub repo: {dagshub_username}/insurance-car-accident-fraud-detection\")"
   ]
  },
  {
   "cell_type": "code",
   "execution_count": 5,
   "metadata": {},
   "outputs": [],
   "source": [
    "train_path = os.path.join(os.path.dirname(\"modeling.ipynb\"), '..', 'data', 'df_train_1.csv')\n",
    "test_path = os.path.join(os.path.dirname(\"modeling.ipynb\"), '..', 'data', 'df_test_1.csv')\n",
    "train = pd.read_csv(train_path)\n",
    "test = pd.read_csv(test_path)\n",
    "\n",
    "X_train = train.drop(columns=['FraudFound_P'])\n",
    "y_train = train['FraudFound_P']\n",
    "X_test = test.drop(columns=['FraudFound_P'])\n",
    "y_test = test['FraudFound_P']\n",
    "\n",
    "\n",
    "# Define the paths to the train and test CSV files for unbalanced data\n",
    "train_path_unbalanced = os.path.join(os.path.dirname(\"modeling.ipynb\"), '..', 'data', 'df_train_1_unbalanced.csv')\n",
    "test_path_unbalanced = os.path.join(os.path.dirname(\"modeling.ipynb\"), '..', 'data', 'df_test_1_unbalanced.csv')\n",
    "\n",
    "# Load the train and test datasets\n",
    "train_unbalanced = pd.read_csv(train_path_unbalanced)\n",
    "test_unbalanced = pd.read_csv(test_path_unbalanced)\n",
    "\n",
    "# Prepare the feature matrices (X) and target vectors (y)\n",
    "X_train_unbalanced = train_unbalanced.drop(columns=['FraudFound_P'])\n",
    "y_train_unbalanced = train_unbalanced['FraudFound_P']\n",
    "X_test_unbalanced = test_unbalanced.drop(columns=['FraudFound_P'])\n",
    "y_test_unbalanced = test_unbalanced['FraudFound_P']"
   ]
  },
  {
   "cell_type": "markdown",
   "metadata": {},
   "source": [
    "# Logistic Regression"
   ]
  },
  {
   "cell_type": "code",
   "execution_count": null,
   "metadata": {},
   "outputs": [],
   "source": [
    "# Create a new MLflow Experiment\n",
    "mlflow.set_experiment(\"insurance-fraud-detection-experiment\")\n",
    "\n",
    "params = {'max_iter':1500, 'solver':'liblinear', 'class_weight':'balanced', 'penalty':'l2', 'C':1.0,}\n",
    "# Initialize the Logistic Regression model with increased max_iter\n",
    "log_reg = LogisticRegression(**params)\n",
    "\n",
    "# Train the model\n",
    "log_reg.fit(X_train, y_train)\n",
    "\n",
    "# Make predictions\n",
    "y_pred = log_reg.predict(X_test)\n",
    "y_pred_prob = log_reg.predict_proba(X_test)[:, 1]\n",
    "\n",
    "# Evaluate the model\n",
    "f1 = f1_score(y_test, y_pred)\n",
    "roc_auc = roc_auc_score(y_test, y_pred_prob)\n",
    "accuracy = accuracy_score(y_test, y_pred)\n",
    "\n",
    "print(f\"F1 Score: {f1}\")\n",
    "print(f\"ROC AUC Score: {roc_auc}\")\n",
    "print(f\"Accuracy: {accuracy}\")"
   ]
  },
  {
   "cell_type": "code",
   "execution_count": null,
   "metadata": {},
   "outputs": [],
   "source": [
    "# Start an MLflow run\n",
    "with mlflow.start_run():\n",
    "    # Log the hyperparameters\n",
    "    mlflow.log_params(params)\n",
    "\n",
    "    # Log the loss metric\n",
    "    mlflow.log_metric(\"accuracy\", accuracy)\n",
    "    mlflow.log_metric(\"F1 Score\", f1)\n",
    "    mlflow.log_metric(\"ROC AUC Score\", roc_auc)\n",
    "\n",
    "    # Set a tag that we can use to remind ourselves what this run was for\n",
    "    mlflow.set_tag(\"Training Info\", \"first experience\")\n",
    "\n",
    "    # Infer the model signature\n",
    "    signature = infer_signature(X_train, log_reg.predict(X_train))\n",
    "\n",
    "    # Log the model\n",
    "    model_info = mlflow.sklearn.log_model(\n",
    "        sk_model=log_reg,\n",
    "        artifact_path=\"insurance_fraud_model\",\n",
    "        signature=signature,\n",
    "        input_example=X_train,\n",
    "        registered_model_name=\"tracking-quickstart\",\n",
    "    )"
   ]
  },
  {
   "cell_type": "markdown",
   "metadata": {},
   "source": [
    "# SVM"
   ]
  },
  {
   "cell_type": "code",
   "execution_count": null,
   "metadata": {},
   "outputs": [],
   "source": [
    "# Create a new MLflow Experiment\n",
    "mlflow.set_experiment(\"insurance-fraud-detection-experiment\")\n",
    "\n",
    "# Parameters for SVM\n",
    "params = {\n",
    "    'kernel': 'linear',\n",
    "    'C':5.4,\n",
    "    'max_iter': -1,\n",
    "    'probability': True\n",
    "}\n",
    "\n",
    "# Initialize the SVM model with the specified parameters\n",
    "svm_model = SVC(**params)\n",
    "\n",
    "# Train the model\n",
    "svm_model.fit(X_train, y_train)\n",
    "\n",
    "# Make predictions\n",
    "y_pred = svm_model.predict(X_test)\n",
    "y_pred_prob = svm_model.predict_proba(X_test)[:, 1]\n",
    "\n",
    "# Evaluate the model\n",
    "f1 = f1_score(y_test, y_pred)\n",
    "roc_auc = roc_auc_score(y_test, y_pred_prob)\n",
    "accuracy = accuracy_score(y_test, y_pred)\n",
    "\n",
    "print(f\"F1 Score: {f1}\")\n",
    "print(f\"ROC AUC Score: {roc_auc}\")\n",
    "print(f\"Accuracy: {accuracy}\")"
   ]
  },
  {
   "cell_type": "code",
   "execution_count": null,
   "metadata": {},
   "outputs": [],
   "source": [
    "# Start an MLflow run\n",
    "with mlflow.start_run():\n",
    "    # Log the hyperparameters\n",
    "    mlflow.log_params(params)\n",
    "\n",
    "    # Log the loss metric\n",
    "    mlflow.log_metric(\"accuracy\", accuracy)\n",
    "    mlflow.log_metric(\"F1 Score\", f1)\n",
    "    mlflow.log_metric(\"ROC AUC Score\", roc_auc)\n",
    "\n",
    "    # Set a tag that we can use to remind ourselves what this run was for\n",
    "    mlflow.set_tag(\"Training Info\", \"first experience\")\n",
    "\n",
    "    # Infer the model signature\n",
    "    signature = infer_signature(X_train, svm_model.predict(X_train))\n",
    "\n",
    "    # Log the model\n",
    "    model_info = mlflow.sklearn.log_model(\n",
    "        sk_model=svm_model,\n",
    "        artifact_path=\"insurance_fraud_model\",\n",
    "        signature=signature,\n",
    "        input_example=X_train,\n",
    "        registered_model_name=\"SVM_v2\",\n",
    "    )"
   ]
  },
  {
   "cell_type": "markdown",
   "metadata": {},
   "source": [
    "# KNN"
   ]
  },
  {
   "cell_type": "code",
   "execution_count": null,
   "metadata": {},
   "outputs": [],
   "source": [
    "# Create a new MLflow Experiment\n",
    "mlflow.set_experiment(\"insurance-fraud-detection-experiment\")\n",
    "\n",
    "# Parameters for KNN\n",
    "params = {\n",
    "    'n_neighbors': 2,\n",
    "    'p': 1\n",
    "}\n",
    "\n",
    "# Initialize the KNN model with the specified parameters\n",
    "knn_model = KNeighborsClassifier(**params)\n",
    "\n",
    "# Train the model\n",
    "knn_model.fit(X_train, y_train)\n",
    "\n",
    "# Make predictions\n",
    "y_pred = knn_model.predict(X_test)\n",
    "y_pred_prob = knn_model.predict_proba(X_test)[:, 1]\n",
    "\n",
    "# Evaluate the model\n",
    "f1 = f1_score(y_test, y_pred)\n",
    "roc_auc = roc_auc_score(y_test, y_pred_prob)\n",
    "accuracy = accuracy_score(y_test, y_pred)\n",
    "\n",
    "print(f\"F1 Score: {f1}\")\n",
    "print(f\"ROC AUC Score: {roc_auc}\")\n",
    "print(f\"Accuracy: {accuracy}\")"
   ]
  },
  {
   "cell_type": "code",
   "execution_count": null,
   "metadata": {},
   "outputs": [],
   "source": [
    "# Log parameters and metrics with MLflow\n",
    "mlflow.log_params(params)\n",
    "mlflow.log_metric(\"accuracy\", accuracy)\n",
    "mlflow.log_metric(\"F1 Score\", f1)\n",
    "mlflow.log_metric(\"ROC AUC Score\", roc_auc)\n",
    "\n",
    "# Set a tag for the run\n",
    "mlflow.set_tag(\"Training info\", \"KNN model training\")\n",
    "\n",
    "# Infer the model signature\n",
    "signature = infer_signature(X_train, knn_model.predict(X_train))\n",
    "\n",
    "# Log the model\n",
    "model_info = mlflow.sklearn.log_model(\n",
    "    sk_model=knn_model,\n",
    "    artifact_path=\"insurance_fraud_model_knn\",\n",
    "    signature=signature,\n",
    "    input_example=X_train,\n",
    "    registered_model_name=\"KNN_v2\",\n",
    ")"
   ]
  },
  {
   "cell_type": "markdown",
   "metadata": {},
   "source": [
    "# Random Forest"
   ]
  },
  {
   "cell_type": "code",
   "execution_count": null,
   "metadata": {},
   "outputs": [],
   "source": [
    "# Create a new MLflow Experiment\n",
    "mlflow.set_experiment(\"insurance-fraud-detection-experiment\")\n",
    "\n",
    "# Parameters for Random Forest\n",
    "params = {\n",
    "    'n_estimators': 700,  # Number of trees in the forest\n",
    "    'min_samples_split': 2,  # Minimum number of samples required to split an internal node\n",
    "    'min_samples_leaf': 1,  # Minimum number of samples required to be at a leaf node\n",
    "}\n",
    "\n",
    "# Initialize the Random Forest model with the specified parameters\n",
    "rf_model = RandomForestClassifier(**params)\n",
    "\n",
    "# Train the model\n",
    "rf_model.fit(X_train, y_train)\n",
    "\n",
    "# Make predictions\n",
    "y_pred = rf_model.predict(X_test)\n",
    "y_pred_prob = rf_model.predict_proba(X_test)[:, 1]\n",
    "\n",
    "# Evaluate the model\n",
    "f1 = f1_score(y_test, y_pred)\n",
    "roc_auc = roc_auc_score(y_test, y_pred_prob)\n",
    "accuracy = accuracy_score(y_test, y_pred)\n",
    "\n",
    "print(f\"F1 Score: {f1}\")\n",
    "print(f\"ROC AUC Score: {roc_auc}\")\n",
    "print(f\"Accuracy: {accuracy}\")"
   ]
  },
  {
   "cell_type": "code",
   "execution_count": null,
   "metadata": {},
   "outputs": [],
   "source": [
    "# Log parameters and metrics with MLflow\n",
    "mlflow.log_params(params)\n",
    "mlflow.log_metric(\"accuracy\", accuracy)\n",
    "mlflow.log_metric(\"F1 Score\", f1)\n",
    "mlflow.log_metric(\"ROC AUC Score\", roc_auc)\n",
    "\n",
    "# Set a tag for the run\n",
    "mlflow.set_tag(\"Training Info\", \"Random Forest model training\")\n",
    "\n",
    "# Infer the model signature\n",
    "signature = infer_signature(X_train, rf_model.predict(X_train))\n",
    "\n",
    "# Log the model\n",
    "model_info = mlflow.sklearn.log_model(\n",
    "    sk_model=rf_model,\n",
    "    artifact_path=\"insurance_fraud_model_rf\",\n",
    "    signature=signature,\n",
    "    input_example=X_train,\n",
    "    registered_model_name=\"RandomForest_v1\",\n",
    ")"
   ]
  },
  {
   "cell_type": "markdown",
   "metadata": {},
   "source": [
    "# Lightgbm"
   ]
  },
  {
   "cell_type": "code",
   "execution_count": 57,
   "metadata": {},
   "outputs": [
    {
     "name": "stdout",
     "output_type": "stream",
     "text": [
      "[LightGBM] [Info] Number of positive: 5797, number of negative: 5798\n",
      "[LightGBM] [Info] Auto-choosing col-wise multi-threading, the overhead of testing was 0.002989 seconds.\n",
      "You can set `force_col_wise=true` to remove the overhead.\n",
      "[LightGBM] [Info] Total Bins 159\n",
      "[LightGBM] [Info] Number of data points in the train set: 11595, number of used features: 21\n",
      "[LightGBM] [Info] [binary:BoostFromScore]: pavg=0.499957 -> initscore=-0.000172\n",
      "[LightGBM] [Info] Start training from score -0.000172\n",
      "Training Metrics:\n",
      "F1 Score: 0.8760837201155968\n",
      "ROC AUC Score: 0.9526359163424027\n",
      "Accuracy: 0.8779646399310047\n",
      "\n",
      "Test Metrics:\n",
      "F1 Score: 0.16494845360824742\n",
      "ROC AUC Score: 0.7484039048477367\n",
      "Accuracy: 0.8424124513618677\n"
     ]
    }
   ],
   "source": [
    "# Create a new MLflow Experiment\n",
    "mlflow.set_experiment(\"insurance-fraud-detection-experiment\")\n",
    "params = {\n",
    "    'boosting_type': 'gbdt',\n",
    "    'objective': 'binary',\n",
    "    'metric': 'binary_logloss',\n",
    "    'num_leaves': 33,\n",
    "    'learning_rate': 0.01,\n",
    "    'n_estimators': 146\n",
    "}\n",
    "\n",
    "# Initialize the LightGBM model with the specified parameters\n",
    "lgb_model = lgb.LGBMClassifier(**params)\n",
    "\n",
    "# Train the model\n",
    "lgb_model.fit(X_train, y_train)\n",
    "\n",
    "# Make predictions on training data\n",
    "y_train_pred = lgb_model.predict(X_train)\n",
    "y_train_pred_prob = lgb_model.predict_proba(X_train)[:, 1]\n",
    "\n",
    "# Make predictions on test data\n",
    "y_test_pred = lgb_model.predict(X_test)\n",
    "y_test_pred_prob = lgb_model.predict_proba(X_test)[:, 1]\n",
    "\n",
    "# Evaluate the model on training data\n",
    "train_f1 = f1_score(y_train, y_train_pred)\n",
    "train_roc_auc = roc_auc_score(y_train, y_train_pred_prob)\n",
    "train_accuracy = accuracy_score(y_train, y_train_pred)\n",
    "\n",
    "# Evaluate the model on test data\n",
    "test_f1 = f1_score(y_test, y_test_pred)\n",
    "test_roc_auc = roc_auc_score(y_test, y_test_pred_prob)\n",
    "test_accuracy = accuracy_score(y_test, y_test_pred)\n",
    "\n",
    "print(\"Training Metrics:\")\n",
    "print(f\"F1 Score: {train_f1}\")\n",
    "print(f\"ROC AUC Score: {train_roc_auc}\")\n",
    "print(f\"Accuracy: {train_accuracy}\")\n",
    "\n",
    "print(\"\\nTest Metrics:\")\n",
    "print(f\"F1 Score: {test_f1}\")\n",
    "print(f\"ROC AUC Score: {test_roc_auc}\")\n",
    "print(f\"Accuracy: {test_accuracy}\")"
   ]
  },
  {
   "cell_type": "code",
   "execution_count": 59,
   "metadata": {},
   "outputs": [
    {
     "data": {
      "image/png": "[encoded data removed]",
      "text/plain": [
       "<Figure size 800x600 with 2 Axes>"
      ]
     },
     "metadata": {},
     "output_type": "display_data"
    }
   ],
   "source": [
    "# Plot confusion matrix for training data\n",
    "train_cm = confusion_matrix(y_train, y_train_pred)\n",
    "plt.figure(figsize=(8, 6))\n",
    "sns.heatmap(train_cm, annot=True, fmt='d', cmap='Blues')\n",
    "plt.title('Confusion Matrix - Training Data')\n",
    "plt.xlabel('Predicted')\n",
    "plt.ylabel('Actual')\n",
    "plt.show()"
   ]
  },
  {
   "cell_type": "markdown",
   "metadata": {},
   "source": [
    "# Lightgmb on unbalanced data"
   ]
  },
  {
   "cell_type": "code",
   "execution_count": 60,
   "metadata": {},
   "outputs": [
    {
     "name": "stdout",
     "output_type": "stream",
     "text": [
      "[LightGBM] [Info] Number of positive: 370, number of negative: 5798\n",
      "[LightGBM] [Info] Auto-choosing row-wise multi-threading, the overhead of testing was 0.000813 seconds.\n",
      "You can set `force_row_wise=true` to remove the overhead.\n",
      "And if memory is not enough, you can set `force_col_wise=true`.\n",
      "[LightGBM] [Info] Total Bins 156\n",
      "[LightGBM] [Info] Number of data points in the train set: 6168, number of used features: 21\n",
      "[LightGBM] [Info] [binary:BoostFromScore]: pavg=0.059987 -> initscore=-2.751765\n",
      "[LightGBM] [Info] Start training from score -2.751765\n",
      "Training Metrics:\n",
      "F1 Score: 0.06266318537859007\n",
      "ROC AUC Score: 0.9394495305930284\n",
      "Accuracy: 0.9417963683527886\n",
      "\n",
      "Test Metrics:\n",
      "F1 Score: 0.021739130434782608\n",
      "ROC AUC Score: 0.8212941434857356\n",
      "Accuracy: 0.9416342412451362\n"
     ]
    }
   ],
   "source": [
    "# Create a new MLflow Experiment\n",
    "mlflow.set_experiment(\"insurance-fraud-detection-experiment\")\n",
    "\n",
    "params = {\n",
    "    'boosting_type': 'gbdt',\n",
    "    'objective': 'binary',\n",
    "    'metric': 'binary_logloss',\n",
    "    'num_leaves': 32,\n",
    "    'learning_rate': 0.01,\n",
    "    'n_estimators': 150\n",
    "}\n",
    "\n",
    "# Initialize the LightGBM model with the specified parameters\n",
    "lgb_model = lgb.LGBMClassifier(**params)\n",
    "\n",
    "# Train the model\n",
    "lgb_model.fit(X_train_unbalanced, y_train_unbalanced)\n",
    "\n",
    "# Make predictions on training data\n",
    "y_train_pred = lgb_model.predict(X_train_unbalanced)\n",
    "y_train_pred_prob = lgb_model.predict_proba(X_train_unbalanced)[:, 1]\n",
    "\n",
    "# Make predictions on test data\n",
    "y_test_pred = lgb_model.predict(X_test_unbalanced)\n",
    "y_test_pred_prob = lgb_model.predict_proba(X_test_unbalanced)[:, 1]\n",
    "\n",
    "# Evaluate the model on training data\n",
    "train_f1 = f1_score(y_train_unbalanced, y_train_pred)\n",
    "train_roc_auc = roc_auc_score(y_train_unbalanced, y_train_pred_prob)\n",
    "train_accuracy = accuracy_score(y_train_unbalanced, y_train_pred)\n",
    "\n",
    "# Evaluate the model on test data\n",
    "test_f1 = f1_score(y_test_unbalanced, y_test_pred)\n",
    "test_roc_auc = roc_auc_score(y_test_unbalanced, y_test_pred_prob)\n",
    "test_accuracy = accuracy_score(y_test_unbalanced, y_test_pred)\n",
    "\n",
    "print(\"Training Metrics:\")\n",
    "print(f\"F1 Score: {train_f1}\")\n",
    "print(f\"ROC AUC Score: {train_roc_auc}\")\n",
    "print(f\"Accuracy: {train_accuracy}\")\n",
    "\n",
    "print(\"\\nTest Metrics:\")\n",
    "print(f\"F1 Score: {test_f1}\")\n",
    "print(f\"ROC AUC Score: {test_roc_auc}\")\n",
    "print(f\"Accuracy: {test_accuracy}\")"
   ]
  },
  {
   "cell_type": "code",
   "execution_count": 61,
   "metadata": {},
   "outputs": [
    {
     "data": {
      "image/png": "[encoded data removed]",
      "text/plain": [
       "<Figure size 800x600 with 2 Axes>"
      ]
     },
     "metadata": {},
     "output_type": "display_data"
    }
   ],
   "source": [
    "# Plot confusion matrix for training data\n",
    "train_cm = confusion_matrix(y_train_unbalanced, y_train_pred)\n",
    "plt.figure(figsize=(8, 6))\n",
    "sns.heatmap(train_cm, annot=True, fmt='d', cmap='Blues')\n",
    "plt.title('Confusion Matrix - Training Data')\n",
    "plt.xlabel('Predicted')\n",
    "plt.ylabel('Actual')\n",
    "plt.show()"
   ]
  },
  {
   "cell_type": "code",
   "execution_count": 63,
   "metadata": {},
   "outputs": [
    {
     "name": "stderr",
     "output_type": "stream",
     "text": [
      "c:\\Users\\Yassine\\AppData\\Local\\Programs\\Python\\Python312\\Lib\\site-packages\\mlflow\\types\\utils.py:407: UserWarning: Hint: Inferred schema contains integer column(s). Integer columns in Python cannot represent missing values. If your input data contains missing values at inference time, it will be encoded as floats and will cause a schema enforcement error. The best way to avoid this problem is to infer the model schema based on a realistic data sample (training dataset) that includes missing values. Alternatively, you can declare integer columns as doubles (float64) whenever these columns may have missing values. See `Handling Integers With Missing Values <https://www.mlflow.org/docs/latest/models.html#handling-integers-with-missing-values>`_ for more details.\n",
      "  warnings.warn(\n",
      "Successfully registered model 'LightGBM_v4'.\n",
      "2024/11/16 11:31:50 INFO mlflow.store.model_registry.abstract_store: Waiting up to 300 seconds for model version to finish creation. Model name: LightGBM_v4, version 1\n",
      "Created version '1' of model 'LightGBM_v4'.\n",
      "c:\\Users\\Yassine\\AppData\\Local\\Programs\\Python\\Python312\\Lib\\site-packages\\tqdm\\auto.py:21: TqdmWarning: IProgress not found. Please update jupyter and ipywidgets. See https://ipywidgets.readthedocs.io/en/stable/user_install.html\n",
      "  from .autonotebook import tqdm as notebook_tqdm\n",
      "Downloading artifacts: 100%|██████████| 7/7 [00:06<00:00,  1.02it/s]\n"
     ]
    }
   ],
   "source": [
    "# Log parameters and metrics with MLflow\n",
    "mlflow.log_params(params)\n",
    "mlflow.log_metric(\"train_accuracy\", train_accuracy)\n",
    "mlflow.log_metric(\"train_F1 Score\", train_f1)\n",
    "mlflow.log_metric(\"train_ROC AUC Score\", train_roc_auc)\n",
    "mlflow.log_metric(\"test_accuracy\", test_accuracy)\n",
    "mlflow.log_metric(\"test_F1 Score\", test_f1)\n",
    "mlflow.log_metric(\"test_ROC AUC Score\", test_roc_auc)\n",
    "\n",
    "# Set a tag for the run\n",
    "mlflow.set_tag(\"Training Info\", \"LightGBM model training\")\n",
    "\n",
    "# Infer the model signature\n",
    "signature = infer_signature(X_train, lgb_model.predict(X_train))\n",
    "\n",
    "# Log the model\n",
    "model_info = mlflow.lightgbm.log_model(\n",
    "    lgb_model,\n",
    "    artifact_path=\"insurance_fraud_model_lgb\",\n",
    "    signature=signature,\n",
    "    input_example=X_train,\n",
    "    registered_model_name=\"LightGBM_v4\",\n",
    ")"
   ]
  },
  {
   "cell_type": "markdown",
   "metadata": {},
   "source": [
    "# XGBoost on balanced data"
   ]
  },
  {
   "cell_type": "code",
   "execution_count": 66,
   "metadata": {},
   "outputs": [
    {
     "name": "stdout",
     "output_type": "stream",
     "text": [
      "Training Metrics:\n",
      "F1 Score: 0.9138961366888309\n",
      "ROC AUC Score: 0.9698114659227991\n",
      "Accuracy: 0.9117723156532989\n",
      "\n",
      "Test Metrics:\n",
      "F1 Score: 0.17088607594936708\n",
      "ROC AUC Score: 0.7465862875924902\n",
      "Accuracy: 0.8300907911802854\n"
     ]
    }
   ],
   "source": [
    "# Parameters for XGBoost\n",
    "params = {\n",
    "    'objective': 'binary:logistic',\n",
    "    'eval_metric': 'logloss',\n",
    "    'learning_rate': 0.05,\n",
    "    'max_depth': 6,\n",
    "    'n_estimators': 100,\n",
    "    'random_state': 42\n",
    "}\n",
    "\n",
    "# Initialize the XGBoost model with the specified parameters\n",
    "xgb_model = xgb.XGBClassifier(**params)\n",
    "\n",
    "# Train the model\n",
    "xgb_model.fit(X_train, y_train)\n",
    "\n",
    "# Make predictions on training data\n",
    "y_train_pred = xgb_model.predict(X_train)\n",
    "y_train_pred_prob = xgb_model.predict_proba(X_train)[:, 1]\n",
    "\n",
    "# Make predictions on test data\n",
    "y_test_pred = xgb_model.predict(X_test)\n",
    "y_test_pred_prob = xgb_model.predict_proba(X_test)[:, 1]\n",
    "\n",
    "# Evaluate the model on training data\n",
    "train_f1 = f1_score(y_train, y_train_pred)\n",
    "train_roc_auc = roc_auc_score(y_train, y_train_pred_prob)\n",
    "train_accuracy = accuracy_score(y_train, y_train_pred)\n",
    "\n",
    "# Evaluate the model on test data\n",
    "test_f1 = f1_score(y_test, y_test_pred)\n",
    "test_roc_auc = roc_auc_score(y_test, y_test_pred_prob)\n",
    "test_accuracy = accuracy_score(y_test, y_test_pred)\n",
    "\n",
    "print(\"Training Metrics:\")\n",
    "print(f\"F1 Score: {train_f1}\")\n",
    "print(f\"ROC AUC Score: {train_roc_auc}\")\n",
    "print(f\"Accuracy: {train_accuracy}\")\n",
    "\n",
    "print(\"\\nTest Metrics:\")\n",
    "print(f\"F1 Score: {test_f1}\")\n",
    "print(f\"ROC AUC Score: {test_roc_auc}\")\n",
    "print(f\"Accuracy: {test_accuracy}\")"
   ]
  },
  {
   "cell_type": "code",
   "execution_count": 68,
   "metadata": {},
   "outputs": [
    {
     "data": {
      "image/png": "[encoded data removed]",
      "text/plain": [
       "<Figure size 800x600 with 2 Axes>"
      ]
     },
     "metadata": {},
     "output_type": "display_data"
    }
   ],
   "source": [
    "# Plot confusion matrix for test data\n",
    "train_cm = confusion_matrix(y_test, y_test_pred)\n",
    "plt.figure(figsize=(8, 6))\n",
    "sns.heatmap(train_cm, annot=True, fmt='d', cmap='Blues')\n",
    "plt.title('Confusion Matrix - Test Data')\n",
    "plt.xlabel('Predicted')\n",
    "plt.ylabel('Actual')\n",
    "plt.show()"
   ]
  },
  {
   "cell_type": "code",
   "execution_count": null,
   "metadata": {},
   "outputs": [],
   "source": []
  },
  {
   "cell_type": "code",
   "execution_count": null,
   "metadata": {},
   "outputs": [],
   "source": []
  }
 ],
 "metadata": {
  "kernelspec": {
   "display_name": "Python 3",
   "language": "python",
   "name": "python3"
  },
  "language_info": {
   "codemirror_mode": {
    "name": "ipython",
    "version": 3
   },
   "file_extension": ".py",
   "mimetype": "text/x-python",
   "name": "python",
   "nbconvert_exporter": "python",
   "pygments_lexer": "ipython3",
   "version": "3.12.7"
  }
 },
 "nbformat": 4,
 "nbformat_minor": 2
}
