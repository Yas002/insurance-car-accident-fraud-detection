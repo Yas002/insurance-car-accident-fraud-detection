{
 "cells": [
  {
   "cell_type": "code",
   "execution_count": 1,
   "metadata": {},
   "outputs": [
    {
     "name": "stderr",
     "output_type": "stream",
     "text": [
      "c:\\Users\\Yassine\\AppData\\Local\\Programs\\Python\\Python312\\Lib\\site-packages\\tqdm\\auto.py:21: TqdmWarning: IProgress not found. Please update jupyter and ipywidgets. See https://ipywidgets.readthedocs.io/en/stable/user_install.html\n",
      "  from .autonotebook import tqdm as notebook_tqdm\n"
     ]
    }
   ],
   "source": [
    "import numpy as np\n",
    "import pandas as pd\n",
    "import matplotlib.pyplot as plt\n",
    "import seaborn as sns\n",
    "import os\n",
    "from dotenv import load_dotenv\n",
    "import dagshub\n",
    "from sklearn.linear_model import LogisticRegression\n",
    "from sklearn.svm import SVC\n",
    "from sklearn.neighbors import KNeighborsClassifier\n",
    "from sklearn.ensemble import RandomForestClassifier\n",
    "import lightgbm as lgb\n",
    "import xgboost as xgb\n",
    "from catboost import CatBoostClassifier\n",
    "import optuna\n",
    "from optuna.samplers import TPESampler # bayesian optimizer for the selection of hyperparameters in optuna\t\n",
    "from sklearn.metrics import f1_score, roc_auc_score, accuracy_score, confusion_matrix\n",
    "import mlflow\n",
    "from mlflow.models import infer_signature\n",
    "import joblib"
   ]
  },
  {
   "cell_type": "code",
   "execution_count": 2,
   "metadata": {},
   "outputs": [
    {
     "name": "stdout",
     "output_type": "stream",
     "text": [
      "Environment variables loaded successfully:\n",
      "DagsHub Username: yassine_msaddak\n",
      "DagsHub Token: Loaded\n",
      "Using MLflow to track experiments on DagsHub repo: yassine_msaddak/insurance-car-accident-fraud-detection\n"
     ]
    }
   ],
   "source": [
    "# Load environment variables from the .env file\n",
    "load_dotenv(\"../.env\")\n",
    "\n",
    "# Set the DagsHub username and token from environment variables\n",
    "dagshub_username = os.getenv('MLFLOW_TRACKING_USERNAME')\n",
    "dagshub_token = os.getenv('MLFLOW_TRACKING_PASSWORD')\n",
    "\n",
    "# Print or assert to confirm the values are loaded\n",
    "if dagshub_username and dagshub_token:\n",
    "    print(\"Environment variables loaded successfully:\")\n",
    "    print(\"DagsHub Username:\", dagshub_username)\n",
    "    print(\"DagsHub Token:\", \"Loaded\" if dagshub_token else \"Not Loaded\")\n",
    "else:\n",
    "    print(\"Failed to load environment variables.\")\n",
    "\n",
    "# Set the MLflow tracking URI to your existing DagsHub repository\n",
    "mlflow.set_tracking_uri(f\"https://dagshub.com/yassine_msaddak/insurance-car-accident-fraud-detection.mlflow\")\n",
    "\n",
    "# Optionally authenticate with your DagsHub credentials\n",
    "os.environ['MLFLOW_TRACKING_USERNAME'] = dagshub_username\n",
    "os.environ['MLFLOW_TRACKING_PASSWORD'] = dagshub_token\n",
    "\n",
    "# Now you can log your model and experiments directly with MLflow\n",
    "print(f\"Using MLflow to track experiments on DagsHub repo: {dagshub_username}/insurance-car-accident-fraud-detection\")"
   ]
  },
  {
   "cell_type": "code",
   "execution_count": 3,
   "metadata": {},
   "outputs": [],
   "source": [
    "train_path = os.path.join(os.path.dirname(\"modeling.ipynb\"), '..', 'data', 'df_train_1.csv')\n",
    "test_path = os.path.join(os.path.dirname(\"modeling.ipynb\"), '..', 'data', 'df_test_1.csv')\n",
    "train = pd.read_csv(train_path)\n",
    "test = pd.read_csv(test_path)\n",
    "\n",
    "X_train = train.drop(columns=['FraudFound_P'])\n",
    "y_train = train['FraudFound_P']\n",
    "X_test = test.drop(columns=['FraudFound_P'])\n",
    "y_test = test['FraudFound_P']\n",
    "\n",
    "\n",
    "# Define the paths to the train and test CSV files for unbalanced data\n",
    "train_path_unbalanced = os.path.join(os.path.dirname(\"modeling.ipynb\"), '..', 'data', 'df_train_1_unbalanced.csv')\n",
    "test_path_unbalanced = os.path.join(os.path.dirname(\"modeling.ipynb\"), '..', 'data', 'df_test_1_unbalanced.csv')\n",
    "\n",
    "# Load the train and test datasets\n",
    "train_unbalanced = pd.read_csv(train_path_unbalanced)\n",
    "test_unbalanced = pd.read_csv(test_path_unbalanced)\n",
    "\n",
    "# Prepare the feature matrices (X) and target vectors (y)\n",
    "X_train_unbalanced = train_unbalanced.drop(columns=['FraudFound_P'])\n",
    "y_train_unbalanced = train_unbalanced['FraudFound_P']\n",
    "X_test_unbalanced = test_unbalanced.drop(columns=['FraudFound_P'])\n",
    "y_test_unbalanced = test_unbalanced['FraudFound_P']"
   ]
  },
  {
   "cell_type": "markdown",
   "metadata": {},
   "source": [
    "# Logistic Regression"
   ]
  },
  {
   "cell_type": "code",
   "execution_count": 4,
   "metadata": {},
   "outputs": [
    {
     "name": "stdout",
     "output_type": "stream",
     "text": [
      "Training Metrics:\n",
      "F1 Score: 0.8223158256683573\n",
      "ROC AUC Score: 0.9016281750091026\n",
      "Accuracy: 0.8217335058214748\n",
      "\n",
      "Test Metrics:\n",
      "F1 Score: 0.15121951219512195\n",
      "ROC AUC Score: 0.6668837709499322\n",
      "Accuracy: 0.77431906614786\n"
     ]
    }
   ],
   "source": [
    "# Create a new MLflow Experiment\n",
    "mlflow.set_experiment(\"insurance-fraud-detection-experiment\")\n",
    "\n",
    "params = {'max_iter':1500, 'solver':'liblinear', 'class_weight':'balanced', 'penalty':'l2', 'C':1.0,}\n",
    "# Initialize the Logistic Regression model with increased max_iter\n",
    "log_reg = LogisticRegression(**params)\n",
    "\n",
    "# Train the model\n",
    "log_reg.fit(X_train, y_train)\n",
    "\n",
    "# Make predictions on training data\n",
    "y_train_pred = log_reg.predict(X_train)\n",
    "y_train_pred_prob = log_reg.predict_proba(X_train)[:, 1]\n",
    "\n",
    "# Make predictions on test data\n",
    "y_test_pred = log_reg.predict(X_test)\n",
    "y_test_pred_prob = log_reg.predict_proba(X_test)[:, 1]\n",
    "\n",
    "# Evaluate the model on training data\n",
    "train_f1 = f1_score(y_train, y_train_pred)\n",
    "train_roc_auc = roc_auc_score(y_train, y_train_pred_prob)\n",
    "train_accuracy = accuracy_score(y_train, y_train_pred)\n",
    "\n",
    "# Evaluate the model on test data\n",
    "test_f1 = f1_score(y_test, y_test_pred)\n",
    "test_roc_auc = roc_auc_score(y_test, y_test_pred_prob)\n",
    "test_accuracy = accuracy_score(y_test, y_test_pred)\n",
    "\n",
    "print(\"Training Metrics:\")\n",
    "print(f\"F1 Score: {train_f1}\")\n",
    "print(f\"ROC AUC Score: {train_roc_auc}\")\n",
    "print(f\"Accuracy: {train_accuracy}\")\n",
    "\n",
    "print(\"\\nTest Metrics:\")\n",
    "print(f\"F1 Score: {test_f1}\")\n",
    "print(f\"ROC AUC Score: {test_roc_auc}\")\n",
    "print(f\"Accuracy: {test_accuracy}\")"
   ]
  },
  {
   "cell_type": "code",
   "execution_count": null,
   "metadata": {},
   "outputs": [],
   "source": [
    "# Log parameters and metrics with MLflow\n",
    "mlflow.log_params(params)\n",
    "mlflow.log_metric(\"train_accuracy\", train_accuracy)\n",
    "mlflow.log_metric(\"train_F1_Score\", train_f1)\n",
    "mlflow.log_metric(\"train_ROC_AUC_Score\", train_roc_auc)\n",
    "mlflow.log_metric(\"test_accuracy\", test_accuracy)\n",
    "mlflow.log_metric(\"test_F1_Score\", test_f1)\n",
    "mlflow.log_metric(\"test_ROC_AUC_Score\", test_roc_auc)\n",
    "\n",
    "# Set a tag for the run\n",
    "mlflow.set_tag(\"Training Info\", \"SVM model training\")\n",
    "\n",
    "# Infer the model signature\n",
    "signature = infer_signature(X_train, svm_model.predict(X_train))\n",
    "\n",
    "# Log the model\n",
    "model_info = mlflow.sklearn.log_model(\n",
    "    sk_model=log_reg,\n",
    "    artifact_path=\"insurance_fraud_model_svm\",\n",
    "    signature=signature,\n",
    "    input_example=X_train,\n",
    "    registered_model_name=\"logistic_regression\",\n",
    ")"
   ]
  },
  {
   "cell_type": "markdown",
   "metadata": {},
   "source": [
    "# SVM"
   ]
  },
  {
   "cell_type": "code",
   "execution_count": 5,
   "metadata": {},
   "outputs": [
    {
     "name": "stdout",
     "output_type": "stream",
     "text": [
      "Training Metrics:\n",
      "F1 Score: 0.8291204986149584\n",
      "ROC AUC Score: 0.9025885449545903\n",
      "Accuracy: 0.8297542043984476\n",
      "\n",
      "Test Metrics:\n",
      "F1 Score: 0.13648293963254593\n",
      "ROC AUC Score: 0.6624457554850387\n",
      "Accuracy: 0.7866407263294423\n"
     ]
    }
   ],
   "source": [
    "# Create a new MLflow Experiment\n",
    "mlflow.set_experiment(\"insurance-fraud-detection-experiment\")\n",
    "\n",
    "# Parameters for SVM\n",
    "params = {\n",
    "    'kernel': 'linear',\n",
    "    'C':5.4,\n",
    "    'max_iter': -1,\n",
    "    'probability': True\n",
    "}\n",
    "\n",
    "# Initialize the SVM model with the specified parameters\n",
    "svm_model = SVC(**params)\n",
    "\n",
    "# Train the model\n",
    "svm_model.fit(X_train, y_train)\n",
    "\n",
    "# Make predictions on training data\n",
    "y_train_pred = svm_model.predict(X_train)\n",
    "y_train_pred_prob = svm_model.predict_proba(X_train)[:, 1]\n",
    "\n",
    "# Make predictions on test data\n",
    "y_test_pred = svm_model.predict(X_test)\n",
    "y_test_pred_prob = svm_model.predict_proba(X_test)[:, 1]\n",
    "\n",
    "# Evaluate the model on training data\n",
    "train_f1 = f1_score(y_train, y_train_pred)\n",
    "train_roc_auc = roc_auc_score(y_train, y_train_pred_prob)\n",
    "train_accuracy = accuracy_score(y_train, y_train_pred)\n",
    "\n",
    "# Evaluate the model on test data\n",
    "test_f1 = f1_score(y_test, y_test_pred)\n",
    "test_roc_auc = roc_auc_score(y_test, y_test_pred_prob)\n",
    "test_accuracy = accuracy_score(y_test, y_test_pred)\n",
    "\n",
    "print(\"Training Metrics:\")\n",
    "print(f\"F1 Score: {train_f1}\")\n",
    "print(f\"ROC AUC Score: {train_roc_auc}\")\n",
    "print(f\"Accuracy: {train_accuracy}\")\n",
    "\n",
    "print(\"\\nTest Metrics:\")\n",
    "print(f\"F1 Score: {test_f1}\")\n",
    "print(f\"ROC AUC Score: {test_roc_auc}\")\n",
    "print(f\"Accuracy: {test_accuracy}\")"
   ]
  },
  {
   "cell_type": "code",
   "execution_count": null,
   "metadata": {},
   "outputs": [],
   "source": [
    "# Log parameters and metrics with MLflow\n",
    "mlflow.log_params(params)\n",
    "mlflow.log_metric(\"train_accuracy\", train_accuracy)\n",
    "mlflow.log_metric(\"train_F1_Score\", train_f1)\n",
    "mlflow.log_metric(\"train_ROC_AUC_Score\", train_roc_auc)\n",
    "mlflow.log_metric(\"test_accuracy\", test_accuracy)\n",
    "mlflow.log_metric(\"test_F1_Score\", test_f1)\n",
    "mlflow.log_metric(\"test_ROC_AUC_Score\", test_roc_auc)\n",
    "\n",
    "# Set a tag for the run\n",
    "mlflow.set_tag(\"Training Info\", \"SVM model training\")\n",
    "\n",
    "# Infer the model signature\n",
    "signature = infer_signature(X_train, svm_model.predict(X_train))\n",
    "\n",
    "# Log the model\n",
    "model_info = mlflow.sklearn.log_model(\n",
    "    sk_model=svm_model,\n",
    "    artifact_path=\"insurance_fraud_model_svm\",\n",
    "    signature=signature,\n",
    "    input_example=X_train,\n",
    "    registered_model_name=\"SVM_v2\",\n",
    ")"
   ]
  },
  {
   "cell_type": "markdown",
   "metadata": {},
   "source": [
    "# KNN"
   ]
  },
  {
   "cell_type": "code",
   "execution_count": 8,
   "metadata": {},
   "outputs": [
    {
     "name": "stdout",
     "output_type": "stream",
     "text": [
      "Training Metrics:\n",
      "F1 Score: 0.9947979885555748\n",
      "ROC AUC Score: 0.9988485914405537\n",
      "Accuracy: 0.9948253557567918\n",
      "\n",
      "Test Metrics:\n",
      "F1 Score: 0.12041884816753927\n",
      "ROC AUC Score: 0.5606819094069265\n",
      "Accuracy: 0.7821011673151751\n"
     ]
    }
   ],
   "source": [
    "# Create a new MLflow Experiment\n",
    "mlflow.set_experiment(\"insurance-fraud-detection-experiment\")\n",
    "\n",
    "# Parameters for KNN\n",
    "params = {\n",
    "    'n_neighbors': 2,\n",
    "    'p': 3\n",
    "}\n",
    "\n",
    "# Initialize the KNN model with the specified parameters\n",
    "knn_model = KNeighborsClassifier(**params)\n",
    "\n",
    "# Train the model\n",
    "knn_model.fit(X_train, y_train)\n",
    "\n",
    "# Make predictions on training data\n",
    "y_train_pred = knn_model.predict(X_train)\n",
    "y_train_pred_prob = knn_model.predict_proba(X_train)[:, 1]\n",
    "\n",
    "# Make predictions on test data\n",
    "y_test_pred = knn_model.predict(X_test)\n",
    "y_test_pred_prob = knn_model.predict_proba(X_test)[:, 1]\n",
    "\n",
    "# Evaluate the model on training data\n",
    "train_f1 = f1_score(y_train, y_train_pred)\n",
    "train_roc_auc = roc_auc_score(y_train, y_train_pred_prob)\n",
    "train_accuracy = accuracy_score(y_train, y_train_pred)\n",
    "\n",
    "# Evaluate the model on test data\n",
    "test_f1 = f1_score(y_test, y_test_pred)\n",
    "test_roc_auc = roc_auc_score(y_test, y_test_pred_prob)\n",
    "test_accuracy = accuracy_score(y_test, y_test_pred)\n",
    "\n",
    "print(\"Training Metrics:\")\n",
    "print(f\"F1 Score: {train_f1}\")\n",
    "print(f\"ROC AUC Score: {train_roc_auc}\")\n",
    "print(f\"Accuracy: {train_accuracy}\")\n",
    "\n",
    "print(\"\\nTest Metrics:\")\n",
    "print(f\"F1 Score: {test_f1}\")\n",
    "print(f\"ROC AUC Score: {test_roc_auc}\")\n",
    "print(f\"Accuracy: {test_accuracy}\")"
   ]
  },
  {
   "cell_type": "code",
   "execution_count": 9,
   "metadata": {},
   "outputs": [
    {
     "data": {
      "image/png": "[encoded data removed]",
      "text/plain": [
       "<Figure size 800x600 with 2 Axes>"
      ]
     },
     "metadata": {},
     "output_type": "display_data"
    }
   ],
   "source": [
    "# Plot confusion matrix for test data\n",
    "train_cm = confusion_matrix(y_test, y_test_pred)\n",
    "plt.figure(figsize=(8, 6))\n",
    "sns.heatmap(train_cm, annot=True, fmt='d', cmap='Blues')\n",
    "plt.title('Confusion Matrix - Test Data')\n",
    "plt.xlabel('Predicted')\n",
    "plt.ylabel('Actual')\n",
    "plt.show()"
   ]
  },
  {
   "cell_type": "code",
   "execution_count": null,
   "metadata": {},
   "outputs": [],
   "source": [
    "# Log parameters and metrics with MLflow\n",
    "mlflow.log_params(params)\n",
    "mlflow.log_metric(\"train_accuracy\", train_accuracy)\n",
    "mlflow.log_metric(\"train_F1_Score\", train_f1)\n",
    "mlflow.log_metric(\"train_ROC_AUC_Score\", train_roc_auc)\n",
    "mlflow.log_metric(\"test_accuracy\", test_accuracy)\n",
    "mlflow.log_metric(\"test_F1_Score\", test_f1)\n",
    "mlflow.log_metric(\"test_ROC_AUC_Score\", test_roc_auc)\n",
    "\n",
    "# Set a tag for the run\n",
    "mlflow.set_tag(\"Training Info\", \"KNN model training\")\n",
    "\n",
    "# Infer the model signature\n",
    "signature = infer_signature(X_train, knn_model.predict(X_train))\n",
    "\n",
    "# Log the model\n",
    "model_info = mlflow.sklearn.log_model(\n",
    "    sk_model=knn_model,\n",
    "    artifact_path=\"insurance_fraud_model_knn\",\n",
    "    signature=signature,\n",
    "    input_example=X_train,\n",
    "    registered_model_name=\"KNN_v2\",\n",
    ")"
   ]
  },
  {
   "cell_type": "markdown",
   "metadata": {},
   "source": [
    "# Random Forest"
   ]
  },
  {
   "cell_type": "code",
   "execution_count": 10,
   "metadata": {},
   "outputs": [
    {
     "name": "stdout",
     "output_type": "stream",
     "text": [
      "Training Metrics:\n",
      "F1 Score: 0.9947979885555748\n",
      "ROC AUC Score: 0.9988485914405537\n",
      "Accuracy: 0.9948253557567918\n",
      "\n",
      "Test Metrics:\n",
      "F1 Score: 0.14492753623188406\n",
      "ROC AUC Score: 0.7469157307200037\n",
      "Accuracy: 0.8852140077821011\n"
     ]
    }
   ],
   "source": [
    "# Create a new MLflow Experiment\n",
    "mlflow.set_experiment(\"insurance-fraud-detection-experiment\")\n",
    "\n",
    "# Parameters for Random Forest\n",
    "params = {\n",
    "    'n_estimators': 700,  # Number of trees in the forest\n",
    "    'min_samples_split': 2,  # Minimum number of samples required to split an internal node\n",
    "    'min_samples_leaf': 1,  # Minimum number of samples required to be at a leaf node\n",
    "}\n",
    "\n",
    "# Initialize the Random Forest model with the specified parameters\n",
    "rf_model = RandomForestClassifier(**params)\n",
    "\n",
    "# Train the model\n",
    "rf_model.fit(X_train, y_train)\n",
    "\n",
    "# Make predictions on test data\n",
    "y_test_pred = rf_model.predict(X_test)\n",
    "y_test_pred_prob = rf_model.predict_proba(X_test)[:, 1]\n",
    "\n",
    "# Evaluate the model on training data\n",
    "train_f1 = f1_score(y_train, y_train_pred)\n",
    "train_roc_auc = roc_auc_score(y_train, y_train_pred_prob)\n",
    "train_accuracy = accuracy_score(y_train, y_train_pred)\n",
    "\n",
    "# Evaluate the model on test data\n",
    "test_f1 = f1_score(y_test, y_test_pred)\n",
    "test_roc_auc = roc_auc_score(y_test, y_test_pred_prob)\n",
    "test_accuracy = accuracy_score(y_test, y_test_pred)\n",
    "\n",
    "print(\"Training Metrics:\")\n",
    "print(f\"F1 Score: {train_f1}\")\n",
    "print(f\"ROC AUC Score: {train_roc_auc}\")\n",
    "print(f\"Accuracy: {train_accuracy}\")\n",
    "\n",
    "print(\"\\nTest Metrics:\")\n",
    "print(f\"F1 Score: {test_f1}\")\n",
    "print(f\"ROC AUC Score: {test_roc_auc}\")\n",
    "print(f\"Accuracy: {test_accuracy}\")"
   ]
  },
  {
   "cell_type": "code",
   "execution_count": 11,
   "metadata": {},
   "outputs": [
    {
     "data": {
      "image/png": "[encoded data removed]",
      "text/plain": [
       "<Figure size 800x600 with 2 Axes>"
      ]
     },
     "metadata": {},
     "output_type": "display_data"
    }
   ],
   "source": [
    "# Plot confusion matrix for test data\n",
    "train_cm = confusion_matrix(y_test, y_test_pred)\n",
    "plt.figure(figsize=(8, 6))\n",
    "sns.heatmap(train_cm, annot=True, fmt='d', cmap='Blues')\n",
    "plt.title('Confusion Matrix - Test Data')\n",
    "plt.xlabel('Predicted')\n",
    "plt.ylabel('Actual')\n",
    "plt.show()"
   ]
  },
  {
   "cell_type": "code",
   "execution_count": null,
   "metadata": {},
   "outputs": [],
   "source": [
    "# Log parameters and metrics with MLflow\n",
    "mlflow.log_params(params)\n",
    "mlflow.log_metric(\"train_accuracy\", train_accuracy)\n",
    "mlflow.log_metric(\"train_F1_Score\", train_f1)\n",
    "mlflow.log_metric(\"train_ROC_AUC_Score\", train_roc_auc)\n",
    "mlflow.log_metric(\"test_accuracy\", test_accuracy)\n",
    "mlflow.log_metric(\"test_F1_Score\", test_f1)\n",
    "mlflow.log_metric(\"test_ROC_AUC_Score\", test_roc_auc)\n",
    "\n",
    "# Set a tag for the run\n",
    "mlflow.set_tag(\"Training Info\", \"Random Forest model training\")\n",
    "\n",
    "# Infer the model signature\n",
    "signature = infer_signature(X_train, rf_model.predict(X_train))\n",
    "\n",
    "# Log the model\n",
    "model_info = mlflow.sklearn.log_model(\n",
    "    sk_model=rf_model,\n",
    "    artifact_path=\"insurance_fraud_model_rf\",\n",
    "    signature=signature,\n",
    "    input_example=X_train,\n",
    "    registered_model_name=\"RandomForest_v1\",\n",
    ")"
   ]
  },
  {
   "cell_type": "markdown",
   "metadata": {},
   "source": [
    "# Lightgbm"
   ]
  },
  {
   "cell_type": "code",
   "execution_count": 12,
   "metadata": {},
   "outputs": [
    {
     "name": "stdout",
     "output_type": "stream",
     "text": [
      "[LightGBM] [Info] Number of positive: 5797, number of negative: 5798\n",
      "[LightGBM] [Info] Auto-choosing row-wise multi-threading, the overhead of testing was 0.002124 seconds.\n",
      "You can set `force_row_wise=true` to remove the overhead.\n",
      "And if memory is not enough, you can set `force_col_wise=true`.\n",
      "[LightGBM] [Info] Total Bins 159\n",
      "[LightGBM] [Info] Number of data points in the train set: 11595, number of used features: 21\n",
      "[LightGBM] [Info] [binary:BoostFromScore]: pavg=0.499957 -> initscore=-0.000172\n",
      "[LightGBM] [Info] Start training from score -0.000172\n",
      "Training Metrics:\n",
      "F1 Score: 0.8743063507442966\n",
      "ROC AUC Score: 0.9524928679611674\n",
      "Accuracy: 0.8769297110823631\n",
      "\n",
      "Test Metrics:\n",
      "F1 Score: 0.1773049645390071\n",
      "ROC AUC Score: 0.745366969350429\n",
      "Accuracy: 0.8495460440985733\n"
     ]
    }
   ],
   "source": [
    "# Create a new MLflow Experiment\n",
    "mlflow.set_experiment(\"insurance-fraud-detection-experiment\")\n",
    "params = {\n",
    "    'boosting_type': 'gbdt',\n",
    "    'objective': 'binary',\n",
    "    'metric': 'binary_logloss',\n",
    "    'num_leaves': 33,\n",
    "    'learning_rate': 0.01,\n",
    "    'n_estimators': 146\n",
    "}\n",
    "\n",
    "# Initialize the LightGBM model with the specified parameters\n",
    "lgb_model = lgb.LGBMClassifier(**params)\n",
    "\n",
    "# Train the model\n",
    "lgb_model.fit(X_train, y_train)\n",
    "\n",
    "# Make predictions on training data\n",
    "y_train_pred = lgb_model.predict(X_train)\n",
    "y_train_pred_prob = lgb_model.predict_proba(X_train)[:, 1]\n",
    "\n",
    "# Make predictions on test data\n",
    "y_test_pred = lgb_model.predict(X_test)\n",
    "y_test_pred_prob = lgb_model.predict_proba(X_test)[:, 1]\n",
    "\n",
    "# Evaluate the model on training data\n",
    "train_f1 = f1_score(y_train, y_train_pred)\n",
    "train_roc_auc = roc_auc_score(y_train, y_train_pred_prob)\n",
    "train_accuracy = accuracy_score(y_train, y_train_pred)\n",
    "\n",
    "# Evaluate the model on test data\n",
    "test_f1 = f1_score(y_test, y_test_pred)\n",
    "test_roc_auc = roc_auc_score(y_test, y_test_pred_prob)\n",
    "test_accuracy = accuracy_score(y_test, y_test_pred)\n",
    "\n",
    "print(\"Training Metrics:\")\n",
    "print(f\"F1 Score: {train_f1}\")\n",
    "print(f\"ROC AUC Score: {train_roc_auc}\")\n",
    "print(f\"Accuracy: {train_accuracy}\")\n",
    "\n",
    "print(\"\\nTest Metrics:\")\n",
    "print(f\"F1 Score: {test_f1}\")\n",
    "print(f\"ROC AUC Score: {test_roc_auc}\")\n",
    "print(f\"Accuracy: {test_accuracy}\")"
   ]
  },
  {
   "cell_type": "code",
   "execution_count": 14,
   "metadata": {},
   "outputs": [
    {
     "data": {
      "image/png": "[encoded data removed]",
      "text/plain": [
       "<Figure size 800x600 with 2 Axes>"
      ]
     },
     "metadata": {},
     "output_type": "display_data"
    }
   ],
   "source": [
    "# Plot confusion matrix for test data\n",
    "train_cm = confusion_matrix(y_test, y_test_pred)\n",
    "plt.figure(figsize=(8, 6))\n",
    "sns.heatmap(train_cm, annot=True, fmt='d', cmap='Blues')\n",
    "plt.title('Confusion Matrix - Training Data')\n",
    "plt.xlabel('Predicted')\n",
    "plt.ylabel('Actual')\n",
    "plt.show()"
   ]
  },
  {
   "cell_type": "markdown",
   "metadata": {},
   "source": [
    "# Lightgbm on unbalanced data"
   ]
  },
  {
   "cell_type": "code",
   "execution_count": 15,
   "metadata": {},
   "outputs": [
    {
     "name": "stdout",
     "output_type": "stream",
     "text": [
      "[LightGBM] [Info] Number of positive: 370, number of negative: 5798\n",
      "[LightGBM] [Info] Auto-choosing row-wise multi-threading, the overhead of testing was 0.000520 seconds.\n",
      "You can set `force_row_wise=true` to remove the overhead.\n",
      "And if memory is not enough, you can set `force_col_wise=true`.\n",
      "[LightGBM] [Info] Total Bins 156\n",
      "[LightGBM] [Info] Number of data points in the train set: 6168, number of used features: 21\n",
      "[LightGBM] [Info] [binary:BoostFromScore]: pavg=0.059987 -> initscore=-2.751765\n",
      "[LightGBM] [Info] Start training from score -2.751765\n",
      "Training Metrics:\n",
      "F1 Score: 0.06266318537859007\n",
      "ROC AUC Score: 0.9394495305930284\n",
      "Accuracy: 0.9417963683527886\n",
      "\n",
      "Test Metrics:\n",
      "F1 Score: 0.021739130434782608\n",
      "ROC AUC Score: 0.8212941434857356\n",
      "Accuracy: 0.9416342412451362\n"
     ]
    }
   ],
   "source": [
    "# Create a new MLflow Experiment\n",
    "mlflow.set_experiment(\"insurance-fraud-detection-experiment\")\n",
    "\n",
    "params = {\n",
    "    'boosting_type': 'gbdt',\n",
    "    'objective': 'binary',\n",
    "    'metric': 'binary_logloss',\n",
    "    'num_leaves': 32,\n",
    "    'learning_rate': 0.01,\n",
    "    'n_estimators': 150\n",
    "}\n",
    "\n",
    "# Initialize the LightGBM model with the specified parameters\n",
    "lgb_model = lgb.LGBMClassifier(**params)\n",
    "\n",
    "# Train the model\n",
    "lgb_model.fit(X_train_unbalanced, y_train_unbalanced)\n",
    "\n",
    "# Make predictions on training data\n",
    "y_train_pred = lgb_model.predict(X_train_unbalanced)\n",
    "y_train_pred_prob = lgb_model.predict_proba(X_train_unbalanced)[:, 1]\n",
    "\n",
    "# Make predictions on test data\n",
    "y_test_pred = lgb_model.predict(X_test_unbalanced)\n",
    "y_test_pred_prob = lgb_model.predict_proba(X_test_unbalanced)[:, 1]\n",
    "\n",
    "# Evaluate the model on training data\n",
    "train_f1 = f1_score(y_train_unbalanced, y_train_pred)\n",
    "train_roc_auc = roc_auc_score(y_train_unbalanced, y_train_pred_prob)\n",
    "train_accuracy = accuracy_score(y_train_unbalanced, y_train_pred)\n",
    "\n",
    "# Evaluate the model on test data\n",
    "test_f1 = f1_score(y_test_unbalanced, y_test_pred)\n",
    "test_roc_auc = roc_auc_score(y_test_unbalanced, y_test_pred_prob)\n",
    "test_accuracy = accuracy_score(y_test_unbalanced, y_test_pred)\n",
    "\n",
    "print(\"Training Metrics:\")\n",
    "print(f\"F1 Score: {train_f1}\")\n",
    "print(f\"ROC AUC Score: {train_roc_auc}\")\n",
    "print(f\"Accuracy: {train_accuracy}\")\n",
    "\n",
    "print(\"\\nTest Metrics:\")\n",
    "print(f\"F1 Score: {test_f1}\")\n",
    "print(f\"ROC AUC Score: {test_roc_auc}\")\n",
    "print(f\"Accuracy: {test_accuracy}\")"
   ]
  },
  {
   "cell_type": "code",
   "execution_count": 16,
   "metadata": {},
   "outputs": [
    {
     "data": {
      "image/png": "[encoded data removed]",
      "text/plain": [
       "<Figure size 800x600 with 2 Axes>"
      ]
     },
     "metadata": {},
     "output_type": "display_data"
    }
   ],
   "source": [
    "# Plot confusion matrix for training data\n",
    "train_cm = confusion_matrix(y_train_unbalanced, y_train_pred)\n",
    "plt.figure(figsize=(8, 6))\n",
    "sns.heatmap(train_cm, annot=True, fmt='d', cmap='Blues')\n",
    "plt.title('Confusion Matrix - Training Data')\n",
    "plt.xlabel('Predicted')\n",
    "plt.ylabel('Actual')\n",
    "plt.show()"
   ]
  },
  {
   "cell_type": "code",
   "execution_count": 63,
   "metadata": {},
   "outputs": [
    {
     "name": "stderr",
     "output_type": "stream",
     "text": [
      "c:\\Users\\Yassine\\AppData\\Local\\Programs\\Python\\Python312\\Lib\\site-packages\\mlflow\\types\\utils.py:407: UserWarning: Hint: Inferred schema contains integer column(s). Integer columns in Python cannot represent missing values. If your input data contains missing values at inference time, it will be encoded as floats and will cause a schema enforcement error. The best way to avoid this problem is to infer the model schema based on a realistic data sample (training dataset) that includes missing values. Alternatively, you can declare integer columns as doubles (float64) whenever these columns may have missing values. See `Handling Integers With Missing Values <https://www.mlflow.org/docs/latest/models.html#handling-integers-with-missing-values>`_ for more details.\n",
      "  warnings.warn(\n",
      "Successfully registered model 'LightGBM_v4'.\n",
      "2024/11/16 11:31:50 INFO mlflow.store.model_registry.abstract_store: Waiting up to 300 seconds for model version to finish creation. Model name: LightGBM_v4, version 1\n",
      "Created version '1' of model 'LightGBM_v4'.\n",
      "c:\\Users\\Yassine\\AppData\\Local\\Programs\\Python\\Python312\\Lib\\site-packages\\tqdm\\auto.py:21: TqdmWarning: IProgress not found. Please update jupyter and ipywidgets. See https://ipywidgets.readthedocs.io/en/stable/user_install.html\n",
      "  from .autonotebook import tqdm as notebook_tqdm\n",
      "Downloading artifacts: 100%|██████████| 7/7 [00:06<00:00,  1.02it/s]\n"
     ]
    }
   ],
   "source": [
    "# Log parameters and metrics with MLflow\n",
    "mlflow.log_params(params)\n",
    "mlflow.log_metric(\"train_accuracy\", train_accuracy)\n",
    "mlflow.log_metric(\"train_F1 Score\", train_f1)\n",
    "mlflow.log_metric(\"train_ROC AUC Score\", train_roc_auc)\n",
    "mlflow.log_metric(\"test_accuracy\", test_accuracy)\n",
    "mlflow.log_metric(\"test_F1 Score\", test_f1)\n",
    "mlflow.log_metric(\"test_ROC AUC Score\", test_roc_auc)\n",
    "\n",
    "# Set a tag for the run\n",
    "mlflow.set_tag(\"Training Info\", \"LightGBM model training\")\n",
    "\n",
    "# Infer the model signature\n",
    "signature = infer_signature(X_train, lgb_model.predict(X_train))\n",
    "\n",
    "# Log the model\n",
    "model_info = mlflow.lightgbm.log_model(\n",
    "    lgb_model,\n",
    "    artifact_path=\"insurance_fraud_model_lgb\",\n",
    "    signature=signature,\n",
    "    input_example=X_train,\n",
    "    registered_model_name=\"LightGBM_v4\",\n",
    ")"
   ]
  },
  {
   "cell_type": "markdown",
   "metadata": {},
   "source": [
    "# XGBoost on balanced data"
   ]
  },
  {
   "cell_type": "code",
   "execution_count": 17,
   "metadata": {},
   "outputs": [
    {
     "name": "stdout",
     "output_type": "stream",
     "text": [
      "Training Metrics:\n",
      "F1 Score: 0.9131463332206826\n",
      "ROC AUC Score: 0.9699593787820573\n",
      "Accuracy: 0.9113410952996982\n",
      "\n",
      "Test Metrics:\n",
      "F1 Score: 0.16718266253869968\n",
      "ROC AUC Score: 0.7518800978483955\n",
      "Accuracy: 0.8255512321660181\n"
     ]
    }
   ],
   "source": [
    "# Parameters for XGBoost\n",
    "params = {\n",
    "    'objective': 'binary:logistic',\n",
    "    'eval_metric': 'logloss',\n",
    "    'learning_rate': 0.05,\n",
    "    'max_depth': 6,\n",
    "    'n_estimators': 100,\n",
    "}\n",
    "\n",
    "# Initialize the XGBoost model with the specified parameters\n",
    "xgb_model = xgb.XGBClassifier(**params)\n",
    "\n",
    "# Train the model\n",
    "xgb_model.fit(X_train, y_train)\n",
    "\n",
    "# Make predictions on training data\n",
    "y_train_pred = xgb_model.predict(X_train)\n",
    "y_train_pred_prob = xgb_model.predict_proba(X_train)[:, 1]\n",
    "\n",
    "# Make predictions on test data\n",
    "y_test_pred = xgb_model.predict(X_test)\n",
    "y_test_pred_prob = xgb_model.predict_proba(X_test)[:, 1]\n",
    "\n",
    "# Evaluate the model on training data\n",
    "train_f1 = f1_score(y_train, y_train_pred)\n",
    "train_roc_auc = roc_auc_score(y_train, y_train_pred_prob)\n",
    "train_accuracy = accuracy_score(y_train, y_train_pred)\n",
    "\n",
    "# Evaluate the model on test data\n",
    "test_f1 = f1_score(y_test, y_test_pred)\n",
    "test_roc_auc = roc_auc_score(y_test, y_test_pred_prob)\n",
    "test_accuracy = accuracy_score(y_test, y_test_pred)\n",
    "\n",
    "print(\"Training Metrics:\")\n",
    "print(f\"F1 Score: {train_f1}\")\n",
    "print(f\"ROC AUC Score: {train_roc_auc}\")\n",
    "print(f\"Accuracy: {train_accuracy}\")\n",
    "\n",
    "print(\"\\nTest Metrics:\")\n",
    "print(f\"F1 Score: {test_f1}\")\n",
    "print(f\"ROC AUC Score: {test_roc_auc}\")\n",
    "print(f\"Accuracy: {test_accuracy}\")"
   ]
  },
  {
   "cell_type": "code",
   "execution_count": 18,
   "metadata": {},
   "outputs": [
    {
     "data": {
      "image/png": "[encoded data removed]",
      "text/plain": [
       "<Figure size 800x600 with 2 Axes>"
      ]
     },
     "metadata": {},
     "output_type": "display_data"
    }
   ],
   "source": [
    "# Plot confusion matrix for test data\n",
    "train_cm = confusion_matrix(y_test, y_test_pred)\n",
    "plt.figure(figsize=(8, 6))\n",
    "sns.heatmap(train_cm, annot=True, fmt='d', cmap='Blues')\n",
    "plt.title('Confusion Matrix - Test Data')\n",
    "plt.xlabel('Predicted')\n",
    "plt.ylabel('Actual')\n",
    "plt.show()"
   ]
  },
  {
   "cell_type": "markdown",
   "metadata": {},
   "source": [
    "# Modeling with Optuna\n",
    " - Optuna is an advanced hyperparameter optimization framework designed to streamline the tuning process in machine learning. It employs a Bayesian optimization approach, focusing on efficiency and automation by sampling hyperparameters intelligently based on past results. Unlike traditional methods like GridSearch, which exhaustively evaluates all parameter combinations, Optuna uses a more flexible and adaptive approach with its define-by-run API. This allows it to explore the hyperparameter space dynamically, saving computation time and resources. Additionally, Optuna supports pruning, which terminates underperforming trials early to focus on promising ones. While GridSearch is simple and systematic, making it easier to implement for smaller datasets or straightforward models, Optuna is more suitable for complex problems with large search spaces, where efficiency and scalability are crucial."
   ]
  },
  {
   "cell_type": "markdown",
   "metadata": {},
   "source": [
    "## Optuna framework on unbalanced data with boosting models"
   ]
  },
  {
   "cell_type": "code",
   "execution_count": 33,
   "metadata": {},
   "outputs": [],
   "source": [
    "def objective(trial):\n",
    "    classifier_name = trial.suggest_categorical('classifier', ['XGBoost', 'LightGBM', 'CatBoost'])\n",
    "    \n",
    "    if classifier_name == 'XGBoost':\n",
    "        learning_rate = trial.suggest_float('learning_rate', 0.01, 0.2)\n",
    "        max_depth = trial.suggest_int('max_depth', 3, 10)\n",
    "        n_estimators = trial.suggest_int('n_estimators', 30, 200)\n",
    "        classifier_obj = xgb.XGBClassifier(\n",
    "            objective='binary:logistic',\n",
    "            eval_metric='logloss',\n",
    "            learning_rate=learning_rate,\n",
    "            max_depth=max_depth,\n",
    "            n_estimators=n_estimators)\n",
    "    \n",
    "    elif classifier_name == 'LightGBM':\n",
    "        num_leaves = trial.suggest_int('lgb_num_leaves', 30, 50)\n",
    "        learning_rate = trial.suggest_float('lgb_learning_rate', 0.01, 0.2)\n",
    "        n_estimators = trial.suggest_int('lgb_n_estimators', 100, 200)\n",
    "        classifier_obj = lgb.LGBMClassifier(num_leaves=num_leaves, n_estimators=n_estimators, verbose=-1)\n",
    "    \n",
    "    elif classifier_name == 'CatBoost':\n",
    "        iterations = trial.suggest_int('cat_iterations', 100, 200)\n",
    "        learning_rate = trial.suggest_float('cat_learning_rate', 0.01, 0.2)\n",
    "        depth = trial.suggest_int('cat_depth', 3, 9)\n",
    "        classifier_obj = CatBoostClassifier(iterations=iterations, depth=depth, verbose=0)\n",
    "    \n",
    "    classifier_obj.fit(X_train_unbalanced, y_train_unbalanced)\n",
    "    y_prob = classifier_obj.predict_proba(X_test_unbalanced)[:, 1]\n",
    "    \n",
    "    # Threshold optimization\n",
    "    thresholds = np.arange(0.1, 0.9, 0.01)\n",
    "    best_threshold = 0.5\n",
    "    best_score = 0.0\n",
    "    \n",
    "    for threshold in thresholds:\n",
    "        y_pred = (y_prob >= threshold).astype(int)\n",
    "        score = f1_score(y_test_unbalanced, y_pred)\n",
    "        if score > best_score:\n",
    "            best_score = score\n",
    "            best_threshold = threshold\n",
    "    \n",
    "    trial.set_user_attr('best_threshold', best_threshold)\n",
    "    trial.set_user_attr('classifier_obj', classifier_obj)\n",
    "    return roc_auc_score(y_test, (y_prob >= best_threshold).astype(int))"
   ]
  },
  {
   "cell_type": "code",
   "execution_count": 50,
   "metadata": {},
   "outputs": [
    {
     "name": "stderr",
     "output_type": "stream",
     "text": [
      "[I 2024-11-21 22:42:02,983] A new study created in memory with name: no-name-0d6dd20f-38c0-49ca-b1d3-93a5e3dccd87\n",
      "[I 2024-11-21 22:42:03,864] Trial 0 finished with value: 0.6930763929385569 and parameters: {'classifier': 'CatBoost', 'cat_iterations': 120, 'cat_learning_rate': 0.06723018869573985, 'cat_depth': 4}. Best is trial 0 with value: 0.6930763929385569.\n",
      "[I 2024-11-21 22:42:05,321] Trial 1 finished with value: 0.5689217742973773 and parameters: {'classifier': 'CatBoost', 'cat_iterations': 152, 'cat_learning_rate': 0.11145906935695746, 'cat_depth': 9}. Best is trial 0 with value: 0.6930763929385569.\n",
      "[I 2024-11-21 22:42:05,749] Trial 2 finished with value: 0.7195340841102386 and parameters: {'classifier': 'XGBoost', 'learning_rate': 0.017888566510002653, 'max_depth': 4, 'n_estimators': 74}. Best is trial 2 with value: 0.7195340841102386.\n",
      "[I 2024-11-21 22:42:06,839] Trial 3 finished with value: 0.6237910951901303 and parameters: {'classifier': 'XGBoost', 'learning_rate': 0.10514484828734597, 'max_depth': 7, 'n_estimators': 158}. Best is trial 2 with value: 0.7195340841102386.\n",
      "[I 2024-11-21 22:42:07,269] Trial 4 finished with value: 0.623541172817534 and parameters: {'classifier': 'XGBoost', 'learning_rate': 0.14749487545667003, 'max_depth': 3, 'n_estimators': 93}. Best is trial 2 with value: 0.7195340841102386.\n",
      "[I 2024-11-21 22:42:08,033] Trial 5 finished with value: 0.5641732492180458 and parameters: {'classifier': 'LightGBM', 'lgb_num_leaves': 48, 'lgb_learning_rate': 0.07194207069252503, 'lgb_n_estimators': 184}. Best is trial 2 with value: 0.7195340841102386.\n",
      "[I 2024-11-21 22:42:08,456] Trial 6 finished with value: 0.6700835346596891 and parameters: {'classifier': 'XGBoost', 'learning_rate': 0.14371813794150512, 'max_depth': 8, 'n_estimators': 49}. Best is trial 2 with value: 0.7195340841102386.\n",
      "[I 2024-11-21 22:42:09,982] Trial 7 finished with value: 0.6446974803280799 and parameters: {'classifier': 'CatBoost', 'cat_iterations': 194, 'cat_learning_rate': 0.034050182187368425, 'cat_depth': 7}. Best is trial 2 with value: 0.7195340841102386.\n",
      "[I 2024-11-21 22:42:11,692] Trial 8 finished with value: 0.5784756249952666 and parameters: {'classifier': 'CatBoost', 'cat_iterations': 149, 'cat_learning_rate': 0.0726137408690848, 'cat_depth': 9}. Best is trial 2 with value: 0.7195340841102386.\n",
      "[I 2024-11-21 22:42:12,161] Trial 9 finished with value: 0.6690686983588431 and parameters: {'classifier': 'XGBoost', 'learning_rate': 0.1929942904265708, 'max_depth': 8, 'n_estimators': 41}. Best is trial 2 with value: 0.7195340841102386.\n",
      "[I 2024-11-21 22:42:12,671] Trial 10 finished with value: 0.639892154709522 and parameters: {'classifier': 'LightGBM', 'lgb_num_leaves': 30, 'lgb_learning_rate': 0.19406834367719344, 'lgb_n_estimators': 101}. Best is trial 2 with value: 0.7195340841102386.\n",
      "[I 2024-11-21 22:42:13,502] Trial 11 finished with value: 0.6190615036238744 and parameters: {'classifier': 'CatBoost', 'cat_iterations': 101, 'cat_learning_rate': 0.1955019075402567, 'cat_depth': 3}. Best is trial 2 with value: 0.7195340841102386.\n",
      "[I 2024-11-21 22:42:14,252] Trial 12 finished with value: 0.7424133413106536 and parameters: {'classifier': 'CatBoost', 'cat_iterations': 103, 'cat_learning_rate': 0.11971406146543431, 'cat_depth': 3}. Best is trial 12 with value: 0.7424133413106536.\n",
      "[I 2024-11-21 22:42:14,674] Trial 13 finished with value: 0.7277474420823835 and parameters: {'classifier': 'XGBoost', 'learning_rate': 0.02315431986112732, 'max_depth': 3, 'n_estimators': 113}. Best is trial 12 with value: 0.7424133413106536.\n",
      "[I 2024-11-21 22:42:15,178] Trial 14 finished with value: 0.6416340379124665 and parameters: {'classifier': 'LightGBM', 'lgb_num_leaves': 36, 'lgb_learning_rate': 0.017515592630866522, 'lgb_n_estimators': 117}. Best is trial 12 with value: 0.7424133413106536.\n",
      "[I 2024-11-21 22:42:15,981] Trial 15 finished with value: 0.7211055656955035 and parameters: {'classifier': 'XGBoost', 'learning_rate': 0.011836421521424311, 'max_depth': 10, 'n_estimators': 141}. Best is trial 12 with value: 0.7424133413106536.\n",
      "[I 2024-11-21 22:42:17,037] Trial 16 finished with value: 0.6800198423217031 and parameters: {'classifier': 'CatBoost', 'cat_iterations': 134, 'cat_learning_rate': 0.14849629117765628, 'cat_depth': 5}. Best is trial 12 with value: 0.7424133413106536.\n",
      "[I 2024-11-21 22:42:18,259] Trial 17 finished with value: 0.6580796873698321 and parameters: {'classifier': 'CatBoost', 'cat_iterations': 184, 'cat_learning_rate': 0.14251980753005522, 'cat_depth': 6}. Best is trial 12 with value: 0.7424133413106536.\n",
      "[I 2024-11-21 22:42:18,871] Trial 18 finished with value: 0.6954127884520718 and parameters: {'classifier': 'XGBoost', 'learning_rate': 0.06057505982623465, 'max_depth': 5, 'n_estimators': 198}. Best is trial 12 with value: 0.7424133413106536.\n",
      "[I 2024-11-21 22:42:19,702] Trial 19 finished with value: 0.5576260403965435 and parameters: {'classifier': 'LightGBM', 'lgb_num_leaves': 49, 'lgb_learning_rate': 0.19429348607924998, 'lgb_n_estimators': 195}. Best is trial 12 with value: 0.7424133413106536.\n",
      "[I 2024-11-21 22:42:20,383] Trial 20 finished with value: 0.727652774517006 and parameters: {'classifier': 'CatBoost', 'cat_iterations': 100, 'cat_learning_rate': 0.0141621957507672, 'cat_depth': 3}. Best is trial 12 with value: 0.7424133413106536.\n",
      "[I 2024-11-21 22:42:21,119] Trial 21 finished with value: 0.727652774517006 and parameters: {'classifier': 'CatBoost', 'cat_iterations': 100, 'cat_learning_rate': 0.014323421002279908, 'cat_depth': 3}. Best is trial 12 with value: 0.7424133413106536.\n",
      "[I 2024-11-21 22:42:22,047] Trial 22 finished with value: 0.6893427041600715 and parameters: {'classifier': 'CatBoost', 'cat_iterations': 119, 'cat_learning_rate': 0.10473268725413878, 'cat_depth': 4}. Best is trial 12 with value: 0.7424133413106536.\n",
      "[I 2024-11-21 22:42:22,952] Trial 23 finished with value: 0.7094841753697715 and parameters: {'classifier': 'CatBoost', 'cat_iterations': 116, 'cat_learning_rate': 0.0626743678169156, 'cat_depth': 3}. Best is trial 12 with value: 0.7424133413106536.\n",
      "[I 2024-11-21 22:42:24,002] Trial 24 finished with value: 0.6598215705727766 and parameters: {'classifier': 'CatBoost', 'cat_iterations': 167, 'cat_learning_rate': 0.11162689887166766, 'cat_depth': 5}. Best is trial 12 with value: 0.7424133413106536.\n",
      "[I 2024-11-21 22:42:24,624] Trial 25 finished with value: 0.6077468362099651 and parameters: {'classifier': 'XGBoost', 'learning_rate': 0.06703493587966514, 'max_depth': 5, 'n_estimators': 120}. Best is trial 12 with value: 0.7424133413106536.\n",
      "[I 2024-11-21 22:42:25,977] Trial 26 finished with value: 0.6659863224301543 and parameters: {'classifier': 'CatBoost', 'cat_iterations': 130, 'cat_learning_rate': 0.15479952551724382, 'cat_depth': 7}. Best is trial 12 with value: 0.7424133413106536.\n",
      "[I 2024-11-21 22:42:27,051] Trial 27 finished with value: 0.6869495081073304 and parameters: {'classifier': 'CatBoost', 'cat_iterations': 109, 'cat_learning_rate': 0.09325809356550298, 'cat_depth': 4}. Best is trial 12 with value: 0.7424133413106536.\n",
      "[I 2024-11-21 22:42:28,123] Trial 28 finished with value: 0.5926227459652683 and parameters: {'classifier': 'LightGBM', 'lgb_num_leaves': 41, 'lgb_learning_rate': 0.1129498087421881, 'lgb_n_estimators': 141}. Best is trial 12 with value: 0.7424133413106536.\n",
      "[I 2024-11-21 22:42:28,928] Trial 29 finished with value: 0.604338803856378 and parameters: {'classifier': 'XGBoost', 'learning_rate': 0.06352663436821851, 'max_depth': 3, 'n_estimators': 172}. Best is trial 12 with value: 0.7424133413106536.\n",
      "[I 2024-11-21 22:42:30,024] Trial 30 finished with value: 0.657447308033111 and parameters: {'classifier': 'CatBoost', 'cat_iterations': 138, 'cat_learning_rate': 0.040470003510055835, 'cat_depth': 5}. Best is trial 12 with value: 0.7424133413106536.\n",
      "[I 2024-11-21 22:42:30,781] Trial 31 finished with value: 0.6190615036238744 and parameters: {'classifier': 'CatBoost', 'cat_iterations': 101, 'cat_learning_rate': 0.010478044257600062, 'cat_depth': 3}. Best is trial 12 with value: 0.7424133413106536.\n",
      "[I 2024-11-21 22:42:31,508] Trial 32 finished with value: 0.6341098598162692 and parameters: {'classifier': 'CatBoost', 'cat_iterations': 104, 'cat_learning_rate': 0.010048354284616555, 'cat_depth': 3}. Best is trial 12 with value: 0.7424133413106536.\n",
      "[I 2024-11-21 22:42:32,330] Trial 33 finished with value: 0.6543459985913467 and parameters: {'classifier': 'CatBoost', 'cat_iterations': 111, 'cat_learning_rate': 0.0320632541211799, 'cat_depth': 4}. Best is trial 12 with value: 0.7424133413106536.\n",
      "[I 2024-11-21 22:42:33,145] Trial 34 finished with value: 0.7338364598874593 and parameters: {'classifier': 'CatBoost', 'cat_iterations': 122, 'cat_learning_rate': 0.1268689196655878, 'cat_depth': 3}. Best is trial 12 with value: 0.7424133413106536.\n",
      "[I 2024-11-21 22:42:34,050] Trial 35 finished with value: 0.6300505146128854 and parameters: {'classifier': 'CatBoost', 'cat_iterations': 126, 'cat_learning_rate': 0.13429200806853014, 'cat_depth': 4}. Best is trial 12 with value: 0.7424133413106536.\n",
      "[I 2024-11-21 22:42:34,779] Trial 36 finished with value: 0.6673268151558986 and parameters: {'classifier': 'XGBoost', 'learning_rate': 0.10980707664507518, 'max_depth': 6, 'n_estimators': 107}. Best is trial 12 with value: 0.7424133413106536.\n",
      "[I 2024-11-21 22:42:35,973] Trial 37 finished with value: 0.7163002400769457 and parameters: {'classifier': 'CatBoost', 'cat_iterations': 114, 'cat_learning_rate': 0.17338741619884385, 'cat_depth': 3}. Best is trial 12 with value: 0.7424133413106536.\n",
      "[I 2024-11-21 22:42:37,318] Trial 38 finished with value: 0.6693564877575904 and parameters: {'classifier': 'XGBoost', 'learning_rate': 0.03829814863811409, 'max_depth': 10, 'n_estimators': 73}. Best is trial 12 with value: 0.7424133413106536.\n",
      "[I 2024-11-21 22:42:38,633] Trial 39 finished with value: 0.6707537810225612 and parameters: {'classifier': 'CatBoost', 'cat_iterations': 143, 'cat_learning_rate': 0.12660725018003377, 'cat_depth': 6}. Best is trial 12 with value: 0.7424133413106536.\n",
      "[I 2024-11-21 22:42:39,599] Trial 40 finished with value: 0.6080346256087125 and parameters: {'classifier': 'XGBoost', 'learning_rate': 0.19393864267515706, 'max_depth': 4, 'n_estimators': 132}. Best is trial 12 with value: 0.7424133413106536.\n",
      "[I 2024-11-21 22:42:40,604] Trial 41 finished with value: 0.727652774517006 and parameters: {'classifier': 'CatBoost', 'cat_iterations': 100, 'cat_learning_rate': 0.08435738576131721, 'cat_depth': 3}. Best is trial 12 with value: 0.7424133413106536.\n",
      "[I 2024-11-21 22:42:41,587] Trial 42 finished with value: 0.723900152225445 and parameters: {'classifier': 'CatBoost', 'cat_iterations': 109, 'cat_learning_rate': 0.1206932863932955, 'cat_depth': 3}. Best is trial 12 with value: 0.7424133413106536.\n",
      "[I 2024-11-21 22:42:42,470] Trial 43 finished with value: 0.6951249990533244 and parameters: {'classifier': 'CatBoost', 'cat_iterations': 123, 'cat_learning_rate': 0.04899852690569237, 'cat_depth': 4}. Best is trial 12 with value: 0.7424133413106536.\n",
      "[I 2024-11-21 22:42:43,210] Trial 44 finished with value: 0.7235744958005468 and parameters: {'classifier': 'CatBoost', 'cat_iterations': 108, 'cat_learning_rate': 0.018051805529930506, 'cat_depth': 3}. Best is trial 12 with value: 0.7424133413106536.\n",
      "[I 2024-11-21 22:42:44,045] Trial 45 finished with value: 0.5994766776985936 and parameters: {'classifier': 'LightGBM', 'lgb_num_leaves': 41, 'lgb_learning_rate': 0.1260106631333845, 'lgb_n_estimators': 161}. Best is trial 12 with value: 0.7424133413106536.\n",
      "[I 2024-11-21 22:42:45,044] Trial 46 finished with value: 0.661870176687544 and parameters: {'classifier': 'CatBoost', 'cat_iterations': 100, 'cat_learning_rate': 0.16356264068868687, 'cat_depth': 4}. Best is trial 12 with value: 0.7424133413106536.\n",
      "[I 2024-11-21 22:42:46,147] Trial 47 finished with value: 0.6535432176369461 and parameters: {'classifier': 'CatBoost', 'cat_iterations': 114, 'cat_learning_rate': 0.09477484115033943, 'cat_depth': 5}. Best is trial 12 with value: 0.7424133413106536.\n",
      "[I 2024-11-21 22:42:46,894] Trial 48 finished with value: 0.6728213206504041 and parameters: {'classifier': 'XGBoost', 'learning_rate': 0.0848355726630843, 'max_depth': 6, 'n_estimators': 93}. Best is trial 12 with value: 0.7424133413106536.\n",
      "[I 2024-11-21 22:42:47,787] Trial 49 finished with value: 0.7105179451836929 and parameters: {'classifier': 'CatBoost', 'cat_iterations': 107, 'cat_learning_rate': 0.02524277411884715, 'cat_depth': 3}. Best is trial 12 with value: 0.7424133413106536.\n",
      "[I 2024-11-21 22:42:48,535] Trial 50 finished with value: 0.5991510212736952 and parameters: {'classifier': 'LightGBM', 'lgb_num_leaves': 31, 'lgb_learning_rate': 0.018741949242623665, 'lgb_n_estimators': 150}. Best is trial 12 with value: 0.7424133413106536.\n",
      "[I 2024-11-21 22:42:49,355] Trial 51 finished with value: 0.727652774517006 and parameters: {'classifier': 'CatBoost', 'cat_iterations': 100, 'cat_learning_rate': 0.05759916213415054, 'cat_depth': 3}. Best is trial 12 with value: 0.7424133413106536.\n",
      "[I 2024-11-21 22:42:50,284] Trial 52 finished with value: 0.6108481456517293 and parameters: {'classifier': 'CatBoost', 'cat_iterations': 121, 'cat_learning_rate': 0.0744896461395563, 'cat_depth': 4}. Best is trial 12 with value: 0.7424133413106536.\n",
      "[I 2024-11-21 22:42:51,296] Trial 53 finished with value: 0.7105179451836929 and parameters: {'classifier': 'CatBoost', 'cat_iterations': 107, 'cat_learning_rate': 0.09484033566680716, 'cat_depth': 3}. Best is trial 12 with value: 0.7424133413106536.\n",
      "[I 2024-11-21 22:42:52,239] Trial 54 finished with value: 0.6646647632174855 and parameters: {'classifier': 'CatBoost', 'cat_iterations': 117, 'cat_learning_rate': 0.07894163557673883, 'cat_depth': 4}. Best is trial 12 with value: 0.7424133413106536.\n",
      "[I 2024-11-21 22:42:53,377] Trial 55 finished with value: 0.7211055656955035 and parameters: {'classifier': 'CatBoost', 'cat_iterations': 166, 'cat_learning_rate': 0.12457115889548336, 'cat_depth': 3}. Best is trial 12 with value: 0.7424133413106536.\n",
      "[I 2024-11-21 22:42:54,311] Trial 56 finished with value: 0.6022144636893086 and parameters: {'classifier': 'XGBoost', 'learning_rate': 0.13751580785011552, 'max_depth': 8, 'n_estimators': 186}. Best is trial 12 with value: 0.7424133413106536.\n",
      "[I 2024-11-21 22:42:55,398] Trial 57 finished with value: 0.6237910951901303 and parameters: {'classifier': 'CatBoost', 'cat_iterations': 100, 'cat_learning_rate': 0.04527912015658605, 'cat_depth': 8}. Best is trial 12 with value: 0.7424133413106536.\n",
      "[I 2024-11-21 22:42:56,195] Trial 58 finished with value: 0.7228285153853726 and parameters: {'classifier': 'CatBoost', 'cat_iterations': 127, 'cat_learning_rate': 0.11222562324305137, 'cat_depth': 3}. Best is trial 12 with value: 0.7424133413106536.\n",
      "[I 2024-11-21 22:42:56,919] Trial 59 finished with value: 0.7613279208730622 and parameters: {'classifier': 'XGBoost', 'learning_rate': 0.03837773132312805, 'max_depth': 4, 'n_estimators': 150}. Best is trial 59 with value: 0.7613279208730622.\n",
      "[I 2024-11-21 22:42:57,581] Trial 60 finished with value: 0.5992078218129218 and parameters: {'classifier': 'XGBoost', 'learning_rate': 0.036876402331731596, 'max_depth': 4, 'n_estimators': 152}. Best is trial 59 with value: 0.7613279208730622.\n",
      "[I 2024-11-21 22:42:58,233] Trial 61 finished with value: 0.7403647351958861 and parameters: {'classifier': 'XGBoost', 'learning_rate': 0.043953295641380036, 'max_depth': 3, 'n_estimators': 123}. Best is trial 59 with value: 0.7613279208730622.\n",
      "[I 2024-11-21 22:42:58,780] Trial 62 finished with value: 0.6913723767617633 and parameters: {'classifier': 'XGBoost', 'learning_rate': 0.038156076194245526, 'max_depth': 3, 'n_estimators': 119}. Best is trial 59 with value: 0.7613279208730622.\n",
      "[I 2024-11-21 22:42:59,315] Trial 63 finished with value: 0.7088707295461258 and parameters: {'classifier': 'XGBoost', 'learning_rate': 0.028196189719891195, 'max_depth': 3, 'n_estimators': 136}. Best is trial 59 with value: 0.7613279208730622.\n",
      "[I 2024-11-21 22:42:59,937] Trial 64 finished with value: 0.6238857627555078 and parameters: {'classifier': 'XGBoost', 'learning_rate': 0.052094444281851185, 'max_depth': 4, 'n_estimators': 163}. Best is trial 59 with value: 0.7613279208730622.\n",
      "[I 2024-11-21 22:43:00,505] Trial 65 finished with value: 0.7280162979680553 and parameters: {'classifier': 'XGBoost', 'learning_rate': 0.08313033996713745, 'max_depth': 5, 'n_estimators': 110}. Best is trial 59 with value: 0.7613279208730622.\n",
      "[I 2024-11-21 22:43:01,055] Trial 66 finished with value: 0.7108814686347422 and parameters: {'classifier': 'XGBoost', 'learning_rate': 0.080805527445002, 'max_depth': 5, 'n_estimators': 105}. Best is trial 59 with value: 0.7613279208730622.\n",
      "[I 2024-11-21 22:43:01,659] Trial 67 finished with value: 0.7273460516051832 and parameters: {'classifier': 'XGBoost', 'learning_rate': 0.050909205671412695, 'max_depth': 4, 'n_estimators': 134}. Best is trial 59 with value: 0.7613279208730622.\n",
      "[I 2024-11-21 22:43:02,270] Trial 68 finished with value: 0.6101778992888572 and parameters: {'classifier': 'XGBoost', 'learning_rate': 0.08358998877121807, 'max_depth': 3, 'n_estimators': 89}. Best is trial 59 with value: 0.7613279208730622.\n",
      "[I 2024-11-21 22:43:02,834] Trial 69 finished with value: 0.6786982831090344 and parameters: {'classifier': 'XGBoost', 'learning_rate': 0.022737148319088008, 'max_depth': 5, 'n_estimators': 122}. Best is trial 59 with value: 0.7613279208730622.\n",
      "[I 2024-11-21 22:43:03,402] Trial 70 finished with value: 0.7506266992827986 and parameters: {'classifier': 'XGBoost', 'learning_rate': 0.046158381081219786, 'max_depth': 4, 'n_estimators': 147}. Best is trial 59 with value: 0.7613279208730622.\n",
      "[I 2024-11-21 22:43:04,019] Trial 71 finished with value: 0.7400390787709877 and parameters: {'classifier': 'XGBoost', 'learning_rate': 0.044679682776172354, 'max_depth': 4, 'n_estimators': 147}. Best is trial 59 with value: 0.7613279208730622.\n",
      "[I 2024-11-21 22:43:04,549] Trial 72 finished with value: 0.6605296839617998 and parameters: {'classifier': 'XGBoost', 'learning_rate': 0.044904501742807905, 'max_depth': 4, 'n_estimators': 147}. Best is trial 59 with value: 0.7613279208730622.\n",
      "[I 2024-11-21 22:43:05,203] Trial 73 finished with value: 0.7102490892980211 and parameters: {'classifier': 'XGBoost', 'learning_rate': 0.029575420829284885, 'max_depth': 3, 'n_estimators': 125}. Best is trial 59 with value: 0.7613279208730622.\n",
      "[I 2024-11-21 22:43:05,784] Trial 74 finished with value: 0.649904196423838 and parameters: {'classifier': 'XGBoost', 'learning_rate': 0.05193208634477153, 'max_depth': 4, 'n_estimators': 167}. Best is trial 59 with value: 0.7613279208730622.\n",
      "[I 2024-11-21 22:43:06,362] Trial 75 finished with value: 0.7188449042342909 and parameters: {'classifier': 'XGBoost', 'learning_rate': 0.011939485572785805, 'max_depth': 4, 'n_estimators': 106}. Best is trial 59 with value: 0.7613279208730622.\n",
      "[I 2024-11-21 22:43:07,129] Trial 76 finished with value: 0.7057694201043615 and parameters: {'classifier': 'XGBoost', 'learning_rate': 0.02469736421737804, 'max_depth': 5, 'n_estimators': 150}. Best is trial 59 with value: 0.7613279208730622.\n",
      "[I 2024-11-21 22:43:07,696] Trial 77 finished with value: 0.6156534712702872 and parameters: {'classifier': 'XGBoost', 'learning_rate': 0.06892004900812315, 'max_depth': 3, 'n_estimators': 176}. Best is trial 59 with value: 0.7613279208730622.\n",
      "[I 2024-11-21 22:43:08,264] Trial 78 finished with value: 0.7057694201043615 and parameters: {'classifier': 'XGBoost', 'learning_rate': 0.041120222885136684, 'max_depth': 4, 'n_estimators': 144}. Best is trial 59 with value: 0.7613279208730622.\n",
      "[I 2024-11-21 22:43:08,911] Trial 79 finished with value: 0.5967956922471052 and parameters: {'classifier': 'XGBoost', 'learning_rate': 0.09707438901733836, 'max_depth': 3, 'n_estimators': 159}. Best is trial 59 with value: 0.7613279208730622.\n",
      "[I 2024-11-21 22:43:09,550] Trial 80 finished with value: 0.7037397475026697 and parameters: {'classifier': 'XGBoost', 'learning_rate': 0.0206453525193478, 'max_depth': 4, 'n_estimators': 133}. Best is trial 59 with value: 0.7613279208730622.\n",
      "[I 2024-11-21 22:43:10,019] Trial 81 finished with value: 0.6201331404639467 and parameters: {'classifier': 'XGBoost', 'learning_rate': 0.056545170160485755, 'max_depth': 3, 'n_estimators': 112}. Best is trial 59 with value: 0.7613279208730622.\n",
      "[I 2024-11-21 22:43:10,800] Trial 82 finished with value: 0.5895025030104285 and parameters: {'classifier': 'LightGBM', 'lgb_num_leaves': 44, 'lgb_learning_rate': 0.14940607316046967, 'lgb_n_estimators': 172}. Best is trial 59 with value: 0.7613279208730622.\n",
      "[I 2024-11-21 22:43:11,304] Trial 83 finished with value: 0.6998735241326557 and parameters: {'classifier': 'XGBoost', 'learning_rate': 0.11362486455886459, 'max_depth': 5, 'n_estimators': 97}. Best is trial 59 with value: 0.7613279208730622.\n",
      "[I 2024-11-21 22:43:11,812] Trial 84 finished with value: 0.723900152225445 and parameters: {'classifier': 'XGBoost', 'learning_rate': 0.030427034090783168, 'max_depth': 6, 'n_estimators': 153}. Best is trial 59 with value: 0.7613279208730622.\n",
      "[I 2024-11-21 22:43:12,277] Trial 85 finished with value: 0.6077657697230405 and parameters: {'classifier': 'XGBoost', 'learning_rate': 0.07317931392031324, 'max_depth': 3, 'n_estimators': 125}. Best is trial 59 with value: 0.7613279208730622.\n",
      "[I 2024-11-21 22:43:12,921] Trial 86 finished with value: 0.7342189168515839 and parameters: {'classifier': 'XGBoost', 'learning_rate': 0.010054618694812653, 'max_depth': 4, 'n_estimators': 85}. Best is trial 59 with value: 0.7613279208730622.\n",
      "[I 2024-11-21 22:43:13,299] Trial 87 finished with value: 0.7188449042342909 and parameters: {'classifier': 'XGBoost', 'learning_rate': 0.015576840196330946, 'max_depth': 4, 'n_estimators': 79}. Best is trial 59 with value: 0.7613279208730622.\n",
      "[I 2024-11-21 22:43:13,708] Trial 88 finished with value: 0.7061140100423353 and parameters: {'classifier': 'XGBoost', 'learning_rate': 0.04576129625129755, 'max_depth': 5, 'n_estimators': 76}. Best is trial 59 with value: 0.7613279208730622.\n",
      "[I 2024-11-21 22:43:14,064] Trial 89 finished with value: 0.6663309123681281 and parameters: {'classifier': 'XGBoost', 'learning_rate': 0.010410787840452435, 'max_depth': 3, 'n_estimators': 84}. Best is trial 59 with value: 0.7613279208730622.\n",
      "[I 2024-11-21 22:43:14,417] Trial 90 finished with value: 0.7030695011397974 and parameters: {'classifier': 'XGBoost', 'learning_rate': 0.03339604041529993, 'max_depth': 4, 'n_estimators': 62}. Best is trial 59 with value: 0.7613279208730622.\n",
      "[I 2024-11-21 22:43:14,919] Trial 91 finished with value: 0.6231208488272583 and parameters: {'classifier': 'LightGBM', 'lgb_num_leaves': 37, 'lgb_learning_rate': 0.06622851091355514, 'lgb_n_estimators': 124}. Best is trial 59 with value: 0.7613279208730622.\n",
      "[I 2024-11-21 22:43:15,333] Trial 92 finished with value: 0.6022712642285352 and parameters: {'classifier': 'XGBoost', 'learning_rate': 0.05993391218385506, 'max_depth': 5, 'n_estimators': 100}. Best is trial 59 with value: 0.7613279208730622.\n",
      "[I 2024-11-21 22:43:15,857] Trial 93 finished with value: 0.6307018274626821 and parameters: {'classifier': 'XGBoost', 'learning_rate': 0.01981151969069497, 'max_depth': 9, 'n_estimators': 115}. Best is trial 59 with value: 0.7613279208730622.\n",
      "[I 2024-11-21 22:43:16,281] Trial 94 finished with value: 0.7109193356608933 and parameters: {'classifier': 'XGBoost', 'learning_rate': 0.04266102493986816, 'max_depth': 4, 'n_estimators': 139}. Best is trial 59 with value: 0.7613279208730622.\n",
      "[I 2024-11-21 22:43:17,027] Trial 95 finished with value: 0.678372626684136 and parameters: {'classifier': 'XGBoost', 'learning_rate': 0.11819473663750857, 'max_depth': 7, 'n_estimators': 127}. Best is trial 59 with value: 0.7613279208730622.\n",
      "[I 2024-11-21 22:43:17,435] Trial 96 finished with value: 0.6067509334221947 and parameters: {'classifier': 'XGBoost', 'learning_rate': 0.10094499415810483, 'max_depth': 3, 'n_estimators': 112}. Best is trial 59 with value: 0.7613279208730622.\n",
      "[I 2024-11-21 22:43:18,586] Trial 97 finished with value: 0.6213978991373892 and parameters: {'classifier': 'CatBoost', 'cat_iterations': 156, 'cat_learning_rate': 0.1832272809028886, 'cat_depth': 7}. Best is trial 59 with value: 0.7613279208730622.\n",
      "[I 2024-11-21 22:43:19,052] Trial 98 finished with value: 0.6835036087275922 and parameters: {'classifier': 'XGBoost', 'learning_rate': 0.1678471914610722, 'max_depth': 5, 'n_estimators': 60}. Best is trial 59 with value: 0.7613279208730622.\n",
      "[I 2024-11-21 22:43:19,797] Trial 99 finished with value: 0.6049711831930991 and parameters: {'classifier': 'LightGBM', 'lgb_num_leaves': 35, 'lgb_learning_rate': 0.06627046537038511, 'lgb_n_estimators': 200}. Best is trial 59 with value: 0.7613279208730622.\n",
      "[I 2024-11-21 22:43:21,271] Trial 100 finished with value: 0.6210533091994154 and parameters: {'classifier': 'CatBoost', 'cat_iterations': 188, 'cat_learning_rate': 0.14076142409392914, 'cat_depth': 8}. Best is trial 59 with value: 0.7613279208730622.\n",
      "[I 2024-11-21 22:43:22,393] Trial 101 finished with value: 0.657447308033111 and parameters: {'classifier': 'CatBoost', 'cat_iterations': 138, 'cat_learning_rate': 0.023951169152579995, 'cat_depth': 5}. Best is trial 59 with value: 0.7613279208730622.\n",
      "[I 2024-11-21 22:43:23,304] Trial 102 finished with value: 0.6560310812550647 and parameters: {'classifier': 'CatBoost', 'cat_iterations': 113, 'cat_learning_rate': 0.055159271574331856, 'cat_depth': 4}. Best is trial 59 with value: 0.7613279208730622.\n",
      "[I 2024-11-21 22:43:24,228] Trial 103 finished with value: 0.6266046152331473 and parameters: {'classifier': 'CatBoost', 'cat_iterations': 121, 'cat_learning_rate': 0.1517179218484655, 'cat_depth': 5}. Best is trial 59 with value: 0.7613279208730622.\n",
      "[I 2024-11-21 22:43:25,437] Trial 104 finished with value: 0.629016744798964 and parameters: {'classifier': 'CatBoost', 'cat_iterations': 105, 'cat_learning_rate': 0.035353879968077984, 'cat_depth': 9}. Best is trial 59 with value: 0.7613279208730622.\n",
      "[I 2024-11-21 22:43:26,518] Trial 105 finished with value: 0.6275626509947668 and parameters: {'classifier': 'CatBoost', 'cat_iterations': 133, 'cat_learning_rate': 0.06640857465471942, 'cat_depth': 6}. Best is trial 59 with value: 0.7613279208730622.\n",
      "[I 2024-11-21 22:43:27,233] Trial 106 finished with value: 0.6272937951090949 and parameters: {'classifier': 'XGBoost', 'learning_rate': 0.03560480026979026, 'max_depth': 6, 'n_estimators': 156}. Best is trial 59 with value: 0.7613279208730622.\n",
      "[I 2024-11-21 22:43:28,313] Trial 107 finished with value: 0.6177020773850546 and parameters: {'classifier': 'CatBoost', 'cat_iterations': 149, 'cat_learning_rate': 0.10180440775736625, 'cat_depth': 4}. Best is trial 59 with value: 0.7613279208730622.\n",
      "[I 2024-11-21 22:43:29,052] Trial 108 finished with value: 0.7245703985883172 and parameters: {'classifier': 'XGBoost', 'learning_rate': 0.07273288483473886, 'max_depth': 4, 'n_estimators': 144}. Best is trial 59 with value: 0.7613279208730622.\n",
      "[I 2024-11-21 22:43:29,890] Trial 109 finished with value: 0.6982073749820131 and parameters: {'classifier': 'CatBoost', 'cat_iterations': 118, 'cat_learning_rate': 0.1985418326980616, 'cat_depth': 3}. Best is trial 59 with value: 0.7613279208730622.\n",
      "[I 2024-11-21 22:43:30,294] Trial 110 finished with value: 0.6663309123681281 and parameters: {'classifier': 'XGBoost', 'learning_rate': 0.02585263965007944, 'max_depth': 3, 'n_estimators': 40}. Best is trial 59 with value: 0.7613279208730622.\n",
      "[I 2024-11-21 22:43:31,042] Trial 111 finished with value: 0.735195886126279 and parameters: {'classifier': 'CatBoost', 'cat_iterations': 105, 'cat_learning_rate': 0.08078421002668293, 'cat_depth': 3}. Best is trial 59 with value: 0.7613279208730622.\n",
      "[I 2024-11-21 22:43:31,965] Trial 112 finished with value: 0.735195886126279 and parameters: {'classifier': 'CatBoost', 'cat_iterations': 105, 'cat_learning_rate': 0.11617146002858081, 'cat_depth': 3}. Best is trial 59 with value: 0.7613279208730622.\n",
      "[I 2024-11-21 22:43:32,722] Trial 113 finished with value: 0.735195886126279 and parameters: {'classifier': 'CatBoost', 'cat_iterations': 105, 'cat_learning_rate': 0.11498682916376611, 'cat_depth': 3}. Best is trial 59 with value: 0.7613279208730622.\n",
      "[I 2024-11-21 22:43:33,533] Trial 114 finished with value: 0.7170272869790444 and parameters: {'classifier': 'CatBoost', 'cat_iterations': 112, 'cat_learning_rate': 0.11268714463009788, 'cat_depth': 3}. Best is trial 59 with value: 0.7613279208730622.\n",
      "[I 2024-11-21 22:43:34,404] Trial 115 finished with value: 0.6468028869820738 and parameters: {'classifier': 'CatBoost', 'cat_iterations': 125, 'cat_learning_rate': 0.13499836124524375, 'cat_depth': 4}. Best is trial 59 with value: 0.7613279208730622.\n",
      "[I 2024-11-21 22:43:35,255] Trial 116 finished with value: 0.7047545838035156 and parameters: {'classifier': 'CatBoost', 'cat_iterations': 105, 'cat_learning_rate': 0.12134665372968642, 'cat_depth': 4}. Best is trial 59 with value: 0.7613279208730622.\n",
      "[I 2024-11-21 22:43:35,998] Trial 117 finished with value: 0.727690641543157 and parameters: {'classifier': 'CatBoost', 'cat_iterations': 111, 'cat_learning_rate': 0.08624952360223859, 'cat_depth': 3}. Best is trial 59 with value: 0.7613279208730622.\n",
      "[I 2024-11-21 22:43:36,573] Trial 118 finished with value: 0.6611999303246718 and parameters: {'classifier': 'XGBoost', 'learning_rate': 0.047176676150345244, 'max_depth': 4, 'n_estimators': 179}. Best is trial 59 with value: 0.7613279208730622.\n",
      "[I 2024-11-21 22:43:37,287] Trial 119 finished with value: 0.6310653509137313 and parameters: {'classifier': 'XGBoost', 'learning_rate': 0.06192420817183236, 'max_depth': 4, 'n_estimators': 167}. Best is trial 59 with value: 0.7613279208730622.\n",
      "[I 2024-11-21 22:43:38,034] Trial 120 finished with value: 0.6341098598162692 and parameters: {'classifier': 'CatBoost', 'cat_iterations': 104, 'cat_learning_rate': 0.10186665035383083, 'cat_depth': 3}. Best is trial 59 with value: 0.7613279208730622.\n",
      "[I 2024-11-21 22:43:38,820] Trial 121 finished with value: 0.727690641543157 and parameters: {'classifier': 'CatBoost', 'cat_iterations': 111, 'cat_learning_rate': 0.08637038065041602, 'cat_depth': 3}. Best is trial 59 with value: 0.7613279208730622.\n",
      "[I 2024-11-21 22:43:39,546] Trial 122 finished with value: 0.7201475299338842 and parameters: {'classifier': 'CatBoost', 'cat_iterations': 117, 'cat_learning_rate': 0.13039150794087243, 'cat_depth': 3}. Best is trial 59 with value: 0.7613279208730622.\n",
      "[I 2024-11-21 22:43:40,268] Trial 123 finished with value: 0.6341098598162692 and parameters: {'classifier': 'CatBoost', 'cat_iterations': 104, 'cat_learning_rate': 0.11712713599507889, 'cat_depth': 3}. Best is trial 59 with value: 0.7613279208730622.\n",
      "[I 2024-11-21 22:43:41,697] Trial 124 finished with value: 0.629016744798964 and parameters: {'classifier': 'CatBoost', 'cat_iterations': 199, 'cat_learning_rate': 0.10633951235114542, 'cat_depth': 4}. Best is trial 59 with value: 0.7613279208730622.\n",
      "[I 2024-11-21 22:43:42,639] Trial 125 finished with value: 0.727690641543157 and parameters: {'classifier': 'CatBoost', 'cat_iterations': 111, 'cat_learning_rate': 0.08780762550218259, 'cat_depth': 3}. Best is trial 59 with value: 0.7613279208730622.\n",
      "[I 2024-11-21 22:43:43,233] Trial 126 finished with value: 0.7300838375958982 and parameters: {'classifier': 'XGBoost', 'learning_rate': 0.01864060123409539, 'max_depth': 3, 'n_estimators': 129}. Best is trial 59 with value: 0.7613279208730622.\n",
      "[I 2024-11-21 22:43:44,514] Trial 127 finished with value: 0.665316076067282 and parameters: {'classifier': 'XGBoost', 'learning_rate': 0.017212232415868486, 'max_depth': 3, 'n_estimators': 131}. Best is trial 59 with value: 0.7613279208730622.\n",
      "[I 2024-11-21 22:43:45,036] Trial 128 finished with value: 0.6930953264516324 and parameters: {'classifier': 'XGBoost', 'learning_rate': 0.032906410546551496, 'max_depth': 3, 'n_estimators': 117}. Best is trial 59 with value: 0.7613279208730622.\n",
      "[I 2024-11-21 22:43:45,780] Trial 129 finished with value: 0.7102490892980211 and parameters: {'classifier': 'XGBoost', 'learning_rate': 0.025678810420280293, 'max_depth': 3, 'n_estimators': 138}. Best is trial 59 with value: 0.7613279208730622.\n",
      "[I 2024-11-21 22:43:46,306] Trial 130 finished with value: 0.7606008739709635 and parameters: {'classifier': 'XGBoost', 'learning_rate': 0.05467185268366276, 'max_depth': 4, 'n_estimators': 129}. Best is trial 59 with value: 0.7613279208730622.\n",
      "[I 2024-11-21 22:43:46,802] Trial 131 finished with value: 0.709540975908998 and parameters: {'classifier': 'XGBoost', 'learning_rate': 0.051523149924769716, 'max_depth': 4, 'n_estimators': 131}. Best is trial 59 with value: 0.7613279208730622.\n",
      "[I 2024-11-21 22:43:47,293] Trial 132 finished with value: 0.6283086314099408 and parameters: {'classifier': 'XGBoost', 'learning_rate': 0.09040572109623275, 'max_depth': 4, 'n_estimators': 142}. Best is trial 59 with value: 0.7613279208730622.\n",
      "[I 2024-11-21 22:43:48,047] Trial 133 finished with value: 0.5998780681757939 and parameters: {'classifier': 'XGBoost', 'learning_rate': 0.04026274124245359, 'max_depth': 5, 'n_estimators': 122}. Best is trial 59 with value: 0.7613279208730622.\n",
      "[I 2024-11-21 22:43:48,456] Trial 134 finished with value: 0.7054626971925387 and parameters: {'classifier': 'XGBoost', 'learning_rate': 0.05638293491940344, 'max_depth': 4, 'n_estimators': 32}. Best is trial 59 with value: 0.7613279208730622.\n",
      "[I 2024-11-21 22:43:48,848] Trial 135 finished with value: 0.6958331124423472 and parameters: {'classifier': 'XGBoost', 'learning_rate': 0.03642910912170005, 'max_depth': 3, 'n_estimators': 109}. Best is trial 59 with value: 0.7613279208730622.\n",
      "[I 2024-11-21 22:43:49,461] Trial 136 finished with value: 0.6663309123681281 and parameters: {'classifier': 'XGBoost', 'learning_rate': 0.010002549419838275, 'max_depth': 3, 'n_estimators': 104}. Best is trial 59 with value: 0.7613279208730622.\n",
      "[I 2024-11-21 22:43:50,066] Trial 137 finished with value: 0.6118629819525753 and parameters: {'classifier': 'LightGBM', 'lgb_num_leaves': 45, 'lgb_learning_rate': 0.15855467692620956, 'lgb_n_estimators': 129}. Best is trial 59 with value: 0.7613279208730622.\n",
      "[I 2024-11-21 22:43:50,593] Trial 138 finished with value: 0.7030695011397974 and parameters: {'classifier': 'XGBoost', 'learning_rate': 0.016768422842159646, 'max_depth': 4, 'n_estimators': 147}. Best is trial 59 with value: 0.7613279208730622.\n",
      "[I 2024-11-21 22:43:51,338] Trial 139 finished with value: 0.6005672480517416 and parameters: {'classifier': 'XGBoost', 'learning_rate': 0.04731446203353538, 'max_depth': 5, 'n_estimators': 128}. Best is trial 59 with value: 0.7613279208730622.\n",
      "[I 2024-11-21 22:43:51,863] Trial 140 finished with value: 0.7338743269136101 and parameters: {'classifier': 'XGBoost', 'learning_rate': 0.02717657972102355, 'max_depth': 3, 'n_estimators': 89}. Best is trial 59 with value: 0.7613279208730622.\n",
      "[I 2024-11-21 22:43:52,262] Trial 141 finished with value: 0.665316076067282 and parameters: {'classifier': 'XGBoost', 'learning_rate': 0.026033561484326975, 'max_depth': 3, 'n_estimators': 85}. Best is trial 59 with value: 0.7613279208730622.\n",
      "[I 2024-11-21 22:43:52,965] Trial 142 finished with value: 0.7301595716482002 and parameters: {'classifier': 'XGBoost', 'learning_rate': 0.030237345855302755, 'max_depth': 3, 'n_estimators': 89}. Best is trial 59 with value: 0.7613279208730622.\n",
      "[I 2024-11-21 22:43:53,421] Trial 143 finished with value: 0.69378450632758 and parameters: {'classifier': 'XGBoost', 'learning_rate': 0.031601525908659674, 'max_depth': 4, 'n_estimators': 94}. Best is trial 59 with value: 0.7613279208730622.\n",
      "[I 2024-11-21 22:43:53,833] Trial 144 finished with value: 0.7164327746684742 and parameters: {'classifier': 'XGBoost', 'learning_rate': 0.03947191841720276, 'max_depth': 3, 'n_estimators': 86}. Best is trial 59 with value: 0.7613279208730622.\n",
      "[I 2024-11-21 22:43:54,357] Trial 145 finished with value: 0.661870176687544 and parameters: {'classifier': 'XGBoost', 'learning_rate': 0.021911115676526715, 'max_depth': 3, 'n_estimators': 90}. Best is trial 59 with value: 0.7613279208730622.\n",
      "[I 2024-11-21 22:43:54,895] Trial 146 finished with value: 0.7355594095773282 and parameters: {'classifier': 'XGBoost', 'learning_rate': 0.06783660285536455, 'max_depth': 3, 'n_estimators': 78}. Best is trial 59 with value: 0.7613279208730622.\n",
      "[I 2024-11-21 22:43:55,359] Trial 147 finished with value: 0.7071667133693322 and parameters: {'classifier': 'XGBoost', 'learning_rate': 0.05745237550618272, 'max_depth': 3, 'n_estimators': 66}. Best is trial 59 with value: 0.7613279208730622.\n",
      "[I 2024-11-21 22:43:55,956] Trial 148 finished with value: 0.7575374315553501 and parameters: {'classifier': 'XGBoost', 'learning_rate': 0.06820246097420184, 'max_depth': 3, 'n_estimators': 70}. Best is trial 59 with value: 0.7613279208730622.\n",
      "[I 2024-11-21 22:43:56,310] Trial 149 finished with value: 0.7694844783059807 and parameters: {'classifier': 'XGBoost', 'learning_rate': 0.06566152791564024, 'max_depth': 4, 'n_estimators': 73}. Best is trial 149 with value: 0.7694844783059807.\n"
     ]
    }
   ],
   "source": [
    "study = optuna.create_study(direction='maximize', sampler=TPESampler())\n",
    "study.optimize(objective, n_trials=150)"
   ]
  },
  {
   "cell_type": "code",
   "execution_count": 51,
   "metadata": {},
   "outputs": [
    {
     "name": "stdout",
     "output_type": "stream",
     "text": [
      "Best trial:  [0.7694844783059807]\n",
      "Best hyperparameters:  {'classifier': 'XGBoost', 'learning_rate': 0.06566152791564024, 'max_depth': 4, 'n_estimators': 73}\n"
     ]
    }
   ],
   "source": [
    "best_trial = study.best_trial\n",
    "print('Best trial: ', best_trial.values)\n",
    "print('Best hyperparameters: ', best_trial.params)"
   ]
  },
  {
   "cell_type": "code",
   "execution_count": 52,
   "metadata": {},
   "outputs": [
    {
     "name": "stdout",
     "output_type": "stream",
     "text": [
      "Training Metrics:\n",
      "F1 Score: 0.08762886597938144\n",
      "ROC AUC Score: 0.8636773631168251\n",
      "Accuracy: 0.9426070038910506\n",
      "\n",
      "Test Metrics:\n",
      "F1 Score: 0.021739130434782608\n",
      "ROC AUC Score: 0.8337751153050946\n",
      "Accuracy: 0.9416342412451362\n"
     ]
    }
   ],
   "source": [
    "# Create a new MLflow Experiment\n",
    "mlflow.set_experiment(\"insurance-fraud-detection-experiment\")\n",
    "\n",
    "# Parameters for XGBoost\n",
    "params = {\n",
    "    'objective': 'binary:logistic',\n",
    "    'eval_metric': 'logloss',\n",
    "    'learning_rate': 0.06566152791564024,\n",
    "    'max_depth': 4,\n",
    "    'n_estimators': 73,\n",
    "}\n",
    "\n",
    "# Initialize the XGBoost model with the specified parameters\n",
    "xgb_model = xgb.XGBClassifier(**params)\n",
    "\n",
    "# Train the model\n",
    "xgb_model.fit(X_train_unbalanced, y_train_unbalanced)\n",
    "\n",
    "# Make predictions on training data\n",
    "y_train_pred = xgb_model.predict(X_train_unbalanced)\n",
    "y_train_pred_prob = xgb_model.predict_proba(X_train_unbalanced)[:, 1]\n",
    "\n",
    "# Make predictions on test data\n",
    "y_test_pred = xgb_model.predict(X_test_unbalanced)\n",
    "y_test_pred_prob = xgb_model.predict_proba(X_test_unbalanced)[:, 1]\n",
    "\n",
    "# Evaluate the model on training data\n",
    "train_f1 = f1_score(y_train_unbalanced, y_train_pred)\n",
    "train_roc_auc = roc_auc_score(y_train_unbalanced, y_train_pred_prob)\n",
    "train_accuracy = accuracy_score(y_train_unbalanced, y_train_pred)\n",
    "\n",
    "# Evaluate the model on test data\n",
    "test_f1 = f1_score(y_test_unbalanced, y_test_pred)\n",
    "test_roc_auc = roc_auc_score(y_test_unbalanced, y_test_pred_prob)\n",
    "test_accuracy = accuracy_score(y_test_unbalanced, y_test_pred)\n",
    "\n",
    "print(\"Training Metrics:\")\n",
    "print(f\"F1 Score: {train_f1}\")\n",
    "print(f\"ROC AUC Score: {train_roc_auc}\")\n",
    "print(f\"Accuracy: {train_accuracy}\")\n",
    "\n",
    "print(\"\\nTest Metrics:\")\n",
    "print(f\"F1 Score: {test_f1}\")\n",
    "print(f\"ROC AUC Score: {test_roc_auc}\")\n",
    "print(f\"Accuracy: {test_accuracy}\")"
   ]
  },
  {
   "cell_type": "code",
   "execution_count": 53,
   "metadata": {},
   "outputs": [
    {
     "data": {
      "image/png": "[encoded data removed]",
      "text/plain": [
       "<Figure size 800x600 with 2 Axes>"
      ]
     },
     "metadata": {},
     "output_type": "display_data"
    }
   ],
   "source": [
    "# Plot confusion matrix for test data\n",
    "train_cm = confusion_matrix(y_test_unbalanced, y_test_pred)\n",
    "plt.figure(figsize=(8, 6))\n",
    "sns.heatmap(train_cm, annot=True, fmt='d', cmap='Blues')\n",
    "plt.title('Confusion Matrix - Test Data')\n",
    "plt.xlabel('Predicted')\n",
    "plt.ylabel('Actual')\n",
    "plt.show()"
   ]
  },
  {
   "cell_type": "markdown",
   "metadata": {},
   "source": [
    "# Optuna with balanced data on boosting models"
   ]
  },
  {
   "cell_type": "code",
   "execution_count": 54,
   "metadata": {},
   "outputs": [],
   "source": [
    "def objective(trial):\n",
    "    classifier_name = trial.suggest_categorical('classifier', ['XGBoost', 'LightGBM', 'CatBoost'])\n",
    "    \n",
    "    if classifier_name == 'XGBoost':\n",
    "        learning_rate = trial.suggest_float('learning_rate', 0.01, 0.2)\n",
    "        max_depth = trial.suggest_int('max_depth', 3, 10)\n",
    "        n_estimators = trial.suggest_int('n_estimators', 50, 200)\n",
    "        classifier_obj = xgb.XGBClassifier(\n",
    "            objective='binary:logistic',\n",
    "            eval_metric='logloss',\n",
    "            learning_rate=learning_rate,\n",
    "            max_depth=max_depth,\n",
    "            n_estimators=n_estimators,\n",
    "            random_state=42\n",
    "        )\n",
    "    \n",
    "    elif classifier_name == 'LightGBM':\n",
    "        num_leaves = trial.suggest_int('lgb_num_leaves', 30, 50)\n",
    "        learning_rate = trial.suggest_float('lgb_learning_rate', 0.01, 0.2)\n",
    "        n_estimators = trial.suggest_int('lgb_n_estimators', 100, 200)\n",
    "        classifier_obj = lgb.LGBMClassifier(num_leaves=num_leaves, n_estimators=n_estimators, verbose=-1)\n",
    "    \n",
    "    elif classifier_name == 'CatBoost':\n",
    "        iterations = trial.suggest_int('cat_iterations', 100, 200)\n",
    "        learning_rate = trial.suggest_float('cat_learning_rate', 0.01, 0.2)\n",
    "        depth = trial.suggest_int('cat_depth', 3, 9)\n",
    "        classifier_obj = CatBoostClassifier(iterations=iterations, depth=depth, verbose=0)\n",
    "    \n",
    "    classifier_obj.fit(X_train, y_train)\n",
    "    y_prob = classifier_obj.predict_proba(X_test)[:, 1]\n",
    "    \n",
    "    # Threshold optimization\n",
    "    thresholds = np.arange(0.1, 0.9, 0.01)\n",
    "    best_threshold = 0.5\n",
    "    best_score = 0.0\n",
    "    \n",
    "    for threshold in thresholds:\n",
    "        y_pred = (y_prob >= threshold).astype(int)\n",
    "        score = f1_score(y_test, y_pred)\n",
    "        if score > best_score:\n",
    "            best_score = score\n",
    "            best_threshold = threshold\n",
    "    \n",
    "    trial.set_user_attr('best_threshold', best_threshold)\n",
    "    trial.set_user_attr('classifier_obj', classifier_obj)\n",
    "    return roc_auc_score(y_test, (y_prob >= best_threshold).astype(int))"
   ]
  },
  {
   "cell_type": "code",
   "execution_count": 79,
   "metadata": {},
   "outputs": [
    {
     "name": "stderr",
     "output_type": "stream",
     "text": [
      "[I 2024-11-22 00:07:53,174] A new study created in memory with name: no-name-b1d7dae5-1e57-47a7-911d-7bef0a83ac4a\n",
      "[I 2024-11-22 00:07:58,537] Trial 0 finished with value: 0.6461553608348921 and parameters: {'classifier': 'CatBoost', 'cat_iterations': 187, 'cat_learning_rate': 0.19402279903112396, 'cat_depth': 7}. Best is trial 0 with value: 0.6461553608348921.\n",
      "[I 2024-11-22 00:07:59,067] Trial 1 finished with value: 0.7200755825841973 and parameters: {'classifier': 'XGBoost', 'learning_rate': 0.12790566917719876, 'max_depth': 4, 'n_estimators': 100}. Best is trial 1 with value: 0.7200755825841973.\n",
      "[I 2024-11-22 00:08:02,696] Trial 2 finished with value: 0.6919706757749486 and parameters: {'classifier': 'CatBoost', 'cat_iterations': 167, 'cat_learning_rate': 0.13226526051367618, 'cat_depth': 4}. Best is trial 1 with value: 0.7200755825841973.\n",
      "[I 2024-11-22 00:08:03,864] Trial 3 finished with value: 0.6171113517770995 and parameters: {'classifier': 'XGBoost', 'learning_rate': 0.1258927985361962, 'max_depth': 10, 'n_estimators': 192}. Best is trial 1 with value: 0.7200755825841973.\n",
      "[I 2024-11-22 00:08:04,517] Trial 4 finished with value: 0.6916260858369749 and parameters: {'classifier': 'XGBoost', 'learning_rate': 0.12487474862734892, 'max_depth': 4, 'n_estimators': 177}. Best is trial 1 with value: 0.7200755825841973.\n",
      "[I 2024-11-22 00:08:05,433] Trial 5 finished with value: 0.613415530024765 and parameters: {'classifier': 'XGBoost', 'learning_rate': 0.12500538889730317, 'max_depth': 9, 'n_estimators': 115}. Best is trial 1 with value: 0.7200755825841973.\n",
      "[I 2024-11-22 00:08:08,629] Trial 6 finished with value: 0.6606092047167168 and parameters: {'classifier': 'CatBoost', 'cat_iterations': 100, 'cat_learning_rate': 0.03300980513115832, 'cat_depth': 5}. Best is trial 1 with value: 0.7200755825841973.\n",
      "[I 2024-11-22 00:08:10,009] Trial 7 finished with value: 0.6924667338175263 and parameters: {'classifier': 'LightGBM', 'lgb_num_leaves': 38, 'lgb_learning_rate': 0.058084547090233175, 'lgb_n_estimators': 140}. Best is trial 1 with value: 0.7200755825841973.\n",
      "[I 2024-11-22 00:08:11,659] Trial 8 finished with value: 0.7064623866829242 and parameters: {'classifier': 'XGBoost', 'learning_rate': 0.05433899565208271, 'max_depth': 7, 'n_estimators': 88}. Best is trial 1 with value: 0.7200755825841973.\n",
      "[I 2024-11-22 00:08:12,494] Trial 9 finished with value: 0.6667171560348679 and parameters: {'classifier': 'LightGBM', 'lgb_num_leaves': 42, 'lgb_learning_rate': 0.15163607641643345, 'lgb_n_estimators': 126}. Best is trial 1 with value: 0.7200755825841973.\n",
      "[I 2024-11-22 00:08:13,396] Trial 10 finished with value: 0.6895585462091319 and parameters: {'classifier': 'XGBoost', 'learning_rate': 0.19503660833648145, 'max_depth': 3, 'n_estimators': 74}. Best is trial 1 with value: 0.7200755825841973.\n",
      "[I 2024-11-22 00:08:14,182] Trial 11 finished with value: 0.7098704190365114 and parameters: {'classifier': 'XGBoost', 'learning_rate': 0.024168512925709026, 'max_depth': 6, 'n_estimators': 87}. Best is trial 1 with value: 0.7200755825841973.\n",
      "[I 2024-11-22 00:08:14,957] Trial 12 finished with value: 0.6938072265432706 and parameters: {'classifier': 'XGBoost', 'learning_rate': 0.01585120541709746, 'max_depth': 5, 'n_estimators': 52}. Best is trial 1 with value: 0.7200755825841973.\n",
      "[I 2024-11-22 00:08:15,916] Trial 13 finished with value: 0.721855332813293 and parameters: {'classifier': 'XGBoost', 'learning_rate': 0.0709249764090409, 'max_depth': 6, 'n_estimators': 122}. Best is trial 13 with value: 0.721855332813293.\n",
      "[I 2024-11-22 00:08:16,694] Trial 14 finished with value: 0.6920464098272506 and parameters: {'classifier': 'XGBoost', 'learning_rate': 0.0812397619655333, 'max_depth': 7, 'n_estimators': 139}. Best is trial 13 with value: 0.721855332813293.\n",
      "[I 2024-11-22 00:08:17,457] Trial 15 finished with value: 0.6171492188032506 and parameters: {'classifier': 'LightGBM', 'lgb_num_leaves': 30, 'lgb_learning_rate': 0.19450384640241736, 'lgb_n_estimators': 200}. Best is trial 13 with value: 0.721855332813293.\n",
      "[I 2024-11-22 00:08:18,123] Trial 16 finished with value: 0.6851735445808498 and parameters: {'classifier': 'XGBoost', 'learning_rate': 0.1650471961920631, 'max_depth': 5, 'n_estimators': 126}. Best is trial 13 with value: 0.721855332813293.\n",
      "[I 2024-11-22 00:08:18,709] Trial 17 finished with value: 0.7069432979150415 and parameters: {'classifier': 'XGBoost', 'learning_rate': 0.08328193786557544, 'max_depth': 3, 'n_estimators': 156}. Best is trial 13 with value: 0.721855332813293.\n",
      "[I 2024-11-22 00:08:23,675] Trial 18 finished with value: 0.612669549609591 and parameters: {'classifier': 'CatBoost', 'cat_iterations': 115, 'cat_learning_rate': 0.011644875746237099, 'cat_depth': 9}. Best is trial 13 with value: 0.721855332813293.\n",
      "[I 2024-11-22 00:08:25,616] Trial 19 finished with value: 0.6690724850614582 and parameters: {'classifier': 'LightGBM', 'lgb_num_leaves': 49, 'lgb_learning_rate': 0.01361788280209135, 'lgb_n_estimators': 100}. Best is trial 13 with value: 0.721855332813293.\n",
      "[I 2024-11-22 00:08:26,533] Trial 20 finished with value: 0.7139108307268197 and parameters: {'classifier': 'XGBoost', 'learning_rate': 0.09157443280421239, 'max_depth': 5, 'n_estimators': 107}. Best is trial 13 with value: 0.721855332813293.\n",
      "[I 2024-11-22 00:08:27,757] Trial 21 finished with value: 0.7183526328943283 and parameters: {'classifier': 'XGBoost', 'learning_rate': 0.09108833694634721, 'max_depth': 5, 'n_estimators': 108}. Best is trial 13 with value: 0.721855332813293.\n",
      "[I 2024-11-22 00:08:28,881] Trial 22 finished with value: 0.733476723139025 and parameters: {'classifier': 'XGBoost', 'learning_rate': 0.057247253580608504, 'max_depth': 6, 'n_estimators': 102}. Best is trial 22 with value: 0.733476723139025.\n",
      "[I 2024-11-22 00:08:30,465] Trial 23 finished with value: 0.6646306828939496 and parameters: {'classifier': 'XGBoost', 'learning_rate': 0.05330303168764061, 'max_depth': 8, 'n_estimators': 136}. Best is trial 22 with value: 0.733476723139025.\n",
      "[I 2024-11-22 00:08:31,859] Trial 24 finished with value: 0.7317348399360804 and parameters: {'classifier': 'XGBoost', 'learning_rate': 0.05295753892654981, 'max_depth': 6, 'n_estimators': 96}. Best is trial 22 with value: 0.733476723139025.\n",
      "[I 2024-11-22 00:08:32,894] Trial 25 finished with value: 0.6394150301800199 and parameters: {'classifier': 'XGBoost', 'learning_rate': 0.050644772620413975, 'max_depth': 6, 'n_estimators': 69}. Best is trial 22 with value: 0.733476723139025.\n",
      "[I 2024-11-22 00:08:34,006] Trial 26 finished with value: 0.7177391870706825 and parameters: {'classifier': 'XGBoost', 'learning_rate': 0.03757489380897523, 'max_depth': 7, 'n_estimators': 155}. Best is trial 22 with value: 0.733476723139025.\n",
      "[I 2024-11-22 00:08:34,699] Trial 27 finished with value: 0.7249187752289064 and parameters: {'classifier': 'XGBoost', 'learning_rate': 0.06797858334633482, 'max_depth': 6, 'n_estimators': 92}. Best is trial 22 with value: 0.733476723139025.\n",
      "[I 2024-11-22 00:08:37,664] Trial 28 finished with value: 0.6471512636226627 and parameters: {'classifier': 'CatBoost', 'cat_iterations': 140, 'cat_learning_rate': 0.09092789556432974, 'cat_depth': 3}. Best is trial 22 with value: 0.733476723139025.\n",
      "[I 2024-11-22 00:08:38,314] Trial 29 finished with value: 0.6420770821184328 and parameters: {'classifier': 'LightGBM', 'lgb_num_leaves': 30, 'lgb_learning_rate': 0.10597192356157048, 'lgb_n_estimators': 191}. Best is trial 22 with value: 0.733476723139025.\n",
      "[I 2024-11-22 00:08:43,453] Trial 30 finished with value: 0.6140857763876372 and parameters: {'classifier': 'CatBoost', 'cat_iterations': 195, 'cat_learning_rate': 0.19894447503400453, 'cat_depth': 7}. Best is trial 22 with value: 0.733476723139025.\n",
      "[I 2024-11-22 00:08:44,155] Trial 31 finished with value: 0.7245741852909324 and parameters: {'classifier': 'XGBoost', 'learning_rate': 0.06742902157488657, 'max_depth': 6, 'n_estimators': 92}. Best is trial 22 with value: 0.733476723139025.\n",
      "[I 2024-11-22 00:08:44,960] Trial 32 finished with value: 0.7166864837436856 and parameters: {'classifier': 'XGBoost', 'learning_rate': 0.06457057849427544, 'max_depth': 6, 'n_estimators': 92}. Best is trial 22 with value: 0.733476723139025.\n",
      "[I 2024-11-22 00:08:45,645] Trial 33 finished with value: 0.7402738543331238 and parameters: {'classifier': 'XGBoost', 'learning_rate': 0.03608269710890376, 'max_depth': 8, 'n_estimators': 75}. Best is trial 33 with value: 0.7402738543331238.\n",
      "[I 2024-11-22 00:08:46,397] Trial 34 finished with value: 0.7450791799516816 and parameters: {'classifier': 'XGBoost', 'learning_rate': 0.031490081075750236, 'max_depth': 8, 'n_estimators': 71}. Best is trial 34 with value: 0.7450791799516816.\n",
      "[I 2024-11-22 00:08:47,280] Trial 35 finished with value: 0.7443900000757341 and parameters: {'classifier': 'XGBoost', 'learning_rate': 0.03335507230086232, 'max_depth': 8, 'n_estimators': 67}. Best is trial 34 with value: 0.7450791799516816.\n",
      "[I 2024-11-22 00:08:47,959] Trial 36 finished with value: 0.732730742723851 and parameters: {'classifier': 'XGBoost', 'learning_rate': 0.031745919734762915, 'max_depth': 8, 'n_estimators': 54}. Best is trial 34 with value: 0.7450791799516816.\n",
      "[I 2024-11-22 00:08:49,132] Trial 37 finished with value: 0.631834051544596 and parameters: {'classifier': 'XGBoost', 'learning_rate': 0.012620988263429687, 'max_depth': 8, 'n_estimators': 70}. Best is trial 34 with value: 0.7450791799516816.\n",
      "[I 2024-11-22 00:08:55,981] Trial 38 finished with value: 0.5938307040994842 and parameters: {'classifier': 'CatBoost', 'cat_iterations': 141, 'cat_learning_rate': 0.08561178495107019, 'cat_depth': 9}. Best is trial 34 with value: 0.7450791799516816.\n",
      "[I 2024-11-22 00:08:56,713] Trial 39 finished with value: 0.7238471383888337 and parameters: {'classifier': 'XGBoost', 'learning_rate': 0.04042002791311745, 'max_depth': 9, 'n_estimators': 61}. Best is trial 34 with value: 0.7450791799516816.\n",
      "[I 2024-11-22 00:08:57,657] Trial 40 finished with value: 0.596988814080475 and parameters: {'classifier': 'XGBoost', 'learning_rate': 0.026838095052905027, 'max_depth': 9, 'n_estimators': 78}. Best is trial 34 with value: 0.7450791799516816.\n",
      "[I 2024-11-22 00:08:58,402] Trial 41 finished with value: 0.7190607462833514 and parameters: {'classifier': 'XGBoost', 'learning_rate': 0.035463345404125185, 'max_depth': 8, 'n_estimators': 50}. Best is trial 34 with value: 0.7450791799516816.\n",
      "[I 2024-11-22 00:08:59,433] Trial 42 finished with value: 0.732730742723851 and parameters: {'classifier': 'XGBoost', 'learning_rate': 0.0266251656554485, 'max_depth': 8, 'n_estimators': 59}. Best is trial 34 with value: 0.7450791799516816.\n",
      "[I 2024-11-22 00:08:59,997] Trial 43 finished with value: 0.7526222915609546 and parameters: {'classifier': 'XGBoost', 'learning_rate': 0.040566117474977396, 'max_depth': 8, 'n_estimators': 82}. Best is trial 43 with value: 0.7526222915609546.\n",
      "[I 2024-11-22 00:09:00,833] Trial 44 finished with value: 0.7152702569656394 and parameters: {'classifier': 'XGBoost', 'learning_rate': 0.042750986088184964, 'max_depth': 9, 'n_estimators': 77}. Best is trial 43 with value: 0.7526222915609546.\n",
      "[I 2024-11-22 00:09:01,589] Trial 45 finished with value: 0.6223180678728576 and parameters: {'classifier': 'XGBoost', 'learning_rate': 0.016700588195057795, 'max_depth': 10, 'n_estimators': 83}. Best is trial 43 with value: 0.7526222915609546.\n",
      "[I 2024-11-22 00:09:02,391] Trial 46 finished with value: 0.6482418339758107 and parameters: {'classifier': 'LightGBM', 'lgb_num_leaves': 48, 'lgb_learning_rate': 0.10201660929403356, 'lgb_n_estimators': 170}. Best is trial 43 with value: 0.7526222915609546.\n",
      "[I 2024-11-22 00:09:02,889] Trial 47 finished with value: 0.7338213130769988 and parameters: {'classifier': 'XGBoost', 'learning_rate': 0.04250776368608354, 'max_depth': 7, 'n_estimators': 66}. Best is trial 43 with value: 0.7526222915609546.\n",
      "[I 2024-11-22 00:09:03,393] Trial 48 finished with value: 0.7365590990677138 and parameters: {'classifier': 'XGBoost', 'learning_rate': 0.04524052287192696, 'max_depth': 7, 'n_estimators': 65}. Best is trial 43 with value: 0.7526222915609546.\n",
      "[I 2024-11-22 00:09:03,954] Trial 49 finished with value: 0.6195234813429162 and parameters: {'classifier': 'XGBoost', 'learning_rate': 0.10950291275140853, 'max_depth': 8, 'n_estimators': 80}. Best is trial 43 with value: 0.7526222915609546.\n",
      "[I 2024-11-22 00:09:07,507] Trial 50 finished with value: 0.6428419960466825 and parameters: {'classifier': 'CatBoost', 'cat_iterations': 160, 'cat_learning_rate': 0.14234670166458385, 'cat_depth': 6}. Best is trial 43 with value: 0.7526222915609546.\n",
      "[I 2024-11-22 00:09:08,066] Trial 51 finished with value: 0.7283268075824932 and parameters: {'classifier': 'XGBoost', 'learning_rate': 0.044338122942041557, 'max_depth': 7, 'n_estimators': 62}. Best is trial 43 with value: 0.7526222915609546.\n",
      "[I 2024-11-22 00:09:09,216] Trial 52 finished with value: 0.7204769730613977 and parameters: {'classifier': 'XGBoost', 'learning_rate': 0.025816093859655442, 'max_depth': 7, 'n_estimators': 69}. Best is trial 43 with value: 0.7526222915609546.\n",
      "[I 2024-11-22 00:09:10,173] Trial 53 finished with value: 0.7272930377685719 and parameters: {'classifier': 'XGBoost', 'learning_rate': 0.045097088982885725, 'max_depth': 7, 'n_estimators': 66}. Best is trial 43 with value: 0.7526222915609546.\n",
      "[I 2024-11-22 00:09:11,648] Trial 54 finished with value: 0.6506160965154764 and parameters: {'classifier': 'XGBoost', 'learning_rate': 0.034475734711608044, 'max_depth': 9, 'n_estimators': 199}. Best is trial 43 with value: 0.7526222915609546.\n",
      "[I 2024-11-22 00:09:12,474] Trial 55 finished with value: 0.632886754871593 and parameters: {'classifier': 'XGBoost', 'learning_rate': 0.0100504553262908, 'max_depth': 8, 'n_estimators': 74}. Best is trial 43 with value: 0.7526222915609546.\n",
      "[I 2024-11-22 00:09:13,492] Trial 56 finished with value: 0.6349921615255867 and parameters: {'classifier': 'LightGBM', 'lgb_num_leaves': 37, 'lgb_learning_rate': 0.011478705776387876, 'lgb_n_estimators': 164}. Best is trial 43 with value: 0.7526222915609546.\n",
      "[I 2024-11-22 00:09:14,185] Trial 57 finished with value: 0.6608780606023886 and parameters: {'classifier': 'XGBoost', 'learning_rate': 0.14170739875032448, 'max_depth': 8, 'n_estimators': 83}. Best is trial 43 with value: 0.7526222915609546.\n",
      "[I 2024-11-22 00:09:14,750] Trial 58 finished with value: 0.7153081239917904 and parameters: {'classifier': 'XGBoost', 'learning_rate': 0.02437376940830223, 'max_depth': 7, 'n_estimators': 60}. Best is trial 43 with value: 0.7526222915609546.\n",
      "[I 2024-11-22 00:09:15,340] Trial 59 finished with value: 0.5996887330450391 and parameters: {'classifier': 'XGBoost', 'learning_rate': 0.06035652534808911, 'max_depth': 10, 'n_estimators': 55}. Best is trial 43 with value: 0.7526222915609546.\n",
      "[I 2024-11-22 00:09:16,158] Trial 60 finished with value: 0.7257821434251484 and parameters: {'classifier': 'XGBoost', 'learning_rate': 0.020595727440105863, 'max_depth': 9, 'n_estimators': 67}. Best is trial 43 with value: 0.7526222915609546.\n",
      "[I 2024-11-22 00:09:16,805] Trial 61 finished with value: 0.7304132807234118 and parameters: {'classifier': 'XGBoost', 'learning_rate': 0.056103202184353315, 'max_depth': 7, 'n_estimators': 103}. Best is trial 43 with value: 0.7526222915609546.\n",
      "[I 2024-11-22 00:09:17,487] Trial 62 finished with value: 0.7180459099825056 and parameters: {'classifier': 'XGBoost', 'learning_rate': 0.04884017566411905, 'max_depth': 8, 'n_estimators': 85}. Best is trial 43 with value: 0.7526222915609546.\n",
      "[I 2024-11-22 00:09:18,209] Trial 63 finished with value: 0.7255890215917783 and parameters: {'classifier': 'XGBoost', 'learning_rate': 0.07655679541832036, 'max_depth': 7, 'n_estimators': 73}. Best is trial 43 with value: 0.7526222915609546.\n",
      "[I 2024-11-22 00:09:19,322] Trial 64 finished with value: 0.7252633651668801 and parameters: {'classifier': 'XGBoost', 'learning_rate': 0.035115998507716274, 'max_depth': 8, 'n_estimators': 112}. Best is trial 43 with value: 0.7526222915609546.\n",
      "[I 2024-11-22 00:09:20,110] Trial 65 finished with value: 0.7139297642398953 and parameters: {'classifier': 'XGBoost', 'learning_rate': 0.043878930376557365, 'max_depth': 7, 'n_estimators': 98}. Best is trial 43 with value: 0.7526222915609546.\n",
      "[I 2024-11-22 00:09:20,835] Trial 66 finished with value: 0.7022705068880122 and parameters: {'classifier': 'XGBoost', 'learning_rate': 0.05874431452416068, 'max_depth': 9, 'n_estimators': 78}. Best is trial 43 with value: 0.7526222915609546.\n",
      "[I 2024-11-22 00:09:21,561] Trial 67 finished with value: 0.6669860119205399 and parameters: {'classifier': 'LightGBM', 'lgb_num_leaves': 43, 'lgb_learning_rate': 0.19798341600522945, 'lgb_n_estimators': 108}. Best is trial 43 with value: 0.7526222915609546.\n",
      "[I 2024-11-22 00:09:23,906] Trial 68 finished with value: 0.6267030695011399 and parameters: {'classifier': 'CatBoost', 'cat_iterations': 124, 'cat_learning_rate': 0.0650394781347545, 'cat_depth': 3}. Best is trial 43 with value: 0.7526222915609546.\n",
      "[I 2024-11-22 00:09:24,455] Trial 69 finished with value: 0.7399103308820746 and parameters: {'classifier': 'XGBoost', 'learning_rate': 0.029383159639650477, 'max_depth': 8, 'n_estimators': 65}. Best is trial 43 with value: 0.7526222915609546.\n",
      "[I 2024-11-22 00:09:24,964] Trial 70 finished with value: 0.6401042100559675 and parameters: {'classifier': 'XGBoost', 'learning_rate': 0.1981693175918913, 'max_depth': 8, 'n_estimators': 62}. Best is trial 43 with value: 0.7526222915609546.\n",
      "[I 2024-11-22 00:09:25,523] Trial 71 finished with value: 0.7252254981407289 and parameters: {'classifier': 'XGBoost', 'learning_rate': 0.029915372686363, 'max_depth': 8, 'n_estimators': 65}. Best is trial 43 with value: 0.7526222915609546.\n",
      "[I 2024-11-22 00:09:26,070] Trial 72 finished with value: 0.6411190463568135 and parameters: {'classifier': 'XGBoost', 'learning_rate': 0.01800038907780739, 'max_depth': 6, 'n_estimators': 72}. Best is trial 43 with value: 0.7526222915609546.\n",
      "[I 2024-11-22 00:09:26,645] Trial 73 finished with value: 0.7232147590521125 and parameters: {'classifier': 'XGBoost', 'learning_rate': 0.039111674674000466, 'max_depth': 7, 'n_estimators': 55}. Best is trial 43 with value: 0.7526222915609546.\n",
      "[I 2024-11-22 00:09:27,294] Trial 74 finished with value: 0.6982300951977036 and parameters: {'classifier': 'XGBoost', 'learning_rate': 0.053321343017647044, 'max_depth': 4, 'n_estimators': 88}. Best is trial 43 with value: 0.7526222915609546.\n",
      "[I 2024-11-22 00:09:27,919] Trial 75 finished with value: 0.7423035269348157 and parameters: {'classifier': 'XGBoost', 'learning_rate': 0.031888104293880774, 'max_depth': 8, 'n_estimators': 72}. Best is trial 43 with value: 0.7526222915609546.\n",
      "[I 2024-11-22 00:09:28,509] Trial 76 finished with value: 0.7293037768571883 and parameters: {'classifier': 'XGBoost', 'learning_rate': 0.031037632979388503, 'max_depth': 8, 'n_estimators': 57}. Best is trial 43 with value: 0.7526222915609546.\n",
      "[I 2024-11-22 00:09:29,124] Trial 77 finished with value: 0.716228292727259 and parameters: {'classifier': 'XGBoost', 'learning_rate': 0.023133806951076207, 'max_depth': 9, 'n_estimators': 75}. Best is trial 43 with value: 0.7526222915609546.\n",
      "[I 2024-11-22 00:09:29,574] Trial 78 finished with value: 0.7378995917934581 and parameters: {'classifier': 'XGBoost', 'learning_rate': 0.03743300535427687, 'max_depth': 8, 'n_estimators': 68}. Best is trial 43 with value: 0.7526222915609546.\n",
      "[I 2024-11-22 00:09:30,178] Trial 79 finished with value: 0.6879302640846404 and parameters: {'classifier': 'XGBoost', 'learning_rate': 0.04865887580115553, 'max_depth': 8, 'n_estimators': 167}. Best is trial 43 with value: 0.7526222915609546.\n",
      "[I 2024-11-22 00:09:33,892] Trial 80 finished with value: 0.6352799509243342 and parameters: {'classifier': 'CatBoost', 'cat_iterations': 171, 'cat_learning_rate': 0.14972202607828944, 'cat_depth': 8}. Best is trial 43 with value: 0.7526222915609546.\n",
      "[I 2024-11-22 00:09:34,475] Trial 81 finished with value: 0.7365212320415628 and parameters: {'classifier': 'XGBoost', 'learning_rate': 0.03752538060330712, 'max_depth': 8, 'n_estimators': 66}. Best is trial 43 with value: 0.7526222915609546.\n",
      "[I 2024-11-22 00:09:34,941] Trial 82 finished with value: 0.7235025484508599 and parameters: {'classifier': 'XGBoost', 'learning_rate': 0.035294705253838904, 'max_depth': 8, 'n_estimators': 50}. Best is trial 43 with value: 0.7526222915609546.\n",
      "[I 2024-11-22 00:09:35,464] Trial 83 finished with value: 0.6321407744564188 and parameters: {'classifier': 'XGBoost', 'learning_rate': 0.17511453690727688, 'max_depth': 9, 'n_estimators': 71}. Best is trial 43 with value: 0.7526222915609546.\n",
      "[I 2024-11-22 00:09:35,993] Trial 84 finished with value: 0.7183336993812528 and parameters: {'classifier': 'XGBoost', 'learning_rate': 0.01712432062002768, 'max_depth': 8, 'n_estimators': 81}. Best is trial 43 with value: 0.7526222915609546.\n",
      "[I 2024-11-22 00:09:36,468] Trial 85 finished with value: 0.7169932066555086 and parameters: {'classifier': 'XGBoost', 'learning_rate': 0.031918007393644025, 'max_depth': 8, 'n_estimators': 64}. Best is trial 43 with value: 0.7526222915609546.\n",
      "[I 2024-11-22 00:09:37,088] Trial 86 finished with value: 0.6913761634643786 and parameters: {'classifier': 'LightGBM', 'lgb_num_leaves': 34, 'lgb_learning_rate': 0.14111551736620498, 'lgb_n_estimators': 128}. Best is trial 43 with value: 0.7526222915609546.\n",
      "[I 2024-11-22 00:09:37,602] Trial 87 finished with value: 0.7427049174120159 and parameters: {'classifier': 'XGBoost', 'learning_rate': 0.03861948872599294, 'max_depth': 8, 'n_estimators': 76}. Best is trial 43 with value: 0.7526222915609546.\n",
      "[I 2024-11-22 00:09:38,154] Trial 88 finished with value: 0.7001840337470937 and parameters: {'classifier': 'XGBoost', 'learning_rate': 0.04795016558873625, 'max_depth': 9, 'n_estimators': 88}. Best is trial 43 with value: 0.7526222915609546.\n",
      "[I 2024-11-22 00:09:38,668] Trial 89 finished with value: 0.7231768920259617 and parameters: {'classifier': 'XGBoost', 'learning_rate': 0.027972881850959613, 'max_depth': 8, 'n_estimators': 75}. Best is trial 43 with value: 0.7526222915609546.\n",
      "[I 2024-11-22 00:09:39,174] Trial 90 finished with value: 0.720764762460145 and parameters: {'classifier': 'XGBoost', 'learning_rate': 0.020634084026023406, 'max_depth': 8, 'n_estimators': 70}. Best is trial 43 with value: 0.7526222915609546.\n",
      "[I 2024-11-22 00:09:39,671] Trial 91 finished with value: 0.7447156565006324 and parameters: {'classifier': 'XGBoost', 'learning_rate': 0.0400213226089909, 'max_depth': 8, 'n_estimators': 59}. Best is trial 43 with value: 0.7526222915609546.\n",
      "[I 2024-11-22 00:09:40,064] Trial 92 finished with value: 0.7443900000757341 and parameters: {'classifier': 'XGBoost', 'learning_rate': 0.04062465673321548, 'max_depth': 8, 'n_estimators': 58}. Best is trial 43 with value: 0.7526222915609546.\n",
      "[I 2024-11-22 00:09:40,444] Trial 93 finished with value: 0.7433562302618127 and parameters: {'classifier': 'XGBoost', 'learning_rate': 0.04008827903005159, 'max_depth': 8, 'n_estimators': 59}. Best is trial 43 with value: 0.7526222915609546.\n",
      "[I 2024-11-22 00:09:40,862] Trial 94 finished with value: 0.732655008671549 and parameters: {'classifier': 'XGBoost', 'learning_rate': 0.029989335718135755, 'max_depth': 9, 'n_estimators': 57}. Best is trial 43 with value: 0.7526222915609546.\n",
      "[I 2024-11-22 00:09:41,278] Trial 95 finished with value: 0.7409251671829205 and parameters: {'classifier': 'XGBoost', 'learning_rate': 0.039700563110370325, 'max_depth': 8, 'n_estimators': 60}. Best is trial 43 with value: 0.7526222915609546.\n",
      "[I 2024-11-22 00:09:41,743] Trial 96 finished with value: 0.7454427034027309 and parameters: {'classifier': 'XGBoost', 'learning_rate': 0.06335911664585665, 'max_depth': 8, 'n_estimators': 53}. Best is trial 43 with value: 0.7526222915609546.\n",
      "[I 2024-11-22 00:09:42,184] Trial 97 finished with value: 0.7354685287145659 and parameters: {'classifier': 'XGBoost', 'learning_rate': 0.06114602996040777, 'max_depth': 8, 'n_estimators': 52}. Best is trial 43 with value: 0.7526222915609546.\n",
      "[I 2024-11-22 00:09:42,625] Trial 98 finished with value: 0.6999341113744972 and parameters: {'classifier': 'XGBoost', 'learning_rate': 0.10422450493352771, 'max_depth': 9, 'n_estimators': 60}. Best is trial 43 with value: 0.7526222915609546.\n",
      "[I 2024-11-22 00:09:45,324] Trial 99 finished with value: 0.6322165085087208 and parameters: {'classifier': 'CatBoost', 'cat_iterations': 183, 'cat_learning_rate': 0.057912149530653774, 'cat_depth': 5}. Best is trial 43 with value: 0.7526222915609546.\n"
     ]
    }
   ],
   "source": [
    "study = optuna.create_study(direction='maximize', sampler=TPESampler())\n",
    "study.optimize(objective, n_trials=100)"
   ]
  },
  {
   "cell_type": "code",
   "execution_count": 80,
   "metadata": {},
   "outputs": [
    {
     "name": "stdout",
     "output_type": "stream",
     "text": [
      "Best trial:  [0.7526222915609546]\n",
      "Best hyperparameters:  {'classifier': 'XGBoost', 'learning_rate': 0.040566117474977396, 'max_depth': 8, 'n_estimators': 82}\n"
     ]
    }
   ],
   "source": [
    "best_trial = study.best_trial\n",
    "print('Best trial: ', best_trial.values)\n",
    "print('Best hyperparameters: ', best_trial.params)"
   ]
  },
  {
   "cell_type": "code",
   "execution_count": 77,
   "metadata": {},
   "outputs": [
    {
     "name": "stdout",
     "output_type": "stream",
     "text": [
      "Training Metrics:\n",
      "F1 Score: 0.9251677852348993\n",
      "ROC AUC Score: 0.974547444369859\n",
      "Accuracy: 0.9230702889176369\n",
      "\n",
      "Test Metrics:\n",
      "F1 Score: 0.15337423312883436\n",
      "ROC AUC Score: 0.746737755697094\n",
      "Accuracy: 0.8210116731517509\n"
     ]
    }
   ],
   "source": [
    "# Create a new MLflow Experiment\n",
    "mlflow.set_experiment(\"insurance-fraud-detection-experiment\")\n",
    "\n",
    "# Parameters for XGBoost\n",
    "params = {\n",
    "    'objective': 'binary:logistic',\n",
    "    'eval_metric': 'logloss',\n",
    "    'learning_rate': 0.022033511850738794,\n",
    "    'max_depth': 8,\n",
    "    'n_estimators': 137,\n",
    "}\n",
    "\n",
    "# Initialize the XGBoost model with the specified parameters\n",
    "xgb_model = xgb.XGBClassifier(**params)\n",
    "\n",
    "# Train the model\n",
    "xgb_model.fit(X_train, y_train)\n",
    "\n",
    "# Make predictions on training data\n",
    "y_train_pred = xgb_model.predict(X_train)\n",
    "y_train_pred_prob = xgb_model.predict_proba(X_train)[:, 1]\n",
    "\n",
    "# Make predictions on test data\n",
    "y_test_pred = xgb_model.predict(X_test)\n",
    "y_test_pred_prob = xgb_model.predict_proba(X_test)[:, 1]\n",
    "\n",
    "# Evaluate the model on training data\n",
    "train_f1 = f1_score(y_train, y_train_pred)\n",
    "train_roc_auc = roc_auc_score(y_train, y_train_pred_prob)\n",
    "train_accuracy = accuracy_score(y_train, y_train_pred)\n",
    "\n",
    "# Evaluate the model on test data\n",
    "test_f1 = f1_score(y_test, y_test_pred)\n",
    "test_roc_auc = roc_auc_score(y_test, y_test_pred_prob)\n",
    "test_accuracy = accuracy_score(y_test, y_test_pred)\n",
    "\n",
    "print(\"Training Metrics:\")\n",
    "print(f\"F1 Score: {train_f1}\")\n",
    "print(f\"ROC AUC Score: {train_roc_auc}\")\n",
    "print(f\"Accuracy: {train_accuracy}\")\n",
    "\n",
    "print(\"\\nTest Metrics:\")\n",
    "print(f\"F1 Score: {test_f1}\")\n",
    "print(f\"ROC AUC Score: {test_roc_auc}\")\n",
    "print(f\"Accuracy: {test_accuracy}\")"
   ]
  },
  {
   "cell_type": "code",
   "execution_count": 78,
   "metadata": {},
   "outputs": [
    {
     "data": {
      "image/png": "[encoded data removed]",
      "text/plain": [
       "<Figure size 800x600 with 2 Axes>"
      ]
     },
     "metadata": {},
     "output_type": "display_data"
    }
   ],
   "source": [
    "# Plot confusion matrix for test data\n",
    "train_cm = confusion_matrix(y_test, y_test_pred)\n",
    "plt.figure(figsize=(8, 6))\n",
    "sns.heatmap(train_cm, annot=True, fmt='d', cmap='Blues')\n",
    "plt.title('Confusion Matrix - Test Data')\n",
    "plt.xlabel('Predicted')\n",
    "plt.ylabel('Actual')\n",
    "plt.show()"
   ]
  },
  {
   "cell_type": "code",
   "execution_count": 84,
   "metadata": {},
   "outputs": [
    {
     "name": "stderr",
     "output_type": "stream",
     "text": [
      "c:\\Users\\Yassine\\AppData\\Local\\Programs\\Python\\Python312\\Lib\\site-packages\\mlflow\\types\\utils.py:407: UserWarning: Hint: Inferred schema contains integer column(s). Integer columns in Python cannot represent missing values. If your input data contains missing values at inference time, it will be encoded as floats and will cause a schema enforcement error. The best way to avoid this problem is to infer the model schema based on a realistic data sample (training dataset) that includes missing values. Alternatively, you can declare integer columns as doubles (float64) whenever these columns may have missing values. See `Handling Integers With Missing Values <https://www.mlflow.org/docs/latest/models.html#handling-integers-with-missing-values>`_ for more details.\n",
      "  warnings.warn(\n",
      "c:\\Users\\Yassine\\AppData\\Local\\Programs\\Python\\Python312\\Lib\\site-packages\\xgboost\\core.py:158: UserWarning: [00:21:21] WARNING: C:\\buildkite-agent\\builds\\buildkite-windows-cpu-autoscaling-group-i-0ed59c031377d09b8-1\\xgboost\\xgboost-ci-windows\\src\\c_api\\c_api.cc:1374: Saving model in the UBJSON format as default.  You can use file extension: `json`, `ubj` or `deprecated` to choose between formats.\n",
      "  warnings.warn(smsg, UserWarning)\n",
      "Successfully registered model 'XGBoost_optuna'.\n",
      "2024/11/22 00:22:16 INFO mlflow.store.model_registry.abstract_store: Waiting up to 300 seconds for model version to finish creation. Model name: XGBoost_optuna, version 1\n",
      "Created version '1' of model 'XGBoost_optuna'.\n",
      "Downloading artifacts: 100%|██████████| 7/7 [00:06<00:00,  1.10it/s]\n"
     ]
    }
   ],
   "source": [
    "# Log parameters and metrics with MLflow\n",
    "mlflow.log_params(params)\n",
    "mlflow.log_metric(\"train_accuracy\", train_accuracy)\n",
    "mlflow.log_metric(\"train_F1 Score\", train_f1)\n",
    "mlflow.log_metric(\"train_ROC AUC Score\", train_roc_auc)\n",
    "mlflow.log_metric(\"test_accuracy\", test_accuracy)\n",
    "mlflow.log_metric(\"test_F1 Score\", test_f1)\n",
    "mlflow.log_metric(\"test_ROC AUC Score\", test_roc_auc)\n",
    "\n",
    "# Set a tag for the run\n",
    "mlflow.set_tag(\"Training Info\", \"XGBoost model training\")\n",
    "\n",
    "# Infer the model signature\n",
    "signature = infer_signature(X_train, xgb_model.predict(X_train))\n",
    "\n",
    "# Log the model\n",
    "model_info = mlflow.xgboost.log_model(\n",
    "    xgb_model,\n",
    "    artifact_path=\"insurance_fraud_model_xgb\",\n",
    "    signature=signature,\n",
    "    input_example=X_train,\n",
    "    registered_model_name=\"XGBoost_optuna\",\n",
    ")"
   ]
  }
 ],
 "metadata": {
  "kernelspec": {
   "display_name": "Python 3",
   "language": "python",
   "name": "python3"
  },
  "language_info": {
   "codemirror_mode": {
    "name": "ipython",
    "version": 3
   },
   "file_extension": ".py",
   "mimetype": "text/x-python",
   "name": "python",
   "nbconvert_exporter": "python",
   "pygments_lexer": "ipython3",
   "version": "3.12.7"
  }
 },
 "nbformat": 4,
 "nbformat_minor": 2
}
