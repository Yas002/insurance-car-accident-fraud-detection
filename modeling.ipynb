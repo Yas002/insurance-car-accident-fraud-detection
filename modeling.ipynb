{
 "cells": [
  {
   "cell_type": "code",
   "execution_count": 4,
   "metadata": {},
   "outputs": [
    {
     "name": "stderr",
     "output_type": "stream",
     "text": [
      "c:\\Users\\Yassine\\AppData\\Local\\Programs\\Python\\Python312\\Lib\\site-packages\\tqdm\\auto.py:21: TqdmWarning: IProgress not found. Please update jupyter and ipywidgets. See https://ipywidgets.readthedocs.io/en/stable/user_install.html\n",
      "  from .autonotebook import tqdm as notebook_tqdm\n"
     ]
    }
   ],
   "source": [
    "import pandas as pd\n",
    "from sklearn.linear_model import LogisticRegression\n",
    "from sklearn.svm import SVC\n",
    "from sklearn.neighbors import KNeighborsClassifier\n",
    "from sklearn.neural_network import MLPClassifier\n",
    "from sklearn.ensemble import RandomForestClassifier\n",
    "from imblearn.ensemble import BalancedRandomForestClassifier\n",
    "from sklearn.ensemble import GradientBoostingClassifier, HistGradientBoostingClassifier\n",
    "from sklearn.gaussian_process import GaussianProcessClassifier\n",
    "import lightgbm as lgb\n",
    "import xgboost as xgb\n",
    "from catboost import CatBoostClassifier\n",
    "\n",
    "# Machine Learning - Optuna\n",
    "import optuna\n",
    "from optuna.samplers import TPESampler"
   ]
  },
  {
   "cell_type": "code",
   "execution_count": null,
   "metadata": {},
   "outputs": [],
   "source": [
    "train = pd.read_csv('df_train_1.csv')\n",
    "test = pd.read_csv('df_test_1.csv')\n",
    "\n",
    "X_train = train.drop(columns=['FraudFound_P'])\n",
    "y_train = train['FraudFound_P']\n",
    "X_test = test.drop(columns=['FraudFound_P'])\n",
    "y_test = test['FraudFound_P']"
   ]
  },
  {
   "cell_type": "code",
   "execution_count": null,
   "metadata": {},
   "outputs": [],
   "source": [
    "def objective(trial):\n",
    "    classifier_name = trial.suggest_categorical('classifier', [\n",
    "        'LogisticRegression', 'SVM', 'KNeighbors', 'RandomForest', 'LightGBM', 'CatBoost'\n",
    "    ])\n",
    "    \n",
    "    if classifier_name == 'LogisticRegression':\n",
    "        C = trial.suggest_float('lr_C', 0.1, 10)\n",
    "        solver = trial.suggest_categorical('lr_solver', ['liblinear'])\n",
    "        classifier_obj = LogisticRegression(C=C, solver=solver)\n",
    "    \n",
    "    elif classifier_name == 'SVM':\n",
    "        C = trial.suggest_float('svm_C', 0.1, 10)\n",
    "        kernel = trial.suggest_categorical('svm_kernel', ['linear', 'rbf'])\n",
    "        classifier_obj = SVC(C=C, kernel=kernel, probability=True)\n",
    "    \n",
    "    elif classifier_name == 'KNeighbors':\n",
    "        n_neighbors = trial.suggest_int('kn_n_neighbors', 3, 7)\n",
    "        classifier_obj = KNeighborsClassifier(n_neighbors=n_neighbors)\n",
    "    \n",
    "    elif classifier_name == 'RandomForest':\n",
    "        n_estimators = trial.suggest_int('rf_n_estimators', 100, 200)\n",
    "        max_depth = trial.suggest_categorical('rf_max_depth', [10, 20, None])\n",
    "        classifier_obj = RandomForestClassifier(n_estimators=n_estimators, max_depth=max_depth)\n",
    "    \n",
    "    elif classifier_name == 'LightGBM':\n",
    "        num_leaves = trial.suggest_int('lgb_num_leaves', 31, 50)\n",
    "        learning_rate = trial.suggest_float('lgb_learning_rate', 0.01, 0.2)\n",
    "        n_estimators = trial.suggest_int('lgb_n_estimators', 100, 200)\n",
    "        classifier_obj = lgb.LGBMClassifier(num_leaves=num_leaves, learning_rate=learning_rate, n_estimators=n_estimators, verbose=-1)\n",
    "    \n",
    "    elif classifier_name == 'CatBoost':\n",
    "        iterations = trial.suggest_int('cat_iterations', 100, 200)\n",
    "        learning_rate = trial.suggest_float('cat_learning_rate', 0.01, 0.2)\n",
    "        depth = trial.suggest_int('cat_depth', 3, 9)\n",
    "        classifier_obj = CatBoostClassifier(iterations=iterations, learning_rate=learning_rate, depth=depth, verbose=0)\n",
    "    \n",
    "    classifier_obj.fit(X_rfecv, y_smote)\n",
    "    y_prob = classifier_obj.predict_proba(X_rfecv_test)[:, 1]\n",
    "    \n",
    "    # Threshold optimization\n",
    "    thresholds = np.arange(0.1, 0.9, 0.01)\n",
    "    best_threshold = 0.5\n",
    "    best_score = 0.0\n",
    "    \n",
    "    for threshold in thresholds:\n",
    "        y_pred = (y_prob >= threshold).astype(int)\n",
    "        score = f1_score(y_test, y_pred)\n",
    "        if score > best_score:\n",
    "            best_score = score\n",
    "            best_threshold = threshold\n",
    "    \n",
    "    trial.set_user_attr('best_threshold', best_threshold)\n",
    "    trial.set_user_attr('classifier_obj', classifier_obj)\n",
    "    return roc_auc_score(y_test, (y_prob >= best_threshold).astype(int))"
   ]
  },
  {
   "cell_type": "code",
   "execution_count": null,
   "metadata": {},
   "outputs": [],
   "source": [
    "# Optuna Study\n",
    "study = optuna.create_study(direction='maximize', sampler=TPESampler())\n",
    "study.optimize(objective, n_trials=100)"
   ]
  },
  {
   "cell_type": "code",
   "execution_count": null,
   "metadata": {},
   "outputs": [],
   "source": [
    "best_trial = study.best_trial\n",
    "print('Best trial: ', best_trial.values)\n",
    "print('Best hyperparameters: ', best_trial.params)"
   ]
  },
  {
   "cell_type": "code",
   "execution_count": null,
   "metadata": {},
   "outputs": [],
   "source": [
    "# Optimized Alogrithm Combination\n",
    "best_algorithms = [trial.params['classifier'] for trial in study.trials]\n",
    "algorithm_counts = pd.Series(best_algorithms).value_counts()\n",
    "print('Optimal algorithm proportions: ', algorithm_counts)"
   ]
  }
 ],
 "metadata": {
  "kernelspec": {
   "display_name": "Python 3",
   "language": "python",
   "name": "python3"
  },
  "language_info": {
   "codemirror_mode": {
    "name": "ipython",
    "version": 3
   },
   "file_extension": ".py",
   "mimetype": "text/x-python",
   "name": "python",
   "nbconvert_exporter": "python",
   "pygments_lexer": "ipython3",
   "version": "3.12.7"
  }
 },
 "nbformat": 4,
 "nbformat_minor": 2
}
